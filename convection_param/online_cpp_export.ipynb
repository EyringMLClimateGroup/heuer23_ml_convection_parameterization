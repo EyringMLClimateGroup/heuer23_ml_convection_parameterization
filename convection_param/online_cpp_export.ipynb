{
 "cells": [
  {
   "cell_type": "code",
   "execution_count": 1,
   "id": "46c6b8cf-acee-4478-b071-3c22b3105f81",
   "metadata": {
    "tags": []
   },
   "outputs": [],
   "source": [
    "import numpy as np\n",
    "import numpy.random as npr\n",
    "import matplotlib.pyplot as plt\n",
    "import torch\n",
    "import torch.nn as nn\n",
    "import torch.nn.functional as F\n",
    "import torch.optim as optim\n",
    "from tqdm.notebook import tqdm\n",
    "import os\n",
    "\n",
    "%load_ext autoreload\n",
    "%autoreload 2"
   ]
  },
  {
   "cell_type": "code",
   "execution_count": 2,
   "id": "d1a01a9f-9263-49e3-b356-bb979429d1ad",
   "metadata": {
    "tags": []
   },
   "outputs": [
    {
     "name": "stdout",
     "output_type": "stream",
     "text": [
      "Using cpu device\n"
     ]
    }
   ],
   "source": [
    "device = \"cuda\" if torch.cuda.is_available() else \"cpu\"\n",
    "print(f\"Using {device} device\")"
   ]
  },
  {
   "cell_type": "code",
   "execution_count": 3,
   "id": "e6b112f9-c96e-48a8-8231-fe1d556282d0",
   "metadata": {
    "tags": []
   },
   "outputs": [],
   "source": [
    "from convection_param.NetworksTorch import Unet, Sequential\n",
    "\n",
    "n_channels=6\n",
    "model = Unet(n_channels=n_channels,\n",
    "                n_classes=8,\n",
    "                output_channels_total=181,\n",
    "                n_levels=2,\n",
    "                n_features=512,\n",
    "                bn1=False,\n",
    "                bn2=False,\n",
    "                column_height=23,\n",
    "                activation=F.leaky_relu,\n",
    "                linear=False).to(device)"
   ]
  },
  {
   "cell_type": "code",
   "execution_count": 4,
   "id": "610e8298-667f-4965-82d6-793f9cbd96d7",
   "metadata": {
    "tags": []
   },
   "outputs": [
    {
     "name": "stdout",
     "output_type": "stream",
     "text": [
      "model_name:  my_test_model\n",
      "Number of parameters in model from state_dict approximated: 41521095\n"
     ]
    },
    {
     "data": {
      "text/plain": [
       "<All keys matched successfully>"
      ]
     },
     "execution_count": 4,
     "metadata": {},
     "output_type": "execute_result"
    }
   ],
   "source": [
    "model_path = \"/work/bd1179/b309215/heuer23_convection_parameterization/Models/my_test_model/\"\n",
    "model_path_normed = os.path.normpath(model_path)\n",
    "model_name = os.path.basename(model_path_normed)\n",
    "load_path = os.path.join(model_path, \"model.state_dict\")\n",
    "print('model_name: ', model_name)\n",
    "\n",
    "state_dict = torch.load(load_path, map_location=torch.device(device))['model_state_dict']\n",
    "print(f'Number of parameters in model from state_dict approximated: {sum(p.numel() for p in state_dict.values())}')\n",
    "\n",
    "checkpoint = torch.load(load_path, map_location=torch.device(device))\n",
    "model.load_state_dict(checkpoint['model_state_dict'])"
   ]
  },
  {
   "cell_type": "code",
   "execution_count": 5,
   "id": "ecfa8020-bd28-40aa-b42c-8b74d49db779",
   "metadata": {
    "tags": []
   },
   "outputs": [],
   "source": [
    "import pickle\n",
    "with open('/work/bd1179/b309215/heuer23_convection_parameterization/local_data/TrainData/20230803-171736-R2B5_y13y16_vcg-halflvl-fluxes_scalerdict_X.pickle', 'rb') as handle:\n",
    "    scalerdict_X = pickle.load(handle)\n",
    "\n",
    "# with open('scalerdict_Y.pickle', 'rb') as handle:\n",
    "with open('/work/bd1179/b309215/heuer23_convection_parameterization/local_data/TrainData/20230803-171736-R2B5_y13y16_vcg-halflvl-fluxes_scalerdict_Y.pickle', 'rb') as handle:\n",
    "    scalerdict_Y = pickle.load(handle)"
   ]
  },
  {
   "cell_type": "code",
   "execution_count": 6,
   "id": "a323d8e0-71fb-4aba-baee-6ce8e4802ba2",
   "metadata": {
    "tags": []
   },
   "outputs": [
    {
     "name": "stdout",
     "output_type": "stream",
     "text": [
      "dict_keys(['w_fl', 'qv', 'qc', 'qi', 'u', 'v'])\n",
      "dict_keys(['subg_flux_qv', 'subg_flux_qc', 'subg_flux_qi', 'subg_flux_qr', 'subg_flux_qs', 'subg_flux_h', 'subg_flux_u', 'subg_flux_v', 'clt', 'cltp', 'liq_detri', 'ice_detri', 'tot_prec'])\n",
      "[0.00499798]\n",
      "[0.03553773]\n"
     ]
    }
   ],
   "source": [
    "del scalerdict_X['h']\n",
    "print(scalerdict_X.keys())\n",
    "print(scalerdict_Y.keys())\n",
    "print(scalerdict_X['w_fl'].scaler.mean_)\n",
    "print(scalerdict_X['w_fl'].scaler.scale_)"
   ]
  },
  {
   "cell_type": "code",
   "execution_count": 7,
   "id": "7eb218a2-8ed9-4841-b172-58d9c17b8268",
   "metadata": {
    "tags": []
   },
   "outputs": [
    {
     "name": "stdout",
     "output_type": "stream",
     "text": [
      "torch.Size([6, 1])\n",
      "torch.Size([6, 1])\n"
     ]
    }
   ],
   "source": [
    "means_X = torch.from_numpy(np.array([value.scaler.mean_ for _,value in scalerdict_X.items()], dtype=np.float32))\n",
    "scales_X = torch.from_numpy(np.array([value.scaler.scale_ for _,value in scalerdict_X.items()], dtype=np.float32))\n",
    "print(means_X.shape)\n",
    "print(scales_X.shape)"
   ]
  },
  {
   "cell_type": "code",
   "execution_count": 9,
   "id": "2278da77-8578-4430-b23c-4ff0456a123c",
   "metadata": {
    "tags": []
   },
   "outputs": [],
   "source": [
    "class StandardizeLayerInput(nn.Module):\n",
    "    def __init__(self, means, scales):\n",
    "        super().__init__()\n",
    "        self.means = nn.Parameter(means, requires_grad=False)\n",
    "        self.scales = nn.Parameter(scales, requires_grad=False)\n",
    "    \n",
    "    def forward(self, x):\n",
    "        x = (x - self.means) / self.scales\n",
    "        return x"
   ]
  },
  {
   "cell_type": "code",
   "execution_count": 10,
   "id": "cc382716-6963-4109-b5b3-1ed25f1225d4",
   "metadata": {
    "tags": []
   },
   "outputs": [
    {
     "name": "stdout",
     "output_type": "stream",
     "text": [
      "torch.Size([181])\n",
      "torch.Size([181])\n"
     ]
    }
   ],
   "source": [
    "means_Y = torch.from_numpy(np.concatenate([np.repeat(value.scaler.mean_, 22) if 'subg_flux' in k else value.scaler.mean_ for k,value in scalerdict_Y.items()], dtype=np.float32))\n",
    "scales_Y = torch.from_numpy(np.concatenate([np.repeat(value.scaler.scale_, 22) if 'subg_flux' in k else value.scaler.scale_  for k,value in scalerdict_Y.items()], dtype=np.float32))\n",
    "print(means_Y.shape)\n",
    "print(scales_Y.shape)"
   ]
  },
  {
   "cell_type": "code",
   "execution_count": 11,
   "id": "ddf45820-1740-4797-b21f-1b0b557df40f",
   "metadata": {
    "tags": []
   },
   "outputs": [
    {
     "data": {
      "text/plain": [
       "{'w_fl': <convection_param.HelperFuncs.StandardScalerOneVar at 0x7fa130383820>,\n",
       " 'qv': <convection_param.HelperFuncs.StandardScalerOneVar at 0x7fa2b037b100>,\n",
       " 'qc': <convection_param.HelperFuncs.StandardScalerOneVar at 0x7fa2b037beb0>,\n",
       " 'qi': <convection_param.HelperFuncs.StandardScalerOneVar at 0x7fa0f0140e20>,\n",
       " 'u': <convection_param.HelperFuncs.StandardScalerOneVar at 0x7fa0f0140fa0>,\n",
       " 'v': <convection_param.HelperFuncs.StandardScalerOneVar at 0x7fa0f0141120>}"
      ]
     },
     "execution_count": 11,
     "metadata": {},
     "output_type": "execute_result"
    }
   ],
   "source": [
    "scalerdict_X"
   ]
  },
  {
   "cell_type": "code",
   "execution_count": 12,
   "id": "60344f08-8568-415c-86e6-8fc8386d7a50",
   "metadata": {},
   "outputs": [],
   "source": [
    "class InvStandardizeLayerOutput(nn.Module):\n",
    "    def __init__(self, means, scales):\n",
    "        super().__init__()\n",
    "        self.means = nn.Parameter(means, requires_grad=False)\n",
    "        self.scales = nn.Parameter(scales, requires_grad=False)\n",
    "    \n",
    "    def forward(self, x):\n",
    "        x = x * self.scales + self.means\n",
    "        x[...,-1] = torch.exp(x[...,-1]) - 1\n",
    "        return x"
   ]
  },
  {
   "cell_type": "code",
   "execution_count": 13,
   "id": "9ce7aca7-ea0d-413f-a7f9-08428b7fd3b7",
   "metadata": {
    "tags": []
   },
   "outputs": [],
   "source": [
    "example_input = np.full((6,23), 0.5857707, dtype=np.float32)\n",
    "example_input_torch = torch.from_numpy(example_input[None,...]).to(device)"
   ]
  },
  {
   "cell_type": "code",
   "execution_count": 14,
   "id": "cd206ea3-15cd-4911-90a5-b5b395c16821",
   "metadata": {
    "tags": []
   },
   "outputs": [],
   "source": [
    "# Build the chain (input-normalization -> model -> output-inverse-normalization)\n",
    "model_chain = nn.Sequential(StandardizeLayerInput(means_X, scales_X), model, InvStandardizeLayerOutput(means_Y, scales_Y)).to(device)"
   ]
  },
  {
   "cell_type": "code",
   "execution_count": 15,
   "id": "07363573-e7f7-4d0a-8e2e-b08e68f67fff",
   "metadata": {
    "tags": []
   },
   "outputs": [],
   "source": [
    "model_chain.eval()\n",
    "traced_script_module_chain = torch.jit.trace(model_chain, example_input_torch)"
   ]
  },
  {
   "cell_type": "code",
   "execution_count": 17,
   "id": "9c2126b2-bf88-44f2-bf89-6c5a10bf0a12",
   "metadata": {
    "tags": []
   },
   "outputs": [
    {
     "name": "stdout",
     "output_type": "stream",
     "text": [
      "(1, 181)\n"
     ]
    },
    {
     "data": {
      "text/plain": [
       "array([-0.00163603, -0.00302981, -0.00381329,  0.00966431,  0.05513914],\n",
       "      dtype=float32)"
      ]
     },
     "execution_count": 17,
     "metadata": {},
     "output_type": "execute_result"
    }
   ],
   "source": [
    "output = traced_script_module_chain(example_input_torch)\n",
    "output = output.detach().cpu().numpy()\n",
    "print(output.shape)\n",
    "output[0,:5]"
   ]
  },
  {
   "cell_type": "markdown",
   "id": "1f593611-6c45-4574-a56e-6223bce4f482",
   "metadata": {},
   "source": [
    "## Testing for same result with manual normalization"
   ]
  },
  {
   "cell_type": "code",
   "execution_count": 49,
   "id": "cef03a9e-0074-4a6d-b3e3-a0b30e22020d",
   "metadata": {
    "tags": []
   },
   "outputs": [],
   "source": [
    "example_input_norm = np.empty_like(example_input)\n",
    "for i,scaler in enumerate(scalerdict_X.values()):\n",
    "    example_input_norm[i] = scaler.transform(example_input[i])\n",
    "example_input_norm_torch = torch.from_numpy(example_input_norm[None,...])"
   ]
  },
  {
   "cell_type": "code",
   "execution_count": 50,
   "id": "72839e39-5463-41cc-9b1a-57026363be53",
   "metadata": {
    "tags": []
   },
   "outputs": [],
   "source": [
    "model.eval()\n",
    "traced_script_module = torch.jit.trace(model, example_input_norm_torch)"
   ]
  },
  {
   "cell_type": "code",
   "execution_count": 51,
   "id": "f5d6fb16-be29-4655-a7d2-f318d61682e9",
   "metadata": {
    "tags": []
   },
   "outputs": [
    {
     "name": "stderr",
     "output_type": "stream",
     "text": [
      "/tmp/ipykernel_3532802/3471766533.py:11: RuntimeWarning: overflow encountered in exp\n",
      "  output_norm[...,-1] = np.exp(output_norm[...,-1]) - 1\n"
     ]
    },
    {
     "data": {
      "text/plain": [
       "array([0.00256257, 0.00141733, 0.01223962, 0.06300803, 0.12845431],\n",
       "      dtype=float32)"
      ]
     },
     "execution_count": 51,
     "metadata": {},
     "output_type": "execute_result"
    }
   ],
   "source": [
    "output2 = traced_script_module(example_input_norm_torch)\n",
    "output2 = output2.detach().numpy()\n",
    "output_norm = np.empty_like(output2)\n",
    "i0 = 0\n",
    "for i,scaler in list(zip([22]*8+[1]*5, scalerdict_Y.values())):\n",
    "    scaler.scaler.mean_ = scaler.scaler.mean_.astype(np.float32)\n",
    "    scaler.scaler.scale_ = scaler.scaler.scale_.astype(np.float32)\n",
    "    output_norm[:,i0:i0+i] = scaler.inverse_transform(output2[:,i0:i0+i])\n",
    "    i0 += i\n",
    "\n",
    "output_norm[...,-1] = np.exp(output_norm[...,-1]) - 1\n",
    "output_norm[0,:5]"
   ]
  },
  {
   "cell_type": "code",
   "execution_count": 52,
   "id": "5409ca93-293c-4956-bdce-508016b4af52",
   "metadata": {
    "tags": []
   },
   "outputs": [
    {
     "name": "stdout",
     "output_type": "stream",
     "text": [
      "[[0.00256257 0.00141733 0.01223961 0.06300804 0.12845433]]\n",
      "[[False False False False False  True False False  True False False False\n",
      "  False False False  True False False  True False False False  True False\n",
      "  False False False False False False False  True False False False False\n",
      "   True  True False False False False False False False False False False\n",
      "   True False False False False False False  True False False False False\n",
      "  False False False False False False  True False False False False False\n",
      "  False False False  True  True False False False False False False  True\n",
      "  False False False False False False False False False False False False\n",
      "  False False False False False False False False False False False False\n",
      "  False False False False  True False False False False False False False\n",
      "  False False False False False False False False False False  True False\n",
      "   True False False False False False False False False False False False\n",
      "   True False False  True False False False False False False False False\n",
      "  False False False False False False False False False False False False\n",
      "  False False False  True  True  True False False False False False False\n",
      "   True]]\n"
     ]
    }
   ],
   "source": [
    "print(output[:,:5])\n",
    "print(output_norm == output)"
   ]
  },
  {
   "cell_type": "markdown",
   "id": "da559090-ac7f-4c6a-a0d2-89f2f05c889a",
   "metadata": {},
   "source": [
    "## Saving traced model"
   ]
  },
  {
   "cell_type": "code",
   "execution_count": 34,
   "id": "7d51b4ea-d619-4879-8837-4a4ead529f4c",
   "metadata": {
    "tags": []
   },
   "outputs": [],
   "source": [
    "traced_script_module_chain.save(os.path.join(model_path, f'traced_model_chain_{device}.pt'))"
   ]
  },
  {
   "cell_type": "code",
   "execution_count": 35,
   "id": "6dc0d993-7fff-4856-a320-5d85ab91e5d8",
   "metadata": {
    "tags": []
   },
   "outputs": [],
   "source": [
    "# traced_script_module.save(os.path.join(model_path, 'traced_model_gpu.pt'))"
   ]
  },
  {
   "cell_type": "markdown",
   "id": "3b72c6c3-db73-4f7f-83ff-39da835643dc",
   "metadata": {},
   "source": [
    "# Testing output"
   ]
  },
  {
   "cell_type": "code",
   "execution_count": 41,
   "id": "9d4e8658-159a-473f-b54a-5187a12ce737",
   "metadata": {
    "tags": []
   },
   "outputs": [],
   "source": [
    "output.shape\n",
    "out3d = output[:,:-5]\n",
    "out2d = output[:,-5:]"
   ]
  },
  {
   "cell_type": "code",
   "execution_count": 42,
   "id": "3733df5e-ce25-49f9-8ce6-ca795bae46f3",
   "metadata": {
    "tags": []
   },
   "outputs": [],
   "source": [
    "out3d = out3d.reshape(1,8,22)"
   ]
  },
  {
   "cell_type": "code",
   "execution_count": 43,
   "id": "31116301-21a5-4c0c-b6cb-776471382c5b",
   "metadata": {
    "tags": []
   },
   "outputs": [
    {
     "data": {
      "text/plain": [
       "(1, 8, 22)"
      ]
     },
     "execution_count": 43,
     "metadata": {},
     "output_type": "execute_result"
    }
   ],
   "source": [
    "out3d.shape"
   ]
  },
  {
   "cell_type": "code",
   "execution_count": 35,
   "id": "a89543c3-7580-44dd-accc-505349b76e38",
   "metadata": {
    "tags": []
   },
   "outputs": [],
   "source": [
    "out3dnp = out3d.detach().numpy()\n",
    "# torchgrad = torch.gradient(out3d, axis=-1)[0].detach().numpy()\n",
    "npgrad = np.gradient(np.pad(out3dnp,1), axis=-1)"
   ]
  },
  {
   "cell_type": "code",
   "execution_count": 37,
   "id": "364bf665-8c9f-4514-a7ca-1e333dad815a",
   "metadata": {},
   "outputs": [],
   "source": [
    "rho=1\n",
    "tend = -1/rho*npgrad"
   ]
  },
  {
   "cell_type": "code",
   "execution_count": 42,
   "id": "e88b5acc-ac90-48ee-861b-31fc9dedb1e9",
   "metadata": {
    "tags": []
   },
   "outputs": [
    {
     "data": {
      "text/plain": [
       "tensor([[[-0.2731, -0.2718, -0.2077,  0.0426,  0.5806,  1.6189,  2.5021,\n",
       "           2.0111,  2.5424,  4.2545,  4.0936,  2.3220,  2.6111,  2.6822,\n",
       "           1.1742,  0.8887,  1.4639,  2.5013,  2.0258,  1.7445, -0.1113,\n",
       "           0.3474],\n",
       "         [-0.2867, -0.2791, -0.1472, -0.0236,  0.6536,  1.3011,  0.6817,\n",
       "          -0.4935, -1.3413, -0.0104,  0.8263,  2.5139,  3.4545,  4.3861,\n",
       "           3.2235,  3.3580,  0.5810, -0.2695, -0.1225, -0.0534, -0.1700,\n",
       "          -0.2045],\n",
       "         [ 2.7984,  6.4366,  5.4235, -1.7027, -0.3676,  0.7495,  0.3279,\n",
       "          -0.1494, -0.1083, -0.0780, -0.0894, -0.0835, -0.0849, -0.0852,\n",
       "          -0.0771, -0.0971, -0.0867, -0.0877, -0.0874, -0.0894, -0.0891,\n",
       "          -0.0721],\n",
       "         [-0.1233, -0.1203, -0.1175, -0.1277,  0.1609,  0.0344, -0.7033,\n",
       "           1.1324,  3.6828,  4.6983,  2.6449,  2.1404,  1.8250,  1.3180,\n",
       "           0.3411, -0.7062, -1.5319, -1.9917, -2.0617, -1.7752, -1.1768,\n",
       "          -0.6175],\n",
       "         [-0.6561,  2.7134,  3.1718,  2.6605,  2.2624,  0.9386,  0.8364,\n",
       "           0.5510,  1.5099, -1.1710,  0.6365,  0.0820, -0.1972, -0.1091,\n",
       "          -0.0949, -0.0936, -0.1011, -0.0963, -0.0998, -0.0935, -0.0979,\n",
       "          -0.0937],\n",
       "         [ 1.5985, -2.7057,  0.2433, -1.2285, -1.6188, -0.2232, -0.7682,\n",
       "          -0.7422, -0.1171, -1.3598, -0.7859,  0.4212, -0.7994, -1.3031,\n",
       "          -0.4119,  0.3895, -0.6023,  0.7468,  0.2369,  0.5702, -1.4166,\n",
       "           0.9967],\n",
       "         [ 1.0175,  1.5154,  2.1099,  4.3247,  3.5452,  0.3484,  4.0462,\n",
       "           4.8344,  3.9047,  3.7578,  4.7080,  4.4914,  2.1044,  0.0656,\n",
       "          -0.7111, -0.3367,  0.8510,  1.1252,  0.7664,  0.0157, -0.4431,\n",
       "          -0.4631],\n",
       "         [ 0.6698, -1.3010,  0.0074, -1.7512, -0.4673, -0.4209,  1.8130,\n",
       "           0.8508,  0.5284,  2.4055,  0.7088,  1.2823,  2.0061,  2.0875,\n",
       "           2.7494,  2.0521,  0.9524,  1.2548,  2.2149,  2.0585,  0.8206,\n",
       "           0.4518]]], grad_fn=<ReshapeAliasBackward0>)"
      ]
     },
     "execution_count": 42,
     "metadata": {},
     "output_type": "execute_result"
    }
   ],
   "source": [
    "out3d"
   ]
  },
  {
   "cell_type": "code",
   "execution_count": null,
   "id": "2d2d5cc6-e2f3-4a23-bc16-af5cd44ebebf",
   "metadata": {},
   "outputs": [],
   "source": []
  }
 ],
 "metadata": {
  "kernelspec": {
   "display_name": "Python (py3.10_torch)",
   "language": "python",
   "name": "py3.10_torch"
  },
  "language_info": {
   "codemirror_mode": {
    "name": "ipython",
    "version": 3
   },
   "file_extension": ".py",
   "mimetype": "text/x-python",
   "name": "python",
   "nbconvert_exporter": "python",
   "pygments_lexer": "ipython3",
   "version": "3.10.9"
  }
 },
 "nbformat": 4,
 "nbformat_minor": 5
}
