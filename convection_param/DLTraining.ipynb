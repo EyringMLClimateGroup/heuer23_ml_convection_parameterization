{
 "cells": [
  {
   "cell_type": "code",
   "execution_count": 1,
   "id": "3492f954-5f38-4ed9-bf2f-418d1c754843",
   "metadata": {
    "tags": []
   },
   "outputs": [],
   "source": [
    "import numpy as np\n",
    "import numpy.random as npr\n",
    "import matplotlib.pyplot as plt\n",
    "import torch\n",
    "import torch.nn as nn\n",
    "import torch.nn.functional as F\n",
    "import torch.optim as optim\n",
    "from torch.utils.data import TensorDataset, DataLoader\n",
    "from tqdm.notebook import tqdm\n",
    "import os\n",
    "import pickle\n",
    "import time\n",
    "\n",
    "%load_ext autoreload\n",
    "%autoreload 2"
   ]
  },
  {
   "cell_type": "markdown",
   "id": "639f5646",
   "metadata": {},
   "source": [
    "This notebooks is for training deep learning models"
   ]
  },
  {
   "cell_type": "code",
   "execution_count": 2,
   "id": "cec50120-fb4f-4b80-be84-136aa5c7d57e",
   "metadata": {
    "tags": []
   },
   "outputs": [
    {
     "name": "stdout",
     "output_type": "stream",
     "text": [
      "False\n"
     ]
    },
    {
     "name": "stderr",
     "output_type": "stream",
     "text": [
      "/p/project/icon-a-ml/mambaforge/envs/heuer1_py3.8_torch/lib/python3.10/site-packages/torch/cuda/__init__.py:497: UserWarning: Can't initialize NVML\n",
      "  warnings.warn(\"Can't initialize NVML\")\n"
     ]
    },
    {
     "data": {
      "text/plain": [
       "[]"
      ]
     },
     "metadata": {},
     "output_type": "display_data"
    }
   ],
   "source": [
    "available_gpus = [torch.cuda.device(i) for i in range(torch.cuda.device_count())]\n",
    "print(torch.cuda.is_available())\n",
    "display([(gpu, gpu.idx) for gpu in available_gpus])"
   ]
  },
  {
   "cell_type": "code",
   "execution_count": 3,
   "id": "bc8ab28c-6a2d-4d0f-a80b-23d3636b8886",
   "metadata": {
    "tags": []
   },
   "outputs": [
    {
     "name": "stdout",
     "output_type": "stream",
     "text": [
      "['X_train', 'X_val', 'X_test', 'Y_train', 'Y_val', 'Y_test', 'X_expl', 'Y_expl', 'train_coords', 'val_coords', 'test_coords']\n",
      "X_train shape:  torch.Size([1613616, 9, 23])\n",
      "X_val shape:  torch.Size([201702, 9, 23])\n",
      "X_test shape:  torch.Size([201702, 9, 23])\n",
      "Y_train shape:  torch.Size([1613616, 189])\n",
      "Y_val shape:  torch.Size([201702, 189])\n",
      "Y_test shape:  torch.Size([201702, 189])\n",
      "len X_expl 207\n",
      "len Y_expl 189\n"
     ]
    }
   ],
   "source": [
    "# data = np.load('../Processed/TrainData/R2B5_vcg_20221118-153949.npz')\n",
    "data_path = '../local_data/TrainData/20230131-171851-R2B5_y13y16_vcg-fluxes_rho_fluct.npz'\n",
    "# data_path = '../local_data/TrainData/20230210-131835-R2B5_y13y16_vcg-fluxes_rho_fluct_neglect.npz'\n",
    "data = np.load(data_path)\n",
    "print(data.files)\n",
    "\n",
    "X_train, X_val, X_test, Y_train, Y_val, Y_test, X_expl, Y_expl = \\\n",
    "data['X_train'], data['X_val'], data['X_test'], data['Y_train'], data['Y_val'], data['Y_test'], data['X_expl'], data['Y_expl']\n",
    "\n",
    "# Convert Data to torch Tensors and permute to conform to pytorch channels first format\n",
    "transform_to_unet_shape = False\n",
    "if transform_to_unet_shape:\n",
    "    x_transform = nn.Upsample(size=(32), mode='linear')\n",
    "else:\n",
    "    x_transform = nn.Identity()\n",
    "\n",
    "X_train = x_transform(torch.Tensor(X_train).permute(0,2,1))\n",
    "X_val = x_transform(torch.Tensor(X_val).permute(0,2,1))\n",
    "X_test = x_transform(torch.Tensor(X_test).permute(0,2,1))\n",
    "Y_train = torch.Tensor(Y_train)\n",
    "Y_val = torch.Tensor(Y_val)\n",
    "Y_test = torch.Tensor(Y_test)\n",
    "\n",
    "with open('../local_data/TrainData/20230131-171851-R2B5_y13y16_vcg-fluxes_rho_fluct_Ymask.pickle', 'rb') as handle:\n",
    "    Y_mask = pickle.load(handle)\n",
    "\n",
    "print('X_train shape: ', X_train.shape)\n",
    "print('X_val shape: ', X_val.shape)\n",
    "print('X_test shape: ', X_test.shape)\n",
    "print('Y_train shape: ', Y_train.shape)\n",
    "print('Y_val shape: ', Y_val.shape)\n",
    "print('Y_test shape: ', Y_test.shape)\n",
    "print('len X_expl', len(X_expl))\n",
    "print('len Y_expl', len(Y_expl))"
   ]
  },
  {
   "cell_type": "code",
   "execution_count": 4,
   "id": "144b757b-8ede-40c2-90a9-3e29ef5117d0",
   "metadata": {
    "tags": []
   },
   "outputs": [
    {
     "name": "stdout",
     "output_type": "stream",
     "text": [
      "[ True  True  True  True False False  True  True  True]\n"
     ]
    }
   ],
   "source": [
    "from HelperFuncs import unique_unsorted\n",
    "\n",
    "# vars_to_neglect = ['qr','qi','qs']\n",
    "vars_to_neglect = ['qr','qs']\n",
    "# vars_to_neglect = []\n",
    "vars_to_neglect_mask = ~np.isin(unique_unsorted([e[0] for e in X_expl]), vars_to_neglect)\n",
    "print(vars_to_neglect_mask)\n",
    "\n",
    "X_train = X_train[:,vars_to_neglect_mask,:]\n",
    "X_val = X_val[:,vars_to_neglect_mask,:]\n",
    "X_test = X_test[:,vars_to_neglect_mask,:]\n",
    "X_expl = np.array([e for e in X_expl if e[0] not in vars_to_neglect])"
   ]
  },
  {
   "cell_type": "code",
   "execution_count": 6,
   "id": "30d22c7e-aac4-4ee0-b75f-d1e68b590c96",
   "metadata": {
    "tags": []
   },
   "outputs": [
    {
     "name": "stdout",
     "output_type": "stream",
     "text": [
      "---------------------------------------\n",
      "Shape of X [N, C, H, W]: torch.Size([1024, 7, 23])\n",
      "Shape of y: torch.Size([1024, 189]) torch.float32\n"
     ]
    }
   ],
   "source": [
    "# batch_size = 512\n",
    "batch_size = 1024\n",
    "batch_size_val = 1024\n",
    "# Create data loaders.\n",
    "train_data = TensorDataset(X_train, Y_train)\n",
    "val_data = TensorDataset(X_val, Y_val)\n",
    "test_data = TensorDataset(X_test, Y_test)\n",
    "# torch.save([train_data, val_data, test_data], '../local_data/TrainData/20230131-171851-R2B5_y13y16_vcg-fluxes_rho_fluct_woqrqs.torch_data')\n",
    "# torch.save([train_data, val_data, test_data], '../local_data/TrainData/20230131-171851-R2B5_y13y16_vcg-fluxes_rho_fluct_woqrqs_rhofluctneglect.torch_data')\n",
    "train_dataloader = DataLoader(train_data, batch_size=batch_size, shuffle=True)\n",
    "val_dataloader = DataLoader(val_data, batch_size=batch_size_val, shuffle=False)\n",
    "test_dataloader = DataLoader(test_data, batch_size=batch_size_val, shuffle=False)\n",
    "\n",
    "for X, y in val_dataloader:\n",
    "    print('---------------------------------------')\n",
    "    print(f\"Shape of X [N, C, H, W]: {X.shape}\")\n",
    "    print(f\"Shape of y: {y.shape} {y.dtype}\")\n",
    "    break"
   ]
  },
  {
   "cell_type": "code",
   "execution_count": 74,
   "id": "a77c5412-d567-4ebc-8f3e-4afb7087ca2b",
   "metadata": {
    "tags": []
   },
   "outputs": [
    {
     "name": "stdout",
     "output_type": "stream",
     "text": [
      "Using cpu device\n"
     ]
    }
   ],
   "source": [
    "from convection_param.NetworksTorch import ResDNN, Sequential, Unet, SeqConv\n",
    "\n",
    "# Get cpu or gpu device for training.\n",
    "device = \"cuda\" if torch.cuda.is_available() else \"cpu\"\n",
    "print(f\"Using {device} device\")\n",
    "\n",
    "n_channels=7\n",
    "# model = ResDNN(in_size=23*n_channels,\n",
    "#                out_size=189,\n",
    "#                n_neurons=2048,\n",
    "#                bn=True,\n",
    "#                n_layers_per_block=4,\n",
    "#                n_levels=10,\n",
    "#                activation=nn.LeakyReLU())\n",
    "model = Unet(n_channels=n_channels,\n",
    "                n_classes=8,\n",
    "                output_channels_total=189,\n",
    "                n_levels=2,\n",
    "                n_features=512,\n",
    "                bn1=False,\n",
    "                bn2=False,\n",
    "                column_height=23,\n",
    "                activation=F.leaky_relu,\n",
    "                linear=False)\n",
    "# model = Sequential(input_dim=X_train.shape[1]*X_train.shape[2],\n",
    "#                     output_dim=189,\n",
    "#                     n_hidden=2048,\n",
    "#                     n_layers=5,\n",
    "#                     activation=F.leaky_relu,#nn.Identity(),#\n",
    "#                     bn=True)\n",
    "# model = SeqConv(n_channels=X_train.shape[1],\n",
    "#                 n_feature_channels=1024,\n",
    "#                 column_height=23,\n",
    "#                 n_hidden=1024,\n",
    "#                 n_layers=1,\n",
    "#                 output_dim=189,\n",
    "#                 activation=F.leaky_relu,\n",
    "#                 kernel_size=5).to(device)\n",
    "\n",
    "# model = nn.DataParallel(model)\n",
    "model.to(device)\n",
    "\n",
    "loss_fn = nn.MSELoss()\n",
    "optimizer = torch.optim.Adam(model.parameters(), lr=0.0001)"
   ]
  },
  {
   "cell_type": "code",
   "execution_count": 75,
   "id": "c6a260dc-5401-45c4-873d-eab22498e86a",
   "metadata": {},
   "outputs": [
    {
     "data": {
      "text/plain": [
       "torch.Size([2, 7, 23])"
      ]
     },
     "execution_count": 75,
     "metadata": {},
     "output_type": "execute_result"
    }
   ],
   "source": [
    "X_train[:2].shape"
   ]
  },
  {
   "cell_type": "code",
   "execution_count": 76,
   "id": "5521d7a2-de09-47b3-b1fd-cc5f51ac3712",
   "metadata": {
    "tags": []
   },
   "outputs": [],
   "source": [
    "test_pred = model(X_train[:2].to(device));"
   ]
  },
  {
   "cell_type": "code",
   "execution_count": 77,
   "id": "4e2256a6-c550-4100-b660-af0baec50c4b",
   "metadata": {
    "tags": []
   },
   "outputs": [],
   "source": [
    "# from torchview import draw_graph\n",
    "\n",
    "# # model_graph = draw_graph(model, input_data=X_train[:1], depth=2, graph_dir='BT')#, save_graph=True, filename='torchview_unet_small')#, expand_nested=True)\n",
    "# model_graph = draw_graph(model, input_data=X_train[:1], expand_nested=True)#, graph_dir='BT')#, save_graph=True, filename='torchview_unet_small')#, expand_nested=True)\n",
    "# model_graph.visual_graph"
   ]
  },
  {
   "cell_type": "code",
   "execution_count": 78,
   "id": "78d9f8fd-4e14-4d67-94db-dc7de1408983",
   "metadata": {},
   "outputs": [],
   "source": [
    "# save_path = f\"../Models/Optimized/Torch/test\"\n",
    "# torch.save(model, save_path)"
   ]
  },
  {
   "cell_type": "code",
   "execution_count": 79,
   "id": "a7f1d6b2-c598-4a14-ab4b-03957615c2e1",
   "metadata": {},
   "outputs": [],
   "source": [
    "def train(tepoch, model, loss_fn, optimizer, epoch, writer=None):\n",
    "    # size = len(dataloader.dataset)\n",
    "    size = tepoch.total\n",
    "    model.train()\n",
    "    # for batch, (X, y) in enumerate(dataloader):\n",
    "    loss_sum = 0\n",
    "    for batch, (X, y) in enumerate(tepoch):\n",
    "        X, y = X.to(device), y.to(device)\n",
    "\n",
    "        # Compute prediction error\n",
    "        pred = model(X)\n",
    "        loss = loss_fn(pred, y)\n",
    "        loss_sum += loss.item()\n",
    "\n",
    "        # Backpropagation\n",
    "        optimizer.zero_grad()\n",
    "        loss.backward()\n",
    "        optimizer.step()\n",
    "\n",
    "        if batch % 300 == 0:\n",
    "            tepoch.set_postfix(loss=loss.item())\n",
    "    if writer:\n",
    "        writer.add_scalar('epoch_loss', loss_sum/size, epoch)\n",
    "\n",
    "def test(dataloader, model, loss_fn, epoch, writer=None):\n",
    "    # size = len(dataloader.dataset) # number of samples\n",
    "    num_batches = len(dataloader)\n",
    "    model.eval()\n",
    "    test_loss = 0\n",
    "    with torch.no_grad():\n",
    "        for X, y in dataloader:\n",
    "            X, y = X.to(device), y.to(device)\n",
    "            pred = model(X)\n",
    "            test_loss += loss_fn(pred, y).item()\n",
    "    test_loss /= num_batches\n",
    "    if writer:\n",
    "        writer.add_scalar('epoch_loss', test_loss, epoch)\n",
    "    print(f\"Avg val loss: {test_loss:>8f} \\n\")"
   ]
  },
  {
   "cell_type": "code",
   "execution_count": 13,
   "id": "ff2bd9c6-7c0a-4e8e-bdfb-80966482b8f1",
   "metadata": {
    "scrolled": true,
    "tags": []
   },
   "outputs": [
    {
     "data": {
      "application/vnd.jupyter.widget-view+json": {
       "model_id": "9935880eb7264552bd53de5e9db25b3e",
       "version_major": 2,
       "version_minor": 0
      },
      "text/plain": [
       "  0%|          | 0/1576 [00:00<?, ?batch/s]"
      ]
     },
     "metadata": {},
     "output_type": "display_data"
    },
    {
     "name": "stdout",
     "output_type": "stream",
     "text": [
      "Avg val loss: 0.254294 \n",
      "\n"
     ]
    },
    {
     "data": {
      "application/vnd.jupyter.widget-view+json": {
       "model_id": "7fc33e92d11d441c84d10eeda61a9fe8",
       "version_major": 2,
       "version_minor": 0
      },
      "text/plain": [
       "  0%|          | 0/1576 [00:00<?, ?batch/s]"
      ]
     },
     "metadata": {},
     "output_type": "display_data"
    },
    {
     "name": "stdout",
     "output_type": "stream",
     "text": [
      "Avg val loss: 0.238535 \n",
      "\n"
     ]
    },
    {
     "data": {
      "application/vnd.jupyter.widget-view+json": {
       "model_id": "b94f528923604ffdad1aec9b56d8e3ac",
       "version_major": 2,
       "version_minor": 0
      },
      "text/plain": [
       "  0%|          | 0/1576 [00:00<?, ?batch/s]"
      ]
     },
     "metadata": {},
     "output_type": "display_data"
    },
    {
     "name": "stdout",
     "output_type": "stream",
     "text": [
      "Avg val loss: 0.184547 \n",
      "\n"
     ]
    },
    {
     "data": {
      "application/vnd.jupyter.widget-view+json": {
       "model_id": "b1343aa958684ca4beb51a839b973b23",
       "version_major": 2,
       "version_minor": 0
      },
      "text/plain": [
       "  0%|          | 0/1576 [00:00<?, ?batch/s]"
      ]
     },
     "metadata": {},
     "output_type": "display_data"
    },
    {
     "name": "stdout",
     "output_type": "stream",
     "text": [
      "Avg val loss: 0.180252 \n",
      "\n"
     ]
    },
    {
     "data": {
      "application/vnd.jupyter.widget-view+json": {
       "model_id": "3bc90ba58d71462dac59e6423701fb82",
       "version_major": 2,
       "version_minor": 0
      },
      "text/plain": [
       "  0%|          | 0/1576 [00:00<?, ?batch/s]"
      ]
     },
     "metadata": {},
     "output_type": "display_data"
    },
    {
     "name": "stdout",
     "output_type": "stream",
     "text": [
      "Avg val loss: 0.168314 \n",
      "\n"
     ]
    },
    {
     "data": {
      "application/vnd.jupyter.widget-view+json": {
       "model_id": "339c99aebee142969feaf38cbcf19621",
       "version_major": 2,
       "version_minor": 0
      },
      "text/plain": [
       "  0%|          | 0/1576 [00:00<?, ?batch/s]"
      ]
     },
     "metadata": {},
     "output_type": "display_data"
    },
    {
     "name": "stdout",
     "output_type": "stream",
     "text": [
      "Avg val loss: 0.165747 \n",
      "\n"
     ]
    },
    {
     "data": {
      "application/vnd.jupyter.widget-view+json": {
       "model_id": "8489bf0f4bfa44ba86f83c3957d39c2c",
       "version_major": 2,
       "version_minor": 0
      },
      "text/plain": [
       "  0%|          | 0/1576 [00:00<?, ?batch/s]"
      ]
     },
     "metadata": {},
     "output_type": "display_data"
    },
    {
     "name": "stdout",
     "output_type": "stream",
     "text": [
      "Avg val loss: 0.156167 \n",
      "\n"
     ]
    },
    {
     "data": {
      "application/vnd.jupyter.widget-view+json": {
       "model_id": "d1a3fede64664790b504959c8a618940",
       "version_major": 2,
       "version_minor": 0
      },
      "text/plain": [
       "  0%|          | 0/1576 [00:00<?, ?batch/s]"
      ]
     },
     "metadata": {},
     "output_type": "display_data"
    },
    {
     "name": "stdout",
     "output_type": "stream",
     "text": [
      "Avg val loss: 0.152745 \n",
      "\n"
     ]
    },
    {
     "data": {
      "application/vnd.jupyter.widget-view+json": {
       "model_id": "9bc3a30590614909918a57ed73a63e61",
       "version_major": 2,
       "version_minor": 0
      },
      "text/plain": [
       "  0%|          | 0/1576 [00:00<?, ?batch/s]"
      ]
     },
     "metadata": {},
     "output_type": "display_data"
    },
    {
     "name": "stdout",
     "output_type": "stream",
     "text": [
      "Avg val loss: 0.154183 \n",
      "\n"
     ]
    },
    {
     "data": {
      "application/vnd.jupyter.widget-view+json": {
       "model_id": "a0f78421a84b434bb2b5eefb21ea94bb",
       "version_major": 2,
       "version_minor": 0
      },
      "text/plain": [
       "  0%|          | 0/1576 [00:00<?, ?batch/s]"
      ]
     },
     "metadata": {},
     "output_type": "display_data"
    },
    {
     "name": "stdout",
     "output_type": "stream",
     "text": [
      "Avg val loss: 0.149269 \n",
      "\n"
     ]
    },
    {
     "data": {
      "application/vnd.jupyter.widget-view+json": {
       "model_id": "9a664c9627324621b6e13406ba4b74db",
       "version_major": 2,
       "version_minor": 0
      },
      "text/plain": [
       "  0%|          | 0/1576 [00:00<?, ?batch/s]"
      ]
     },
     "metadata": {},
     "output_type": "display_data"
    },
    {
     "name": "stdout",
     "output_type": "stream",
     "text": [
      "Avg val loss: 0.162412 \n",
      "\n"
     ]
    },
    {
     "data": {
      "application/vnd.jupyter.widget-view+json": {
       "model_id": "8c49b3ea31a24783914f5eeeca492352",
       "version_major": 2,
       "version_minor": 0
      },
      "text/plain": [
       "  0%|          | 0/1576 [00:00<?, ?batch/s]"
      ]
     },
     "metadata": {},
     "output_type": "display_data"
    },
    {
     "name": "stdout",
     "output_type": "stream",
     "text": [
      "Avg val loss: 0.150933 \n",
      "\n"
     ]
    },
    {
     "data": {
      "application/vnd.jupyter.widget-view+json": {
       "model_id": "4bfbfffc928044388927ccfb7c225012",
       "version_major": 2,
       "version_minor": 0
      },
      "text/plain": [
       "  0%|          | 0/1576 [00:00<?, ?batch/s]"
      ]
     },
     "metadata": {},
     "output_type": "display_data"
    },
    {
     "name": "stdout",
     "output_type": "stream",
     "text": [
      "Avg val loss: 0.160097 \n",
      "\n"
     ]
    },
    {
     "data": {
      "application/vnd.jupyter.widget-view+json": {
       "model_id": "a32df5a6d151466b98226f953956d458",
       "version_major": 2,
       "version_minor": 0
      },
      "text/plain": [
       "  0%|          | 0/1576 [00:00<?, ?batch/s]"
      ]
     },
     "metadata": {},
     "output_type": "display_data"
    },
    {
     "name": "stdout",
     "output_type": "stream",
     "text": [
      "Avg val loss: 0.142658 \n",
      "\n"
     ]
    },
    {
     "data": {
      "application/vnd.jupyter.widget-view+json": {
       "model_id": "e20a801155d94289985fd4fef92c6fd1",
       "version_major": 2,
       "version_minor": 0
      },
      "text/plain": [
       "  0%|          | 0/1576 [00:00<?, ?batch/s]"
      ]
     },
     "metadata": {},
     "output_type": "display_data"
    },
    {
     "name": "stdout",
     "output_type": "stream",
     "text": [
      "Avg val loss: 0.143328 \n",
      "\n"
     ]
    },
    {
     "data": {
      "application/vnd.jupyter.widget-view+json": {
       "model_id": "40043eb8d81a4519be27020f0003764b",
       "version_major": 2,
       "version_minor": 0
      },
      "text/plain": [
       "  0%|          | 0/1576 [00:00<?, ?batch/s]"
      ]
     },
     "metadata": {},
     "output_type": "display_data"
    },
    {
     "name": "stdout",
     "output_type": "stream",
     "text": [
      "Avg val loss: 0.142092 \n",
      "\n"
     ]
    },
    {
     "data": {
      "application/vnd.jupyter.widget-view+json": {
       "model_id": "c101f6832a44480e9dfeb5f50cc37b05",
       "version_major": 2,
       "version_minor": 0
      },
      "text/plain": [
       "  0%|          | 0/1576 [00:00<?, ?batch/s]"
      ]
     },
     "metadata": {},
     "output_type": "display_data"
    },
    {
     "name": "stdout",
     "output_type": "stream",
     "text": [
      "Avg val loss: 0.140812 \n",
      "\n"
     ]
    },
    {
     "data": {
      "application/vnd.jupyter.widget-view+json": {
       "model_id": "eca7cf77775646898dbd2910ca2bfd3b",
       "version_major": 2,
       "version_minor": 0
      },
      "text/plain": [
       "  0%|          | 0/1576 [00:00<?, ?batch/s]"
      ]
     },
     "metadata": {},
     "output_type": "display_data"
    },
    {
     "name": "stdout",
     "output_type": "stream",
     "text": [
      "Avg val loss: 0.140354 \n",
      "\n"
     ]
    },
    {
     "data": {
      "application/vnd.jupyter.widget-view+json": {
       "model_id": "a92ef9838dc2450fa7d79758b9f03bce",
       "version_major": 2,
       "version_minor": 0
      },
      "text/plain": [
       "  0%|          | 0/1576 [00:00<?, ?batch/s]"
      ]
     },
     "metadata": {},
     "output_type": "display_data"
    },
    {
     "name": "stdout",
     "output_type": "stream",
     "text": [
      "Avg val loss: 0.138458 \n",
      "\n"
     ]
    },
    {
     "data": {
      "application/vnd.jupyter.widget-view+json": {
       "model_id": "cd74088a12464b69a4cdd62bc5e9b3f1",
       "version_major": 2,
       "version_minor": 0
      },
      "text/plain": [
       "  0%|          | 0/1576 [00:00<?, ?batch/s]"
      ]
     },
     "metadata": {},
     "output_type": "display_data"
    },
    {
     "name": "stdout",
     "output_type": "stream",
     "text": [
      "Avg val loss: 0.137427 \n",
      "\n"
     ]
    },
    {
     "data": {
      "application/vnd.jupyter.widget-view+json": {
       "model_id": "26123606cd144bf086ef92e8c20677a1",
       "version_major": 2,
       "version_minor": 0
      },
      "text/plain": [
       "  0%|          | 0/1576 [00:00<?, ?batch/s]"
      ]
     },
     "metadata": {},
     "output_type": "display_data"
    },
    {
     "name": "stdout",
     "output_type": "stream",
     "text": [
      "Avg val loss: 0.138280 \n",
      "\n"
     ]
    },
    {
     "data": {
      "application/vnd.jupyter.widget-view+json": {
       "model_id": "3542175358814ca9a732f9ce429430f2",
       "version_major": 2,
       "version_minor": 0
      },
      "text/plain": [
       "  0%|          | 0/1576 [00:00<?, ?batch/s]"
      ]
     },
     "metadata": {},
     "output_type": "display_data"
    },
    {
     "name": "stdout",
     "output_type": "stream",
     "text": [
      "Avg val loss: 0.138448 \n",
      "\n"
     ]
    },
    {
     "data": {
      "application/vnd.jupyter.widget-view+json": {
       "model_id": "9552e44948014c3b8c2d1fa24f3e0629",
       "version_major": 2,
       "version_minor": 0
      },
      "text/plain": [
       "  0%|          | 0/1576 [00:00<?, ?batch/s]"
      ]
     },
     "metadata": {},
     "output_type": "display_data"
    },
    {
     "name": "stdout",
     "output_type": "stream",
     "text": [
      "Avg val loss: 0.137276 \n",
      "\n"
     ]
    },
    {
     "data": {
      "application/vnd.jupyter.widget-view+json": {
       "model_id": "06b1fb22952e43f88313956ef3ea7943",
       "version_major": 2,
       "version_minor": 0
      },
      "text/plain": [
       "  0%|          | 0/1576 [00:00<?, ?batch/s]"
      ]
     },
     "metadata": {},
     "output_type": "display_data"
    },
    {
     "name": "stdout",
     "output_type": "stream",
     "text": [
      "Avg val loss: 0.135696 \n",
      "\n"
     ]
    },
    {
     "data": {
      "application/vnd.jupyter.widget-view+json": {
       "model_id": "5f3b1fbb129f4d83b66082750377d681",
       "version_major": 2,
       "version_minor": 0
      },
      "text/plain": [
       "  0%|          | 0/1576 [00:00<?, ?batch/s]"
      ]
     },
     "metadata": {},
     "output_type": "display_data"
    },
    {
     "name": "stdout",
     "output_type": "stream",
     "text": [
      "Avg val loss: 0.135135 \n",
      "\n"
     ]
    },
    {
     "data": {
      "application/vnd.jupyter.widget-view+json": {
       "model_id": "51bd6e2a0ed74d2f89fe7e5c18ae156c",
       "version_major": 2,
       "version_minor": 0
      },
      "text/plain": [
       "  0%|          | 0/1576 [00:00<?, ?batch/s]"
      ]
     },
     "metadata": {},
     "output_type": "display_data"
    },
    {
     "name": "stdout",
     "output_type": "stream",
     "text": [
      "Avg val loss: 0.142681 \n",
      "\n"
     ]
    },
    {
     "data": {
      "application/vnd.jupyter.widget-view+json": {
       "model_id": "53365f25d3484cbeb0aecafe9c3d879a",
       "version_major": 2,
       "version_minor": 0
      },
      "text/plain": [
       "  0%|          | 0/1576 [00:00<?, ?batch/s]"
      ]
     },
     "metadata": {},
     "output_type": "display_data"
    },
    {
     "name": "stdout",
     "output_type": "stream",
     "text": [
      "Avg val loss: 0.132961 \n",
      "\n"
     ]
    },
    {
     "data": {
      "application/vnd.jupyter.widget-view+json": {
       "model_id": "d0bb82112c394fb4b4d02ed747e03474",
       "version_major": 2,
       "version_minor": 0
      },
      "text/plain": [
       "  0%|          | 0/1576 [00:00<?, ?batch/s]"
      ]
     },
     "metadata": {},
     "output_type": "display_data"
    },
    {
     "name": "stdout",
     "output_type": "stream",
     "text": [
      "Avg val loss: 0.135331 \n",
      "\n"
     ]
    },
    {
     "data": {
      "application/vnd.jupyter.widget-view+json": {
       "model_id": "7c362a12e33d4f699fb5ba6fabae79b0",
       "version_major": 2,
       "version_minor": 0
      },
      "text/plain": [
       "  0%|          | 0/1576 [00:00<?, ?batch/s]"
      ]
     },
     "metadata": {},
     "output_type": "display_data"
    },
    {
     "name": "stdout",
     "output_type": "stream",
     "text": [
      "Avg val loss: 0.135286 \n",
      "\n"
     ]
    },
    {
     "data": {
      "application/vnd.jupyter.widget-view+json": {
       "model_id": "f27627d23c0c4de2a3e57a54f6decf8a",
       "version_major": 2,
       "version_minor": 0
      },
      "text/plain": [
       "  0%|          | 0/1576 [00:00<?, ?batch/s]"
      ]
     },
     "metadata": {},
     "output_type": "display_data"
    },
    {
     "name": "stdout",
     "output_type": "stream",
     "text": [
      "Avg val loss: 0.134823 \n",
      "\n"
     ]
    },
    {
     "data": {
      "application/vnd.jupyter.widget-view+json": {
       "model_id": "710696475b304b46be8fbe5bba717558",
       "version_major": 2,
       "version_minor": 0
      },
      "text/plain": [
       "  0%|          | 0/1576 [00:00<?, ?batch/s]"
      ]
     },
     "metadata": {},
     "output_type": "display_data"
    },
    {
     "name": "stdout",
     "output_type": "stream",
     "text": [
      "Avg val loss: 0.132662 \n",
      "\n"
     ]
    },
    {
     "data": {
      "application/vnd.jupyter.widget-view+json": {
       "model_id": "fc00bcc0db6b4353a935db1d4e2edd64",
       "version_major": 2,
       "version_minor": 0
      },
      "text/plain": [
       "  0%|          | 0/1576 [00:00<?, ?batch/s]"
      ]
     },
     "metadata": {},
     "output_type": "display_data"
    },
    {
     "name": "stdout",
     "output_type": "stream",
     "text": [
      "Avg val loss: 0.132704 \n",
      "\n"
     ]
    },
    {
     "data": {
      "application/vnd.jupyter.widget-view+json": {
       "model_id": "f3bf0d18598e420999488759dbb74059",
       "version_major": 2,
       "version_minor": 0
      },
      "text/plain": [
       "  0%|          | 0/1576 [00:00<?, ?batch/s]"
      ]
     },
     "metadata": {},
     "output_type": "display_data"
    },
    {
     "name": "stdout",
     "output_type": "stream",
     "text": [
      "Avg val loss: 0.132314 \n",
      "\n"
     ]
    },
    {
     "data": {
      "application/vnd.jupyter.widget-view+json": {
       "model_id": "cad03a84607845a0a1b80ba83529b385",
       "version_major": 2,
       "version_minor": 0
      },
      "text/plain": [
       "  0%|          | 0/1576 [00:00<?, ?batch/s]"
      ]
     },
     "metadata": {},
     "output_type": "display_data"
    },
    {
     "name": "stdout",
     "output_type": "stream",
     "text": [
      "Avg val loss: 0.131309 \n",
      "\n"
     ]
    },
    {
     "data": {
      "application/vnd.jupyter.widget-view+json": {
       "model_id": "f7b3b0c94e8f47e79f15ce2fd5223664",
       "version_major": 2,
       "version_minor": 0
      },
      "text/plain": [
       "  0%|          | 0/1576 [00:00<?, ?batch/s]"
      ]
     },
     "metadata": {},
     "output_type": "display_data"
    },
    {
     "name": "stdout",
     "output_type": "stream",
     "text": [
      "Avg val loss: 0.131680 \n",
      "\n"
     ]
    },
    {
     "data": {
      "application/vnd.jupyter.widget-view+json": {
       "model_id": "e66396a7cbdd4f0899f866c5035ff582",
       "version_major": 2,
       "version_minor": 0
      },
      "text/plain": [
       "  0%|          | 0/1576 [00:00<?, ?batch/s]"
      ]
     },
     "metadata": {},
     "output_type": "display_data"
    },
    {
     "name": "stdout",
     "output_type": "stream",
     "text": [
      "Avg val loss: 0.130382 \n",
      "\n"
     ]
    },
    {
     "data": {
      "application/vnd.jupyter.widget-view+json": {
       "model_id": "26c3dd710c4c4c3ead130caf3363d01a",
       "version_major": 2,
       "version_minor": 0
      },
      "text/plain": [
       "  0%|          | 0/1576 [00:00<?, ?batch/s]"
      ]
     },
     "metadata": {},
     "output_type": "display_data"
    },
    {
     "name": "stdout",
     "output_type": "stream",
     "text": [
      "Avg val loss: 0.131300 \n",
      "\n"
     ]
    },
    {
     "data": {
      "application/vnd.jupyter.widget-view+json": {
       "model_id": "95f0d2df5d1e4445b336d4c0d24f40aa",
       "version_major": 2,
       "version_minor": 0
      },
      "text/plain": [
       "  0%|          | 0/1576 [00:00<?, ?batch/s]"
      ]
     },
     "metadata": {},
     "output_type": "display_data"
    },
    {
     "name": "stdout",
     "output_type": "stream",
     "text": [
      "Avg val loss: 0.129968 \n",
      "\n"
     ]
    },
    {
     "data": {
      "application/vnd.jupyter.widget-view+json": {
       "model_id": "617dd793a56747168bf64b256eaa1303",
       "version_major": 2,
       "version_minor": 0
      },
      "text/plain": [
       "  0%|          | 0/1576 [00:00<?, ?batch/s]"
      ]
     },
     "metadata": {},
     "output_type": "display_data"
    },
    {
     "name": "stdout",
     "output_type": "stream",
     "text": [
      "Avg val loss: 0.129582 \n",
      "\n"
     ]
    },
    {
     "data": {
      "application/vnd.jupyter.widget-view+json": {
       "model_id": "d82c8d75ba9842d0aec2b04af4066cec",
       "version_major": 2,
       "version_minor": 0
      },
      "text/plain": [
       "  0%|          | 0/1576 [00:00<?, ?batch/s]"
      ]
     },
     "metadata": {},
     "output_type": "display_data"
    },
    {
     "name": "stdout",
     "output_type": "stream",
     "text": [
      "Avg val loss: 0.132202 \n",
      "\n"
     ]
    },
    {
     "data": {
      "application/vnd.jupyter.widget-view+json": {
       "model_id": "db41b7306e30476e9e85dd6c83c11f26",
       "version_major": 2,
       "version_minor": 0
      },
      "text/plain": [
       "  0%|          | 0/1576 [00:00<?, ?batch/s]"
      ]
     },
     "metadata": {},
     "output_type": "display_data"
    },
    {
     "name": "stdout",
     "output_type": "stream",
     "text": [
      "Avg val loss: 0.130790 \n",
      "\n"
     ]
    },
    {
     "data": {
      "application/vnd.jupyter.widget-view+json": {
       "model_id": "d1a03f16cd1d4c15aa32e31744bed2b9",
       "version_major": 2,
       "version_minor": 0
      },
      "text/plain": [
       "  0%|          | 0/1576 [00:00<?, ?batch/s]"
      ]
     },
     "metadata": {},
     "output_type": "display_data"
    },
    {
     "name": "stdout",
     "output_type": "stream",
     "text": [
      "Avg val loss: 0.130822 \n",
      "\n"
     ]
    },
    {
     "data": {
      "application/vnd.jupyter.widget-view+json": {
       "model_id": "6e059fc755e542c1a41278a533d2477d",
       "version_major": 2,
       "version_minor": 0
      },
      "text/plain": [
       "  0%|          | 0/1576 [00:00<?, ?batch/s]"
      ]
     },
     "metadata": {},
     "output_type": "display_data"
    },
    {
     "name": "stdout",
     "output_type": "stream",
     "text": [
      "Avg val loss: 0.130261 \n",
      "\n"
     ]
    },
    {
     "data": {
      "application/vnd.jupyter.widget-view+json": {
       "model_id": "2389637b7b864750b7ee232a755a32c0",
       "version_major": 2,
       "version_minor": 0
      },
      "text/plain": [
       "  0%|          | 0/1576 [00:00<?, ?batch/s]"
      ]
     },
     "metadata": {},
     "output_type": "display_data"
    },
    {
     "name": "stdout",
     "output_type": "stream",
     "text": [
      "Avg val loss: 0.129823 \n",
      "\n"
     ]
    },
    {
     "data": {
      "application/vnd.jupyter.widget-view+json": {
       "model_id": "018569589ea34539b8dd69a3d0bac3aa",
       "version_major": 2,
       "version_minor": 0
      },
      "text/plain": [
       "  0%|          | 0/1576 [00:00<?, ?batch/s]"
      ]
     },
     "metadata": {},
     "output_type": "display_data"
    },
    {
     "name": "stdout",
     "output_type": "stream",
     "text": [
      "Avg val loss: 0.130027 \n",
      "\n"
     ]
    },
    {
     "data": {
      "application/vnd.jupyter.widget-view+json": {
       "model_id": "5bc31b2df36f4069a03b642dbcb6266a",
       "version_major": 2,
       "version_minor": 0
      },
      "text/plain": [
       "  0%|          | 0/1576 [00:00<?, ?batch/s]"
      ]
     },
     "metadata": {},
     "output_type": "display_data"
    },
    {
     "name": "stdout",
     "output_type": "stream",
     "text": [
      "Avg val loss: 0.130562 \n",
      "\n"
     ]
    },
    {
     "data": {
      "application/vnd.jupyter.widget-view+json": {
       "model_id": "22b4936f6102459c8909441d23fc8211",
       "version_major": 2,
       "version_minor": 0
      },
      "text/plain": [
       "  0%|          | 0/1576 [00:00<?, ?batch/s]"
      ]
     },
     "metadata": {},
     "output_type": "display_data"
    },
    {
     "name": "stdout",
     "output_type": "stream",
     "text": [
      "Avg val loss: 0.130246 \n",
      "\n"
     ]
    },
    {
     "data": {
      "application/vnd.jupyter.widget-view+json": {
       "model_id": "5f3fe7b765534d5d8a9eae8c0128adc8",
       "version_major": 2,
       "version_minor": 0
      },
      "text/plain": [
       "  0%|          | 0/1576 [00:00<?, ?batch/s]"
      ]
     },
     "metadata": {},
     "output_type": "display_data"
    },
    {
     "name": "stdout",
     "output_type": "stream",
     "text": [
      "Avg val loss: 0.128746 \n",
      "\n"
     ]
    },
    {
     "data": {
      "application/vnd.jupyter.widget-view+json": {
       "model_id": "4f06d128c5dc43a5bac340a385ce180e",
       "version_major": 2,
       "version_minor": 0
      },
      "text/plain": [
       "  0%|          | 0/1576 [00:00<?, ?batch/s]"
      ]
     },
     "metadata": {},
     "output_type": "display_data"
    },
    {
     "name": "stdout",
     "output_type": "stream",
     "text": [
      "Avg val loss: 0.130493 \n",
      "\n"
     ]
    },
    {
     "data": {
      "application/vnd.jupyter.widget-view+json": {
       "model_id": "e34b0f9c09eb42da80f2cd59590af3c2",
       "version_major": 2,
       "version_minor": 0
      },
      "text/plain": [
       "  0%|          | 0/1576 [00:00<?, ?batch/s]"
      ]
     },
     "metadata": {},
     "output_type": "display_data"
    },
    {
     "name": "stdout",
     "output_type": "stream",
     "text": [
      "Avg val loss: 0.128840 \n",
      "\n"
     ]
    },
    {
     "data": {
      "application/vnd.jupyter.widget-view+json": {
       "model_id": "7b3642d4754f454496bb7b570f142a5e",
       "version_major": 2,
       "version_minor": 0
      },
      "text/plain": [
       "  0%|          | 0/1576 [00:00<?, ?batch/s]"
      ]
     },
     "metadata": {},
     "output_type": "display_data"
    },
    {
     "name": "stdout",
     "output_type": "stream",
     "text": [
      "Avg val loss: 0.128722 \n",
      "\n"
     ]
    },
    {
     "data": {
      "application/vnd.jupyter.widget-view+json": {
       "model_id": "c664a1ad32574951acd25233730b3216",
       "version_major": 2,
       "version_minor": 0
      },
      "text/plain": [
       "  0%|          | 0/1576 [00:00<?, ?batch/s]"
      ]
     },
     "metadata": {},
     "output_type": "display_data"
    },
    {
     "name": "stdout",
     "output_type": "stream",
     "text": [
      "Avg val loss: 0.128834 \n",
      "\n"
     ]
    },
    {
     "data": {
      "application/vnd.jupyter.widget-view+json": {
       "model_id": "2a9e9dd04df746eba12381e9c53ec3dc",
       "version_major": 2,
       "version_minor": 0
      },
      "text/plain": [
       "  0%|          | 0/1576 [00:00<?, ?batch/s]"
      ]
     },
     "metadata": {},
     "output_type": "display_data"
    },
    {
     "name": "stdout",
     "output_type": "stream",
     "text": [
      "Avg val loss: 0.129643 \n",
      "\n"
     ]
    },
    {
     "data": {
      "application/vnd.jupyter.widget-view+json": {
       "model_id": "9b44d7c8a404400facc62036fae8b829",
       "version_major": 2,
       "version_minor": 0
      },
      "text/plain": [
       "  0%|          | 0/1576 [00:00<?, ?batch/s]"
      ]
     },
     "metadata": {},
     "output_type": "display_data"
    },
    {
     "name": "stdout",
     "output_type": "stream",
     "text": [
      "Avg val loss: 0.129107 \n",
      "\n"
     ]
    },
    {
     "data": {
      "application/vnd.jupyter.widget-view+json": {
       "model_id": "c0669d542efe415fa730f5c7df2540a0",
       "version_major": 2,
       "version_minor": 0
      },
      "text/plain": [
       "  0%|          | 0/1576 [00:00<?, ?batch/s]"
      ]
     },
     "metadata": {},
     "output_type": "display_data"
    },
    {
     "name": "stdout",
     "output_type": "stream",
     "text": [
      "Avg val loss: 0.129347 \n",
      "\n"
     ]
    },
    {
     "data": {
      "application/vnd.jupyter.widget-view+json": {
       "model_id": "c05e8d4f108640acb0a510a90e44fcc2",
       "version_major": 2,
       "version_minor": 0
      },
      "text/plain": [
       "  0%|          | 0/1576 [00:00<?, ?batch/s]"
      ]
     },
     "metadata": {},
     "output_type": "display_data"
    },
    {
     "name": "stdout",
     "output_type": "stream",
     "text": [
      "Avg val loss: 0.128644 \n",
      "\n"
     ]
    },
    {
     "data": {
      "application/vnd.jupyter.widget-view+json": {
       "model_id": "a5389aaa4c8f46488f3f141f4c8422a9",
       "version_major": 2,
       "version_minor": 0
      },
      "text/plain": [
       "  0%|          | 0/1576 [00:00<?, ?batch/s]"
      ]
     },
     "metadata": {},
     "output_type": "display_data"
    },
    {
     "name": "stdout",
     "output_type": "stream",
     "text": [
      "Avg val loss: 0.130094 \n",
      "\n"
     ]
    },
    {
     "data": {
      "application/vnd.jupyter.widget-view+json": {
       "model_id": "ac36a532bec04a799cf61e94b3476e09",
       "version_major": 2,
       "version_minor": 0
      },
      "text/plain": [
       "  0%|          | 0/1576 [00:00<?, ?batch/s]"
      ]
     },
     "metadata": {},
     "output_type": "display_data"
    },
    {
     "name": "stderr",
     "output_type": "stream",
     "text": [
      "\n",
      "KeyboardInterrupt\n",
      "\n"
     ]
    }
   ],
   "source": [
    "from torch.utils.tensorboard import SummaryWriter\n",
    "import datetime\n",
    "\n",
    "now = datetime.datetime.now().strftime(\"%Y%m%d-%H%M%S\")\n",
    "# model_name = now + \"R2B5_vlr_seqbndouble_adam_lr0.0003_y13y16full_fluxes_prescaledeps1_wqrqstend_worhoprestemp_torch_rhofluct_alldays_linear\"\n",
    "# model_name = now + \"R2B5_vlr_seqbndouble_adam_lr0.0003_y13y16full_fluxes_prescaledeps1_wqrqstend_worhoprestemp_torch_rhofluct_alldays_hpoed\"\n",
    "# model_name = now + \"R2B5_vlr_resDNNbn_adam_lr0.0003_y13y16full_fluxes_prescaledeps1_wqrqstend_worhoprestemp_torch_rhofluct_hpoed\"\n",
    "model_name = now + \"R2B5_vlr_unet_adam_lr0.0003_y13y16full_fluxes_prescaledeps1_wqrqstend_worhoprestemp_torch_rhofluctneglect_alldays_woqrqs\"\n",
    "# model_name = model_name + \"further_train\"\n",
    "# model_name = now + \"R2B5_vlr_conv_adam_lr0.0003_y13y16full_fluxes_prescaledeps1_wqrqstend_worhoprestemp_torch_rhofluct_alldays\"\n",
    "log_dir = \"../logs/from011222/\" + model_name\n",
    "\n",
    "writer_train = SummaryWriter(log_dir=os.path.join(log_dir, 'train'))\n",
    "writer_val = SummaryWriter(log_dir=os.path.join(log_dir, 'validation'))\n",
    "\n",
    "epochs = 150\n",
    "for t in range(epochs):\n",
    "    with tqdm(train_dataloader, unit=\"batch\") as tepoch:\n",
    "        tepoch.set_description(f'Epoch {t+1}')\n",
    "        train(tepoch, model, loss_fn, optimizer, t, writer_train)\n",
    "        test(val_dataloader, model, loss_fn, t, writer_val)\n",
    "print(\"Done!\")"
   ]
  },
  {
   "cell_type": "code",
   "execution_count": null,
   "id": "836892e3-0c04-4464-992d-6b0720567ffd",
   "metadata": {},
   "outputs": [],
   "source": [
    "model_path = f'../Models/NewFormat/Torch/{model_name}'\n",
    "os.makedirs(model_path, exist_ok=True)\n",
    "save_path = os.path.join(model_path, 'model')\n",
    "data_desc_path = os.path.join(model_path, 'data_desc.txt')\n",
    "with open(data_desc_path, 'w') as f:\n",
    "    f.write('data_path: ' + data_path)\n",
    "    f.write('\\nvars_to_neglect' + str(vars_to_neglect))\n",
    "# model_scripted = torch.jit.script(model) # Export to TorchScript\n",
    "# model_scripted.save(f'{save_path}.pt') # Save\n",
    "# torch.save(model, save_path)\n",
    "torch.save({\n",
    "            'model_state_dict': model.state_dict(),\n",
    "            }, f\"{save_path}.state_dict\")"
   ]
  },
  {
   "cell_type": "code",
   "execution_count": 70,
   "id": "45c7444c-127d-4dd7-9df8-edae36107605",
   "metadata": {},
   "outputs": [],
   "source": [
    "# def load_trainval_data(data_file, config):\n",
    "#     datasets = torch.load(data_file)\n",
    "\n",
    "#     train_data = datasets[0]\n",
    "#     val_data = datasets[1]\n",
    "#     # test_data = datasets[2]\n",
    "    \n",
    "#     train_dataloader = DataLoader(train_data, batch_size=config, shuffle=True)\n",
    "#     val_dataloader = DataLoader(val_data, batch_size=1024, shuffle=False)\n",
    "#     # test_dataloader = DataLoader(test_data, batch_size=1024, shuffle=False)\n",
    "\n",
    "#     return train_dataloader, val_dataloader\n",
    "\n",
    "# data_file = '../local_data/TrainData/20230131-171851-R2B5_y13y16_vcg-fluxes_rho_fluct.torch_data'\n",
    "# trainloader, valloader = load_trainval_data(data_file, 1024)"
   ]
  },
  {
   "cell_type": "code",
   "execution_count": 80,
   "id": "b6179d68-6907-4e87-95f5-dc3e95a0b621",
   "metadata": {},
   "outputs": [
    {
     "name": "stdout",
     "output_type": "stream",
     "text": [
      "model_name:  20230509-221550R2B5_vlr_unet_adam_lr0.0003_y13y16full_fluxes_prescaledeps1_wqrqstend_worhoprestemp_torch_rhofluct_alldays_woqrqs_hpoed\n",
      "Number of parameters in model from state_dict approximated: 41524687\n"
     ]
    },
    {
     "data": {
      "text/plain": [
       "<All keys matched successfully>"
      ]
     },
     "execution_count": 80,
     "metadata": {},
     "output_type": "execute_result"
    }
   ],
   "source": [
    "# model_path = \"../Models/NewFormat/Torch/20230415-021732R2B5_vlr_unet_adam_lr0.0003_y13y16full_fluxes_prescaledeps1_wqrqstend_worhoprestemp_torch_rhofluct_alldays_hpoed\"\n",
    "# model_path = \"../Models/NewFormat/Torch/20230324-110858R2B5_vlr_resDNNbn_adam_lr0.0003_y13y16full_fluxes_prescaledeps1_wqrqstend_worhoprestemp_torch_rhofluct_hpoed\"\n",
    "# model_path = \"../Models/NewFormat/Torch/20230414-111730R2B5_vlr_seqbndouble_adam_lr0.0003_y13y16full_fluxes_prescaledeps1_wqrqstend_worhoprestemp_torch_rhofluct_alldays_hpoed\"\n",
    "# model_path = \"../Models/NewFormat/Torch/20230314-172546R2B5_vlr_conv_adam_lr0.0003_y13y16full_fluxes_prescaledeps1_wqrqstend_worhoprestemp_torch_rhofluct_alldays_hpoed\"\n",
    "model_path = \"../Models/NewFormat/Torch/20230510-012946R2B5_vlr_unet_adam_lr0.0003_y13y16full_fluxes_prescaledeps1_wqrqstend_worhoprestemp_torch_rhofluct_alldays_woqrqs_hpoed\"\n",
    "\n",
    "model_path_normed = os.path.normpath(model_path)\n",
    "model_name = os.path.basename(model_path_normed)\n",
    "load_path = os.path.join(model_path, \"model.state_dict\")\n",
    "print('model_name: ', model_name)\n",
    "\n",
    "state_dict = torch.load(load_path, map_location=torch.device('cpu'))['model_state_dict']\n",
    "print(f'Number of parameters in model from state_dict approximated: {sum(p.numel() for p in state_dict.values())}')\n",
    "\n",
    "checkpoint = torch.load(load_path, map_location=torch.device(device))\n",
    "model.load_state_dict(checkpoint['model_state_dict'])"
   ]
  },
  {
   "cell_type": "code",
   "execution_count": 81,
   "id": "7b175bf6-86a0-46d4-9dbf-618fc883e1eb",
   "metadata": {},
   "outputs": [],
   "source": [
    "def count_parameters(model):\n",
    "    return sum(p.numel() for p in model.parameters() if p.requires_grad)"
   ]
  },
  {
   "cell_type": "code",
   "execution_count": 82,
   "id": "c0eb53f4-b803-4138-8eda-660310ff2a8c",
   "metadata": {},
   "outputs": [
    {
     "data": {
      "text/plain": [
       "41504197"
      ]
     },
     "execution_count": 82,
     "metadata": {},
     "output_type": "execute_result"
    }
   ],
   "source": [
    "count_parameters(model)\n",
    "#seq:      17615037\n",
    "#unet:     41507269\n",
    "#resdnn:   168831165\n",
    "#conv:     46566589\n",
    "\n",
    "#WoQiQrQs\n",
    "#seq:     17473725\n",
    "#unet:    41502661\n",
    "#resdnn:  101482685\n",
    "#conv:    6493629\n",
    "\n",
    "#WoQrQs\n",
    "#seq:     21721277\n",
    "#unet:    41504197\n",
    "#resdnn:  135133373\n",
    "#conv:    5445053"
   ]
  },
  {
   "cell_type": "code",
   "execution_count": 17,
   "id": "74ac9767-402f-42a5-ab68-ae61ac7e8593",
   "metadata": {},
   "outputs": [
    {
     "data": {
      "application/vnd.jupyter.widget-view+json": {
       "model_id": "1997275d7fb7448e8edcc0837a42b943",
       "version_major": 2,
       "version_minor": 0
      },
      "text/plain": [
       "  0%|          | 0/197 [00:00<?, ?it/s]"
      ]
     },
     "metadata": {},
     "output_type": "display_data"
    },
    {
     "name": "stdout",
     "output_type": "stream",
     "text": [
      "R2:  0.8695710138292051\n",
      "RMSE:  tensor(0.1279, device='cuda:0')\n",
      "R:  0.924169401780359\n",
      "R_flattened_data:  0.9347754415361269\n"
     ]
    }
   ],
   "source": [
    "from sklearn.metrics import r2_score, mean_squared_error, d2_pinball_score\n",
    "from HelperFuncs import calc_correlation, compute_correlation_per_var\n",
    "import datetime\n",
    "\n",
    "def predict(dataloader, model):\n",
    "    model.eval()\n",
    "    Y_pred = []\n",
    "    with torch.no_grad():\n",
    "        for X, _ in tqdm(dataloader):\n",
    "            X = X.to(device)\n",
    "            pred = model(X)\n",
    "            Y_pred.append(pred)\n",
    "    return torch.concatenate(Y_pred)\n",
    "\n",
    "\n",
    "model.to(device)\n",
    "Y_pred = predict(test_dataloader, model)\n",
    "\n",
    "# now = datetime.datetime.now().strftime(\"%Y%m%d-%H%M%S\")\n",
    "# np.savez(os.path.join(model_path, 'TestPredictions'), Y_test=Y_test, Y_pred=Y_pred.cpu().numpy(), X_expl=X_expl, Y_expl=Y_expl)\n",
    "# # np.savez(f'../local_data/TestPredictions/{now}-{model_name}', Y_test=Y_test, Y_pred=Y_pred.cpu().numpy(), X_expl=X_expl, Y_expl=Y_expl)\n",
    "\n",
    "print('R2: ', r2_score(Y_test, Y_pred.cpu().numpy(), multioutput='variance_weighted'))\n",
    "print('RMSE: ', loss_fn(Y_test.to(device), Y_pred))\n",
    "print('R: ', compute_correlation_per_var(Y_test.numpy()[:,Y_mask], Y_pred.cpu().numpy()[:,Y_mask], multioutput='variance_weighted'))\n",
    "# print('R: ', compute_correlation_per_var(Y_test.numpy(), Y_pred.cpu().numpy(), multioutput='variance_weighted'))\n",
    "print('R_flattened_data: ', np.corrcoef(Y_test.numpy().flatten(), Y_pred.cpu().numpy().flatten())[0,1])"
   ]
  },
  {
   "cell_type": "code",
   "execution_count": null,
   "id": "af722eca-b2a0-4998-837a-fb6d604a0c1d",
   "metadata": {},
   "outputs": [],
   "source": [
    "# from captum.attr import FeaturePermutation\n",
    "# \n",
    "# def forward_func(X, Y):\n",
    "    # # return r2_score(model(X).cpu().numpy(), Y.cpu().numpy())\n",
    "    # return loss_fn(Y, model(X))\n",
    "# \n",
    "# fp = FeaturePermutation(forward_func)\n",
    "# \n",
    "# fp_result = fp.attribute((X_test[:512].to(device), Y_test[:512].to(device)))\n",
    "# \n",
    "# permutation_importances = fp_result[0].cpu().numpy().flatten()\n",
    "# \n",
    "# plt.figure()\n",
    "# plt.bar(range(len(permutation_importances)), permutation_importances)\n",
    "# plt.show()\n",
    "\n",
    "# from captum.attr import IntegratedGradients\n",
    "\n",
    "# ig = IntegratedGradients(model)\n",
    "# X_explain_captum = torch.clone(X_explain)\n",
    "# X_explain_captum.requires_grad_()\n",
    "# attr, delta = ig.attribute(X_explain_captum, target=1, return_convergence_delta=True)\n",
    "# attr.detach().numpy()"
   ]
  }
 ],
 "metadata": {
  "kernelspec": {
   "display_name": "Python (heuer1_py3.8_torch)",
   "language": "python",
   "name": "heuer1_py3.8_torch"
  },
  "language_info": {
   "codemirror_mode": {
    "name": "ipython",
    "version": 3
   },
   "file_extension": ".py",
   "mimetype": "text/x-python",
   "name": "python",
   "nbconvert_exporter": "python",
   "pygments_lexer": "ipython3",
   "version": "3.10.8"
  },
  "vscode": {
   "interpreter": {
    "hash": "19c7f42f051f319cb230c51a85006ddf649f5f1aea7671c9ab1191bf8790c429"
   }
  }
 },
 "nbformat": 4,
 "nbformat_minor": 5
}
