{
 "cells": [
  {
   "cell_type": "code",
   "execution_count": 1,
   "id": "0ed7c57e-c14f-47e0-8f3d-9ddc6fdec664",
   "metadata": {},
   "outputs": [],
   "source": [
    "import numpy as np\n",
    "import numpy.random as npr\n",
    "import matplotlib.pyplot as plt\n",
    "import torch\n",
    "import torch.nn as nn\n",
    "import torch.nn.functional as F\n",
    "import torch.optim as optim\n",
    "from torch.utils.data import TensorDataset, DataLoader\n",
    "from tqdm.notebook import tqdm\n",
    "import os\n",
    "\n",
    "%load_ext autoreload\n",
    "%autoreload 2"
   ]
  },
  {
   "cell_type": "markdown",
   "id": "3545d037",
   "metadata": {},
   "source": [
    "This notebook reads the result of multiple (different seeded) shap value calculations and visualizes the results"
   ]
  },
  {
   "cell_type": "code",
   "execution_count": 236,
   "id": "bc8ab28c-6a2d-4d0f-a80b-23d3636b8886",
   "metadata": {},
   "outputs": [
    {
     "name": "stdout",
     "output_type": "stream",
     "text": [
      "['X_train', 'X_val', 'X_test', 'Y_train', 'Y_val', 'Y_test', 'X_expl', 'Y_expl', 'train_coords', 'val_coords', 'test_coords']\n",
      "[ True  True  True  True False False  True  True  True]\n"
     ]
    }
   ],
   "source": [
    "from convection_param.HelperFuncs import unique_unsorted\n",
    "\n",
    "data_path = '../../local_data/TrainData/20230131-171851-R2B5_y13y16_vcg-fluxes_rho_fluct.npz'\n",
    "# data_path = '../../local_data/TrainData/20230210-131835-R2B5_y13y16_vcg-fluxes_rho_fluct_neglect.npz'\n",
    "data = np.load(data_path)\n",
    "print(data.files)\n",
    "\n",
    "X_expl, Y_expl = data['X_expl'], data['Y_expl']\n",
    "\n",
    "vars_to_neglect = ['qr','qs']\n",
    "# vars_to_neglect = []\n",
    "vars_to_neglect_mask = ~np.isin(unique_unsorted([e[0] for e in X_expl]), vars_to_neglect)\n",
    "print(vars_to_neglect_mask)\n",
    "\n",
    "X_expl = np.array([e for e in X_expl if e[0] not in vars_to_neglect])"
   ]
  },
  {
   "cell_type": "code",
   "execution_count": 240,
   "id": "b5a689a6-cd7a-451d-8755-24293e8478a8",
   "metadata": {},
   "outputs": [
    {
     "data": {
      "text/plain": [
       "['shaps_20230510-110829_seed1458.npz',\n",
       " 'shaps_20230510-095616_seed745.npz',\n",
       " 'shaps_20230510-114502_seed2489.npz',\n",
       " 'data_desc.txt',\n",
       " 'shaps_20230510-122120_seed646.npz',\n",
       " 'shaps_20230510-103221_seed3452.npz',\n",
       " 'model.state_dict']"
      ]
     },
     "execution_count": 240,
     "metadata": {},
     "output_type": "execute_result"
    }
   ],
   "source": [
    "# model_path, model_type = '../../Models/NewFormat/Torch/20230415-021732R2B5_vlr_unet_adam_lr0.0003_y13y16full_fluxes_prescaledeps1_wqrqstend_worhoprestemp_torch_rhofluct_alldays_hpoed/', 'unet'\n",
    "model_path, model_type = '../../Models/NewFormat/Torch/20230510-012946R2B5_vlr_unet_adam_lr0.0003_y13y16full_fluxes_prescaledeps1_wqrqstend_worhoprestemp_torch_rhofluct_alldays_woqrqs_hpoed/', 'unet_woqrqs'\n",
    "dl_model = True\n",
    "model_path_content = list(os.scandir(model_path))\n",
    "[c.name for c in model_path_content]"
   ]
  },
  {
   "cell_type": "code",
   "execution_count": 241,
   "id": "cc3f1f87-dd29-49aa-bd4f-8e92f359fec1",
   "metadata": {},
   "outputs": [
    {
     "name": "stdout",
     "output_type": "stream",
     "text": [
      "20230510-012946R2B5_vlr_unet_adam_lr0.0003_y13y16full_fluxes_prescaledeps1_wqrqstend_worhoprestemp_torch_rhofluct_alldays_woqrqs_hpoed ebf2d92d00b5\n"
     ]
    }
   ],
   "source": [
    "import hashlib\n",
    "\n",
    "model_path_normed = os.path.normpath(model_path)\n",
    "if dl_model:\n",
    "    model_name = os.path.basename(model_path_normed)\n",
    "model_id = hashlib.sha256(model_name.encode(\"UTF-8\")).hexdigest()[:12]\n",
    "print(model_name, model_id)"
   ]
  },
  {
   "cell_type": "code",
   "execution_count": 242,
   "id": "1df487b9-20f8-491b-9f6f-628788e93282",
   "metadata": {},
   "outputs": [
    {
     "name": "stdout",
     "output_type": "stream",
     "text": [
      "['../../Models/NewFormat/Torch/20230510-012946R2B5_vlr_unet_adam_lr0.0003_y13y16full_fluxes_prescaledeps1_wqrqstend_worhoprestemp_torch_rhofluct_alldays_woqrqs_hpoed/shaps_20230510-110829_seed1458.npz', '../../Models/NewFormat/Torch/20230510-012946R2B5_vlr_unet_adam_lr0.0003_y13y16full_fluxes_prescaledeps1_wqrqstend_worhoprestemp_torch_rhofluct_alldays_woqrqs_hpoed/shaps_20230510-095616_seed745.npz', '../../Models/NewFormat/Torch/20230510-012946R2B5_vlr_unet_adam_lr0.0003_y13y16full_fluxes_prescaledeps1_wqrqstend_worhoprestemp_torch_rhofluct_alldays_woqrqs_hpoed/shaps_20230510-114502_seed2489.npz', '../../Models/NewFormat/Torch/20230510-012946R2B5_vlr_unet_adam_lr0.0003_y13y16full_fluxes_prescaledeps1_wqrqstend_worhoprestemp_torch_rhofluct_alldays_woqrqs_hpoed/shaps_20230510-122120_seed646.npz', '../../Models/NewFormat/Torch/20230510-012946R2B5_vlr_unet_adam_lr0.0003_y13y16full_fluxes_prescaledeps1_wqrqstend_worhoprestemp_torch_rhofluct_alldays_woqrqs_hpoed/shaps_20230510-103221_seed3452.npz']\n"
     ]
    },
    {
     "data": {
      "application/vnd.jupyter.widget-view+json": {
       "model_id": "2fd210dfdd794e86b14cd897b9c5a3f8",
       "version_major": 2,
       "version_minor": 0
      },
      "text/plain": [
       "  0%|          | 0/5 [00:00<?, ?it/s]"
      ]
     },
     "metadata": {},
     "output_type": "display_data"
    },
    {
     "name": "stdout",
     "output_type": "stream",
     "text": [
      "(5, 1000, 7, 23)\n",
      "(5, 189, 1000, 7, 23)\n"
     ]
    }
   ],
   "source": [
    "X_explains = []\n",
    "backgrounds = []\n",
    "shaps = []\n",
    "shap_files = [c.path for c in model_path_content if 'shaps_' in c.name]\n",
    "# shap_files = [c.path for c in model_path_content if 'kernelexpl' in c.name]\n",
    "print(shap_files)\n",
    "# shap_files = ['ShapValues/20230315-111535-HistGradientBoostingRegressor_test.npz']\n",
    "# shap_files = ['Models/Optimized/20230421-1613616samples/HistGradientBoostingRegressor/ShapValues/']\n",
    "for f in tqdm(shap_files):\n",
    "    data = np.load(f)\n",
    "    X_explains.append(data['X_explain'])\n",
    "    # backgrounds.append(data['background'])\n",
    "    shaps.append(data['shap_values'])\n",
    "\n",
    "X_explains = np.stack(X_explains, axis=0)\n",
    "# backgrounds = np.stack(backgrounds, axis=0)\n",
    "shaps = np.stack(shaps, axis=0)\n",
    "print(X_explains.shape)\n",
    "# print(backgrounds.shape)\n",
    "print(shaps.shape)"
   ]
  },
  {
   "cell_type": "code",
   "execution_count": 243,
   "id": "496f35e6-4cf4-4682-bc92-0bdeef8bac03",
   "metadata": {},
   "outputs": [],
   "source": [
    "# For non-dl data:\n",
    "if not dl_model:\n",
    "    X_explains_new_shape = list(X_explains.shape)[:-1] + [-1, 23]\n",
    "    X_explains = X_explains.reshape(X_explains_new_shape)\n",
    "    shaps_new_shape = list(shaps.shape)[:-1] + [-1, 23]\n",
    "    shaps = shaps.reshape(shaps_new_shape)\n",
    "\n",
    "    print(X_explains.shape)\n",
    "    print(shaps.shape)"
   ]
  },
  {
   "cell_type": "code",
   "execution_count": 244,
   "id": "c83a538f-5657-4ca3-ad6a-23727010c0d4",
   "metadata": {},
   "outputs": [],
   "source": [
    "X_expl_vars = [v[0] for v in X_expl]\n",
    "Y_expl_vars = [v[0] for v in Y_expl]\n",
    "\n",
    "Y_uniq_vars, Y_uniq_idx = np.unique(Y_expl_vars, return_index=True)\n",
    "idx_sorted = np.argsort(Y_uniq_idx)\n",
    "Y_uniq_vars = Y_uniq_vars[idx_sorted]\n",
    "Y_uniq_idx = Y_uniq_idx[idx_sorted]\n",
    "\n",
    "X_uniq_vars, X_uniq_idx = np.unique(X_expl_vars, return_index=True)\n",
    "idx_sorted = np.argsort(X_uniq_idx)\n",
    "X_uniq_vars = X_uniq_vars[idx_sorted]\n",
    "X_uniq_idx = X_uniq_idx[idx_sorted]"
   ]
  },
  {
   "cell_type": "code",
   "execution_count": 245,
   "id": "6bd925aa-05ca-4a38-998e-6c3d9e68b629",
   "metadata": {},
   "outputs": [
    {
     "data": {
      "text/plain": [
       "(5, 1000, 7, 23)"
      ]
     },
     "execution_count": 245,
     "metadata": {},
     "output_type": "execute_result"
    }
   ],
   "source": [
    "X_explains.shape"
   ]
  },
  {
   "cell_type": "code",
   "execution_count": 246,
   "id": "ef2a3d9e-96a8-4907-8431-bb11cec6117b",
   "metadata": {},
   "outputs": [
    {
     "name": "stdout",
     "output_type": "stream",
     "text": [
      "X_explains shape:  (1000, 5, 7, 23)\n",
      "shaps shape:  (189, 1000, 5, 7, 23)\n"
     ]
    }
   ],
   "source": [
    "X_explains = np.swapaxes(X_explains, 0, 1)\n",
    "# backgrounds = np.swapaxes(backgrounds, 0, 1)\n",
    "shaps = np.moveaxis(shaps, 0, 2)\n",
    "print('X_explains shape: ', X_explains.shape)\n",
    "# print('backgrounds shape: ', backgrounds.shape)\n",
    "print('shaps shape: ', shaps.shape)"
   ]
  },
  {
   "cell_type": "code",
   "execution_count": 247,
   "id": "062bdadc-ddb7-4674-8328-9d2867a0098f",
   "metadata": {},
   "outputs": [],
   "source": [
    "# shaps = np.swapaxes(shaps, 0, 1)\n",
    "# shaps.shape"
   ]
  },
  {
   "cell_type": "code",
   "execution_count": 248,
   "id": "a2e351c7-221d-41d3-88af-b70500733588",
   "metadata": {},
   "outputs": [
    {
     "data": {
      "text/plain": [
       "(1000, 5, 7, 23)"
      ]
     },
     "execution_count": 248,
     "metadata": {},
     "output_type": "execute_result"
    }
   ],
   "source": [
    "# X_explains = np.swapaxes(X_explains, 0, 1)\n",
    "multiplier = X_explains - np.mean(X_explains, axis=0)\n",
    "# multiplier[:,:,3:5,:] = np.abs(multiplier[:,:,3:5,:])\n",
    "EPS = 1e-5\n",
    "multiplier /= np.maximum(np.max(np.abs(multiplier), axis=0), 0)\n",
    "# X_explains = np.swapaxes(X_explains, 0, 1)\n",
    "# multiplier = np.swapaxes(multiplier, 0, 1)\n",
    "multiplier.shape"
   ]
  },
  {
   "cell_type": "code",
   "execution_count": 249,
   "id": "978ab2ac-e8aa-4987-a9ba-38a343de7744",
   "metadata": {},
   "outputs": [
    {
     "data": {
      "text/plain": [
       "(8, 23, 1000, 5, 7, 23)"
      ]
     },
     "execution_count": 249,
     "metadata": {},
     "output_type": "execute_result"
    }
   ],
   "source": [
    "shap_values3d = shaps[:-5,...]\n",
    "rshape = shap_values3d.shape\n",
    "rshape = [-1, 23] + list(rshape)[1:]\n",
    "shap_values3d = shap_values3d.reshape(rshape)\n",
    "shap_values3d.shape"
   ]
  },
  {
   "cell_type": "code",
   "execution_count": 250,
   "id": "01e0ce08-df0f-458e-8482-d558a7dc56ce",
   "metadata": {},
   "outputs": [
    {
     "data": {
      "text/plain": [
       "(8, 23, 5, 7, 23)"
      ]
     },
     "execution_count": 250,
     "metadata": {},
     "output_type": "execute_result"
    }
   ],
   "source": [
    "mean_shap_values3d = np.mean(multiplier * shap_values3d, axis=2)\n",
    "mean_shap_values3d.shape\n",
    "#(8, 23, 6, 6, 23)"
   ]
  },
  {
   "cell_type": "code",
   "execution_count": 251,
   "id": "653214a8-2994-4c68-a363-1bcfe3215c82",
   "metadata": {},
   "outputs": [
    {
     "data": {
      "text/plain": [
       "(5, 7, 23)"
      ]
     },
     "execution_count": 251,
     "metadata": {},
     "output_type": "execute_result"
    }
   ],
   "source": [
    "shap_importance3d = np.mean(np.abs(shap_values3d), axis=(0,1,2))\n",
    "shap_importance3d.shape"
   ]
  },
  {
   "cell_type": "code",
   "execution_count": 252,
   "id": "9574998f-4a9d-42a4-a905-5d6259ea3e8e",
   "metadata": {},
   "outputs": [
    {
     "data": {
      "text/plain": [
       "(8, 23, 5, 7, 23)"
      ]
     },
     "execution_count": 252,
     "metadata": {},
     "output_type": "execute_result"
    }
   ],
   "source": [
    "mean_shap_values3d.shape"
   ]
  },
  {
   "cell_type": "code",
   "execution_count": 253,
   "id": "4b6c70cc-cbc2-4574-9cc2-ab0ba8853bd5",
   "metadata": {},
   "outputs": [],
   "source": [
    "# Reverse ordering so that height increases with index\n",
    "\n",
    "mean_shap_values3d = mean_shap_values3d[:,::-1,:,:,::-1]\n",
    "shap_importance3d = shap_importance3d[:,:,::-1]\n",
    "# permutation_importances = reverse_order1d(permutation_importances)"
   ]
  },
  {
   "cell_type": "code",
   "execution_count": 254,
   "id": "debda6c5-d43f-44c0-9aa2-3dcd615adc02",
   "metadata": {
    "tags": []
   },
   "outputs": [
    {
     "name": "stdout",
     "output_type": "stream",
     "text": [
      "mean_shap_values3d_plot shape:  (8, 23, 7, 23)\n"
     ]
    }
   ],
   "source": [
    "# mean_shap_values3d_plot = mean_shap_values3d[:,:,0,...]\n",
    "# shap_importance3d_plot = shap_importance3d[0,...].flatten()\n",
    "mean_shap_values3d_plot = np.mean(mean_shap_values3d, axis=2)\n",
    "shap_importance3d_plot = np.mean(shap_importance3d, axis=0).flatten()\n",
    "# mean_shap_values3d_plot = np.std(mean_shap_values3d, axis=2)\n",
    "# shap_importance3d_plot = np.std(shap_importance3d, axis=0).flatten()\n",
    "# mean_shap_values3d_plot = np.std(mean_shap_values3d, axis=2)/(np.abs(np.mean(mean_shap_values3d, axis=2))+1e-4)\n",
    "# shap_importance3d_plot = np.std(shap_importance3d, axis=0).flatten()/(np.abs(np.mean(shap_importance3d, axis=0).flatten())+1e-4)\n",
    "print('mean_shap_values3d_plot shape: ', mean_shap_values3d_plot.shape)"
   ]
  },
  {
   "cell_type": "code",
   "execution_count": 255,
   "id": "6563ded0-b571-4df2-a824-d80e80861bcd",
   "metadata": {},
   "outputs": [
    {
     "name": "stdout",
     "output_type": "stream",
     "text": [
      "0.10020652620118468\n",
      "0.012480780861046193\n"
     ]
    }
   ],
   "source": [
    "print(np.max(mean_shap_values3d_plot))\n",
    "print(np.quantile(mean_shap_values3d_plot.ravel(), 0.99))"
   ]
  },
  {
   "cell_type": "code",
   "execution_count": 256,
   "id": "e055c2a9-c866-4115-abc2-4ffe1af695dc",
   "metadata": {},
   "outputs": [],
   "source": [
    "test_shaps = np.mean(mean_shap_values3d, axis=2)"
   ]
  },
  {
   "cell_type": "code",
   "execution_count": 257,
   "id": "0f59f062-0ea8-41ed-88cb-b48f6e8b3d90",
   "metadata": {},
   "outputs": [],
   "source": [
    "# Experimental (coefficient of variation / norm. std)\n",
    "# mean_shap_values3d_plot = np.std(mean_shap_values3d, axis=2, ddof=1)\n",
    "# shap_importance3d_plot = np.std(shap_importance3d, axis=0, ddof=1).flatten()\n",
    "\n",
    "# mean_shap_values3d_plot = np.std(mean_shap_values3d, axis=2, ddof=1) / (np.mean(mean_shap_values3d, axis=2)+0)\n",
    "# shap_importance3d_plot = np.std(shap_importance3d, axis=0, ddof=1).flatten() / (np.mean(shap_importance3d, axis=0).flatten()+0)\n",
    "\n",
    "# means = np.mean(mean_shap_values3d, axis=2)\n",
    "# means[np.isclose(means, 0)] = np.nan\n",
    "# mean_shap_values3d_plot = np.std(mean_shap_values3d, axis=2, ddof=1) / means\n",
    "# means = np.mean(shap_importance3d, axis=0)\n",
    "# means[np.isclose(means, 0)] = np.nan\n",
    "# shap_importance3d_plot = np.std(shap_importance3d, axis=0, ddof=1).flatten() / means.flatten()\n",
    "\n",
    "# from scipy.stats import variation \n",
    "# mean_shap_values3d_plot = variation(mean_shap_values3d, axis=2)\n",
    "# shap_importance3d_plot = variation(shap_importance3d, axis=0).flatten()"
   ]
  },
  {
   "cell_type": "code",
   "execution_count": 258,
   "id": "f82b14ca-59f2-470b-aa11-d1bcd87534df",
   "metadata": {},
   "outputs": [
    {
     "name": "stdout",
     "output_type": "stream",
     "text": [
      "0.033056448541097086\n"
     ]
    },
    {
     "data": {
      "text/plain": [
       "(161,)"
      ]
     },
     "execution_count": 258,
     "metadata": {},
     "output_type": "execute_result"
    }
   ],
   "source": [
    "print(shap_importance3d_plot.max())\n",
    "shap_importance3d_plot.shape"
   ]
  },
  {
   "cell_type": "code",
   "execution_count": 259,
   "id": "da38fb0f-9ea7-408e-a257-8ed8becb99d1",
   "metadata": {},
   "outputs": [
    {
     "data": {
      "text/plain": [
       "(8, 23, 7, 23)"
      ]
     },
     "execution_count": 259,
     "metadata": {},
     "output_type": "execute_result"
    }
   ],
   "source": [
    "mean_shap_values3d_plot.shape"
   ]
  },
  {
   "cell_type": "code",
   "execution_count": 260,
   "id": "0597c03e-2ab0-4710-ad65-87c1cd231cf7",
   "metadata": {},
   "outputs": [
    {
     "name": "stdout",
     "output_type": "stream",
     "text": [
      "abs_max:  0.146852815742443\n"
     ]
    },
    {
     "data": {
      "image/png": "[encoded data removed]",
      "text/plain": [
       "<Figure size 549.921x412.441 with 2 Axes>"
      ]
     },
     "metadata": {},
     "output_type": "display_data"
    }
   ],
   "source": [
    "%matplotlib inline\n",
    "shap_importance3d_plot.shape\n",
    "from convection_param.Constants import label_remapping, input_var_remapping\n",
    "import matplotlib.pyplot as plt\n",
    "from matplotlib.colors import LogNorm, TwoSlopeNorm, SymLogNorm, Normalize\n",
    "from convection_param.setup_mpl_tex import setup_mpl_tex, set_size, get_ax_size\n",
    "from mpl_toolkits.axes_grid1 import make_axes_locatable\n",
    "from matplotlib.colors import LinearSegmentedColormap\n",
    "\n",
    "setup_mpl_tex()\n",
    "\n",
    "shapshape = mean_shap_values3d_plot.shape\n",
    "y_ext, x_ext = shapshape[0]*shapshape[1], shapshape[2]*shapshape[3]\n",
    "\n",
    "fig, ax = plt.subplots(constrained_layout=True, figsize=set_size('textwidth'))#(8,12))\n",
    "\n",
    "abs_max = np.max(np.abs(mean_shap_values3d_plot))\n",
    "print('abs_max: ', abs_max)\n",
    "abs_max = 0.1#0.2#\n",
    "\n",
    "cmap = 'bwr'#'seismic'#'coolwarm'#'RdBu_r'#'bwr'#'Reds'#'hot'#'bwr'#\n",
    "# cmap = plt.get_cmap(cmap)\n",
    "p = [-abs_max, -0.1*abs_max, 0.1*abs_max, abs_max]\n",
    "f = lambda x: np.interp(x, p, [0, 0.5, 0.5, 1])\n",
    "cmap = LinearSegmentedColormap.from_list('my_map', list(zip(np.linspace(0,1), plt.cm.bwr(f(np.linspace(min(p), max(p)))))))\n",
    "\n",
    "cmap.set_bad('000000')\n",
    "\n",
    "# X_explain_fluct = X_explain - np.mean(X_explain, axis=0)\n",
    "# mean_shap_values = np.mean(np.sign(X_explain_fluct)*shap_values, axis=1)[:-5,...]\n",
    "# mean_shap_values = np.mean(np.abs(shap_values[:-5,...]), axis=1)\n",
    "# mean_shap_values = np.swapaxes(mean_shap_values, 1, 2)\n",
    "# print(mean_shap_values.shape)\n",
    "# abs_max = 0.146852815742443\n",
    "mean_shap_values3d_plot_2d = mean_shap_values3d_plot.reshape(y_ext, x_ext)\n",
    "im = ax.imshow(mean_shap_values3d_plot_2d,\n",
    "               origin='lower',\n",
    "               cmap=cmap,\n",
    "               interpolation='none',\n",
    "               norm=Normalize(vmin=-abs_max, vmax=abs_max))\n",
    "               # norm=Normalize(vmin=0, vmax=abs_max))\n",
    "               # norm=SymLogNorm(linthresh=0.001, vmin=-1000*abs_max, vmax=1000*abs_max))\n",
    "               # norm=Normalize(0,1))#, linthresh=0.001))#norm=TwoSlopeNorm(0))##)\n",
    "# fig.colorbar(im, orientation='horizontal', label=r'ensemble mean of $\\langle mul(x_i^\\prime)\\cdot shap(x_i,y_j)\\rangle_{Xb}$', shrink=0.8)\n",
    "divider = make_axes_locatable(ax)\n",
    "cax1 = divider.append_axes(\"right\", size=0.15, pad=0.1)\n",
    "fig.colorbar(im, cax=cax1, orientation='vertical', label=r'Ensemble Mean of $\\langle \\hat{x}_{ik}\\cdot shap(x_{ik},y_j)\\rangle_{k\\in \\mathcal{X}}$', extend='both')\n",
    "\n",
    "# Plot help lines\n",
    "plot_diff = 0.5\n",
    "for idx in Y_uniq_idx[:-5]:\n",
    "    ax.axhline(idx-plot_diff, ls='--', color='black', lw=0.2)\n",
    "for idx in X_uniq_idx:\n",
    "    ax.axvline(idx-plot_diff, ls='--', color='black', lw=0.2)\n",
    "\n",
    "for x_idx in X_uniq_idx:\n",
    "    for y_idx in Y_uniq_idx[:-5]:\n",
    "        shap_height = mean_shap_values3d_plot.shape[-1]\n",
    "        ax.plot([x_idx-plot_diff,x_idx+shap_height-plot_diff], [y_idx-plot_diff,y_idx+shap_height-plot_diff], ls='--', color='black', lw=0.2)\n",
    "        # mean_shap_val = mean_shap_values3d_plot_2d[y_idx:y_idx+shap_height,x_idx:x_idx+shap_height].mean()\n",
    "        # print(f'{mean_shap_val:.1e}')\n",
    "        # ax.text(x_idx, y_idx, f'{mean_shap_val:.1e}')\n",
    "# for xidx,yidx in zip(X_uniq_idx, Y_uniq_idx[:-5]):\n",
    "    # ax.plot([xidx,x_ext], [0,y_ext-5-yidx], ls='--', color='black', lw=0.2)\n",
    "    # ax.plot([0,x_ext-xidx], [yidx,y_ext-5], ls='--', color='black', lw=0.2)\n",
    "\n",
    "\n",
    "X_tick_labels = X_uniq_vars.copy()\n",
    "X_tick_labels = [input_var_remapping[var] for var in X_tick_labels]\n",
    "# X_tick_labels[X_tick_labels=='w_fl'] = 'w'\n",
    "# X_tick_labels = np.concatenate([['test'], X_tick_labels])\n",
    "# X_ticks = np.concatenate([[-10], X_uniq_idx])\n",
    "tick_offset = 11.5\n",
    "X_ticks = X_uniq_idx + tick_offset\n",
    "ax.set_xticks(X_ticks, X_tick_labels)\n",
    "ax.tick_params(axis='x', which='major', length=0)\n",
    "# ax.set_xticks(range(X_expl.shape[0]), list(map(''.join, X_expl)))\n",
    "\n",
    "ax.set_xticks(range(x_ext), minor=True)\n",
    "ax.set_yticks(range(y_ext), minor=True)\n",
    "# ax.legend()\n",
    "# fig.savefig(f'Figures/ShapValues/{model_name}_importance_symlog.jpg', dpi=300)\n",
    "Y_tick_labels = [label_remapping[var] for var in Y_uniq_vars[:-5]]\n",
    "\n",
    "scale = 20#*0.005014002182269052/0.038513823887718304\n",
    "# forest_importances_scaled = - forest_importances/np.max(np.abs(forest_importances)) * scale\n",
    "shap_importance3d_scaled = - shap_importance3d_plot/np.max(np.abs(shap_importance3d_plot)) * scale\n",
    "# permutation_importances_scaled = permutation_importances/np.max(np.abs(permutation_importances)) * scale\n",
    "# ax.bar(range(len(forest_importances_scaled)), forest_importances_scaled, width=1)\n",
    "ax.bar(range(len(shap_importance3d_scaled)), shap_importance3d_scaled, width=1)\n",
    "# ax.bar(range(len(permutation_importances_scaled)), permutation_importances_scaled, width=1)\n",
    "# rf_y_label = 'Mean\\ndecrease\\nin\\nMSE'\n",
    "rf_y_label = 'Feature\\nImport.'\n",
    "# rf_y_label = 'Permutation\\nfeature\\nimportance'\n",
    "# ylims = ax.get_ylim()\n",
    "# ax.set_ylim(ylims)\n",
    "rf_y_position = ax.get_ylim()[0]/2\n",
    "ax.set_yticks([rf_y_position]+list(Y_uniq_idx[:-5]+tick_offset), [rf_y_label]+Y_tick_labels)\n",
    "# ax.set_yticks(Y_uniq_idx[:-5]+tick_offset, Y_tick_labels)\n",
    "\n",
    "ax.tick_params(axis='y', which='major', length=0)\n",
    "\n",
    "def draw_inset(ax, px, py, lims, labels=False, special=False, color=None, indicate_zoom_lines=True, label=None):\n",
    "    color = color if color else 'black'\n",
    "    # inset axes....\n",
    "    bounds = lims \n",
    "    axins = ax.inset_axes(bounds, transform=ax.transData)\n",
    "    # axins = inset_axes(ax, width=1, height=1, bbox_transform=ax.transAxes, bbox_to_anchor=(0, 1), loc='upper right', borderpad=0)\n",
    "    # subregion of the original image\n",
    "    x1, x2, y1, y2 = 23*px, 23*(px+1), 23*py, 23*(py+1)\n",
    "    if special:\n",
    "        axins.imshow(test_shaps,\n",
    "                   origin='lower',\n",
    "                   cmap=cmap,\n",
    "                   interpolation='none',\n",
    "                   norm=Normalize(vmin=-abs_max, vmax=abs_max))\n",
    "                   # norm=Normalize(0,1))\n",
    "    else:\n",
    "        axins.imshow(mean_shap_values3d_plot_2d,\n",
    "                   origin='lower',\n",
    "                   cmap=cmap,\n",
    "                   interpolation='none',\n",
    "                   norm=Normalize(vmin=-abs_max, vmax=abs_max))\n",
    "                   # norm=Normalize(vmin=0, vmax=abs_max))\n",
    "                   # norm=Normalize(0,1))\n",
    "    \n",
    "    axins.plot([x1,x2], [y1,y2], ls='--', color='black', lw=0.3)\n",
    "    axins.set_xlim(x1, x2)\n",
    "    axins.set_ylim(y1, y2)\n",
    "    axins.set_xticks([x1,x2])\n",
    "    axins.set_yticks([y1,y2])\n",
    "    axins.set_xticklabels([])\n",
    "    axins.set_yticklabels([])\n",
    "    if color:\n",
    "        for sp in ax.spines:\n",
    "            axins.spines[sp].set_color(color)\n",
    "            axins.spines[sp].set_linestyle('--')\n",
    "            axins.spines[sp].set_linewidth(1.5)\n",
    "    if labels:\n",
    "        axins.set_xlabel(X_tick_labels[px], labelpad=-4)\n",
    "        axins.set_ylabel(Y_tick_labels[py], labelpad=-3)\n",
    "\n",
    "    rect, conlines = ax.indicate_inset_zoom(axins, edgecolor=color, ls='--')\n",
    "    rect.set(linewidth=1.5, alpha=1)\n",
    "    if indicate_zoom_lines:\n",
    "        for l in conlines:\n",
    "            l.set(linestyle=':')\n",
    "    else:\n",
    "        for l in conlines:\n",
    "            l.set(linestyle='')\n",
    "    if label:\n",
    "        axins.text(0+0.05, 1-0.05, label, transform=axins.transAxes, ha='left', va='top', fontsize=10)\n",
    "        ax.text(x1+1, y2-1, label, ha='left', va='top', fontsize=8)\n",
    "\n",
    "    return axins\n",
    "\n",
    "zoom_size = 23*2\n",
    "n_plots = 3\n",
    "y_gap = (y_ext - zoom_size*n_plots)/(n_plots+1)\n",
    "x_ll = -zoom_size - 22\n",
    "p1x, p1y = 0,5\n",
    "p2x, p2y = 4,6\n",
    "p3x, p3y = 5,7\n",
    "# p2x, p2y = 6,6\n",
    "# p3x, p3y = 4,5\n",
    "\n",
    "inset_cmap = plt.get_cmap('Dark2')#'viridis')\n",
    "y1,y2,y3 = np.arange(y_gap, y_ext, zoom_size+y_gap)\n",
    "inset_axs = []\n",
    "inset_axs.append(draw_inset(ax, p1x, p1y, [x_ll, y3, zoom_size, zoom_size], labels=True, indicate_zoom_lines=False, label='a)', color=inset_cmap(0)))#0.1)))\n",
    "inset_axs.append(draw_inset(ax, p2x, p2y, [x_ll, y2, zoom_size, zoom_size], labels=True, indicate_zoom_lines=False, label='b)', color=inset_cmap(1)))#0.4)))\n",
    "inset_axs.append(draw_inset(ax, p3x, p3y, [x_ll, y1, zoom_size, zoom_size], labels=True, indicate_zoom_lines=False, label='c)', color=inset_cmap(2)))#0.7)))\n",
    "# for axi,letter in zip(inset_axs, ['a)', 'b)', 'c)']):\n",
    "#     axi.text(0+0.05, 1-0.05, letter, transform=axi.transAxes, ha='left', va='top', fontsize=10)\n",
    "    \n",
    "# fig.savefig(f'../../Figures/Pdfplots/ensmean_shap_importance-{model_type}-{model_id}-stdsamescale-noimp.pdf', bbox_inches='tight')\n",
    "# fig.savefig(f'../../Figures/Pdfplots/ensmean_shap_importance-{model_type}-{model_id}-noimp-kernelexpl-1ensemblem.pdf', bbox_inches='tight')\n",
    "fig.savefig(f'../../Figures/Pdfplots/ensmean_shap_importance-{model_type}-{model_id}-qualcolored_bwr_custom.pdf', bbox_inches='tight')\n",
    "\n",
    "plt.show()"
   ]
  },
  {
   "cell_type": "code",
   "execution_count": null,
   "id": "4cff2c98-615a-43ca-833e-b1c8d1ae6b5d",
   "metadata": {},
   "outputs": [],
   "source": []
  }
 ],
 "metadata": {
  "kernelspec": {
   "display_name": "Py3.8 (conda)",
   "language": "python",
   "name": "py3.8"
  },
  "language_info": {
   "codemirror_mode": {
    "name": "ipython",
    "version": 3
   },
   "file_extension": ".py",
   "mimetype": "text/x-python",
   "name": "python",
   "nbconvert_exporter": "python",
   "pygments_lexer": "ipython3",
   "version": "3.8.15"
  }
 },
 "nbformat": 4,
 "nbformat_minor": 5
}
