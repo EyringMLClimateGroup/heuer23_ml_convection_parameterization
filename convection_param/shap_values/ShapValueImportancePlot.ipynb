{
 "cells": [
  {
   "cell_type": "code",
   "execution_count": 1,
   "id": "0ed7c57e-c14f-47e0-8f3d-9ddc6fdec664",
   "metadata": {
    "tags": []
   },
   "outputs": [],
   "source": [
    "import numpy as np\n",
    "import numpy.random as npr\n",
    "import matplotlib.pyplot as plt\n",
    "# import torch\n",
    "# import torch.nn as nn\n",
    "# import torch.nn.functional as F\n",
    "# import torch.optim as optim\n",
    "# from torch.utils.data import TensorDataset, DataLoader\n",
    "from tqdm.notebook import tqdm\n",
    "import os\n",
    "import pickle\n",
    "import time\n",
    "# import shap\n",
    "# import seaborn as sns\n",
    "\n",
    "%load_ext autoreload\n",
    "%autoreload 2"
   ]
  },
  {
   "cell_type": "markdown",
   "id": "8cfe513e",
   "metadata": {},
   "source": [
    "This notebook visualizes the from SHAP values inferred feature importance"
   ]
  },
  {
   "cell_type": "code",
   "execution_count": 2,
   "id": "bc8ab28c-6a2d-4d0f-a80b-23d3636b8886",
   "metadata": {
    "tags": []
   },
   "outputs": [
    {
     "name": "stdout",
     "output_type": "stream",
     "text": [
      "['X_train', 'X_val', 'X_test', 'Y_train', 'Y_val', 'Y_test', 'X_expl', 'Y_expl', 'train_coords', 'val_coords', 'test_coords']\n"
     ]
    }
   ],
   "source": [
    "from convection_param.HelperFuncs import unique_unsorted\n",
    "\n",
    "data_path = '../../local_data/TrainData/20230131-171851-R2B5_y13y16_vcg-fluxes_rho_fluct.npz'\n",
    "# data_path = '../../local_data/TrainData/20230210-131835-R2B5_y13y16_vcg-fluxes_rho_fluct_neglect.npz'\n",
    "data = np.load(data_path)\n",
    "print(data.files)\n",
    "\n",
    "X_expl, Y_expl = data['X_expl'], data['Y_expl']\n",
    "\n",
    "# vars_to_neglect_mask = ~np.isin(unique_unsorted([e[0] for e in X_expl]), vars_to_neglect)\n",
    "# print(vars_to_neglect_mask)\n",
    "vars_to_neglect = ['qr','qs']\n",
    "X_expl_woqrqs = np.array([e for e in X_expl if e[0] not in vars_to_neglect])"
   ]
  },
  {
   "cell_type": "code",
   "execution_count": 3,
   "id": "88b6d7fe-24bc-4a06-b381-d2d2d603b9a5",
   "metadata": {
    "tags": []
   },
   "outputs": [],
   "source": [
    "X_expl_vars = [v[0] for v in X_expl]\n",
    "X_expl_vars_woqrqs = [v[0] for v in X_expl_woqrqs]\n",
    "Y_expl_vars = [v[0] for v in Y_expl]\n",
    "\n",
    "Y_uniq_vars, Y_uniq_idx = np.unique(Y_expl_vars, return_index=True)\n",
    "idx_sorted = np.argsort(Y_uniq_idx)\n",
    "Y_uniq_vars = Y_uniq_vars[idx_sorted]\n",
    "Y_uniq_idx = Y_uniq_idx[idx_sorted]\n",
    "\n",
    "X_uniq_vars, X_uniq_idx = np.unique(X_expl_vars, return_index=True)\n",
    "idx_sorted = np.argsort(X_uniq_idx)\n",
    "X_uniq_vars = X_uniq_vars[idx_sorted]\n",
    "X_uniq_idx = X_uniq_idx[idx_sorted]\n",
    "\n",
    "X_uniq_vars_woqrqs, X_uniq_idx_woqrqs = np.unique(X_expl_vars_woqrqs, return_index=True)\n",
    "idx_sorted_woqrqs = np.argsort(X_uniq_idx_woqrqs)\n",
    "X_uniq_vars_woqrqs = X_uniq_vars_woqrqs[idx_sorted_woqrqs]\n",
    "X_uniq_idx_woqrqs = X_uniq_idx_woqrqs[idx_sorted_woqrqs]"
   ]
  },
  {
   "cell_type": "code",
   "execution_count": 4,
   "id": "135b2413-86b0-4b05-afc7-6becb431a478",
   "metadata": {
    "tags": []
   },
   "outputs": [],
   "source": [
    "def get_saved_shap_values(path, classic_ml):\n",
    "    model_path_content = list(os.scandir(path))\n",
    "\n",
    "    X_explains = []\n",
    "    backgrounds = []\n",
    "    shaps = []\n",
    "    shap_files = [c.path for c in model_path_content if 'shaps_' in c.name]\n",
    "    for f in tqdm(shap_files):\n",
    "        data = np.load(f)\n",
    "        X_explains.append(data['X_explain'])\n",
    "        shaps.append(data['shap_values'])\n",
    "\n",
    "    X_explains = np.stack(X_explains, axis=0)\n",
    "    shaps = np.stack(shaps, axis=0)\n",
    "    \n",
    "    if classic_ml:\n",
    "        # For classic ml data:\n",
    "        X_explains_new_shape = list(X_explains.shape)[:-1] + [-1, 23]\n",
    "        X_explains = X_explains.reshape(X_explains_new_shape)\n",
    "        shaps_new_shape = list(shaps.shape)[:-1] + [-1, 23]\n",
    "        shaps = shaps.reshape(shaps_new_shape)\n",
    "    \n",
    "    X_explains = np.swapaxes(X_explains, 0, 1)\n",
    "    shaps = np.moveaxis(shaps, 0, 2)\n",
    "    \n",
    "    multiplier = X_explains - np.mean(X_explains, axis=0)\n",
    "    multiplier /= np.maximum(np.max(np.abs(multiplier), axis=0), 0)\n",
    "    \n",
    "    shap_values3d = shaps[:-5,...]\n",
    "    rshape = shap_values3d.shape\n",
    "    rshape = [-1, 23] + list(rshape)[1:]\n",
    "    shap_values3d = shap_values3d.reshape(rshape)\n",
    "    \n",
    "    print(multiplier.shape)\n",
    "    print(shap_values3d.shape)\n",
    "    shap_values3d = shap_values3d[:,::-1,:,:,:,::-1]\n",
    "    multiplier = multiplier[:,:,:,::-1]\n",
    "    return shap_values3d, multiplier"
   ]
  },
  {
   "cell_type": "code",
   "execution_count": 5,
   "id": "e780054c-fd30-400f-9b94-584a73ef3b19",
   "metadata": {
    "tags": []
   },
   "outputs": [
    {
     "data": {
      "application/vnd.jupyter.widget-view+json": {
       "model_id": "d808546b97444807bbf82b2f1cc5b91f",
       "version_major": 2,
       "version_minor": 0
      },
      "text/plain": [
       "  0%|          | 0/5 [00:00<?, ?it/s]"
      ]
     },
     "metadata": {},
     "output_type": "display_data"
    },
    {
     "name": "stdout",
     "output_type": "stream",
     "text": [
      "(1000, 5, 9, 23)\n",
      "(8, 23, 1000, 5, 9, 23)\n"
     ]
    },
    {
     "data": {
      "application/vnd.jupyter.widget-view+json": {
       "model_id": "664cea8270a04e6fa0463f10956eef15",
       "version_major": 2,
       "version_minor": 0
      },
      "text/plain": [
       "  0%|          | 0/5 [00:00<?, ?it/s]"
      ]
     },
     "metadata": {},
     "output_type": "display_data"
    },
    {
     "name": "stdout",
     "output_type": "stream",
     "text": [
      "(1000, 5, 7, 23)\n",
      "(8, 23, 1000, 5, 7, 23)\n"
     ]
    }
   ],
   "source": [
    "model_path = '../../Models/NewFormat/Torch/20230415-021732R2B5_vlr_unet_adam_lr0.0003_y13y16full_fluxes_prescaledeps1_wqrqstend_worhoprestemp_torch_rhofluct_alldays_hpoed/'\n",
    "model_path_woqrqs = '../../Models/NewFormat/Torch/20230510-012946R2B5_vlr_unet_adam_lr0.0003_y13y16full_fluxes_prescaledeps1_wqrqstend_worhoprestemp_torch_rhofluct_alldays_woqrqs_hpoed/'\n",
    "\n",
    "shap_values3d, multiplier = get_saved_shap_values(model_path, classic_ml=False)\n",
    "mean_shap_values3d = np.mean(multiplier * shap_values3d, axis=2)\n",
    "shap_importance3d = np.mean(np.abs(shap_values3d), axis=(0,1,2))\n",
    "\n",
    "shap_values3d_woqrqs, multiplier_woqrqs = get_saved_shap_values(model_path_woqrqs, classic_ml=False)\n",
    "mean_shap_values3d_woqrqs = np.mean(multiplier_woqrqs * shap_values3d_woqrqs, axis=2)\n",
    "shap_importance3d_woqrqs = np.mean(np.abs(shap_values3d_woqrqs), axis=(0,1,2))"
   ]
  },
  {
   "cell_type": "code",
   "execution_count": 6,
   "id": "ea7e6661-2f9f-4048-9c2b-ea8d8915067a",
   "metadata": {
    "tags": []
   },
   "outputs": [
    {
     "data": {
      "image/png": "[encoded data removed]",
      "text/plain": [
       "<Figure size 640x480 with 1 Axes>"
      ]
     },
     "metadata": {},
     "output_type": "display_data"
    }
   ],
   "source": [
    "mean_shap_importance3d = shap_importance3d.mean(axis=0)\n",
    "std_shap_importance3d = shap_importance3d.std(axis=0)\n",
    "shap_importance_fract_test = np.sum(mean_shap_importance3d, axis=-1)/np.sum(mean_shap_importance3d)\n",
    "\n",
    "mean_shap_importance3d_woqrqs = shap_importance3d_woqrqs.mean(axis=0)\n",
    "std_shap_importance3d_woqrqs = shap_importance3d_woqrqs.std(axis=0)\n",
    "shap_importance_fract_woqrqs_test = np.sum(mean_shap_importance3d_woqrqs, axis=-1)/np.sum(mean_shap_importance3d_woqrqs)\n",
    "\n",
    "plt.bar(range(len(shap_importance_fract_test)), shap_importance_fract_test)\n",
    "plt.bar(range(len(shap_importance_fract_woqrqs_test)), shap_importance_fract_woqrqs_test)\n",
    "plt.show()"
   ]
  },
  {
   "cell_type": "code",
   "execution_count": 7,
   "id": "a91c32cc-a95f-4b42-a2b4-5218f661f2fa",
   "metadata": {
    "tags": []
   },
   "outputs": [
    {
     "name": "stderr",
     "output_type": "stream",
     "text": [
      "/tmp/ipykernel_1116909/1955128332.py:1: RuntimeWarning: invalid value encountered in divide\n",
      "  plt.bar(range(len(mean_shap_importance3d_woqrqs.ravel())), std_shap_importance3d_woqrqs.ravel()/mean_shap_importance3d_woqrqs.ravel())\n"
     ]
    },
    {
     "data": {
      "image/png": "[encoded data removed]",
      "text/plain": [
       "<Figure size 640x480 with 1 Axes>"
      ]
     },
     "metadata": {},
     "output_type": "display_data"
    }
   ],
   "source": [
    "plt.bar(range(len(mean_shap_importance3d_woqrqs.ravel())), std_shap_importance3d_woqrqs.ravel()/mean_shap_importance3d_woqrqs.ravel())\n",
    "# plt.bar(range(len(shap_importance_fract_woqrqs_test)), shap_importance_fract_woqrqs_test)\n",
    "plt.show()"
   ]
  },
  {
   "cell_type": "code",
   "execution_count": 8,
   "id": "5e53a4ad-7fcf-4cd2-bac0-e31a2ac7021d",
   "metadata": {
    "tags": []
   },
   "outputs": [],
   "source": [
    "def round_series_retain_integer_sum(xs):\n",
    "    N = sum(xs)\n",
    "    Rs = np.round(xs)\n",
    "    K = int(N - sum(Rs))\n",
    "    if K > 0:\n",
    "        fs = xs - Rs\n",
    "        indices = np.argsort(fs)[-K:]\n",
    "        Rs[indices] += 1\n",
    "    return Rs"
   ]
  },
  {
   "cell_type": "code",
   "execution_count": 9,
   "id": "79cbb14c-9f3e-4495-b08d-83977ab0bdf3",
   "metadata": {
    "tags": []
   },
   "outputs": [
    {
     "data": {
      "text/plain": [
       "1.6190893722218176"
      ]
     },
     "execution_count": 9,
     "metadata": {},
     "output_type": "execute_result"
    }
   ],
   "source": [
    "mean_shap_importance3d_woqrqs.sum()"
   ]
  },
  {
   "cell_type": "code",
   "execution_count": 10,
   "id": "d949ee05-52c5-4337-83ff-4be6023cf217",
   "metadata": {
    "tags": []
   },
   "outputs": [
    {
     "name": "stdout",
     "output_type": "stream",
     "text": [
      "[0.08957695 0.05213482 0.06186812 0.03354592 0.52286378 0.10410771\n",
      " 0.05275801 0.0598354  0.02330929]\n",
      "[(9.0, 8.957694645233595), (5.0, 5.213482004105482), (6.0, 6.186811981063222), (3.0, 3.354591776914711), (52.0, 52.28637773620369), (11.0, 10.410770947389326), (5.0, 5.275801209640583), (6.0, 5.983540246531792), (2.0, 2.330929452917594)]\n",
      "Sum: 99.0\n",
      "[0.22310633 0.1419642  0.20264868 0.09086414 0.1279045  0.1364381\n",
      " 0.07707404]\n",
      "[(22.0, 22.310633306088246), (14.0, 14.196420426621916), (20.0, 20.264868446107684), (9.0, 9.0864142517588), (13.0, 12.790449573425096), (14.0, 13.643810408339455), (8.0, 7.707403587658794)]\n",
      "Sum: 100.0\n"
     ]
    },
    {
     "data": {
      "image/png": "[encoded data removed]",
      "text/plain": [
       "<Figure size 549.921x412.441 with 2 Axes>"
      ]
     },
     "metadata": {},
     "output_type": "display_data"
    }
   ],
   "source": [
    "from convection_param.setup_mpl_tex import set_size, setup_mpl_tex, get_ax_size\n",
    "from convection_param.Constants import input_var_remapping\n",
    "import string\n",
    "\n",
    "setup_mpl_tex()\n",
    "# plt.style.use('default')\n",
    "\n",
    "fig, axs = plt.subplots(2,1,constrained_layout=True, figsize=set_size('textwidth'))\n",
    "(ax1, ax2) = axs\n",
    "decimals = 0\n",
    "plot_decimals = None if decimals == 0 else decimals\n",
    "\n",
    "def plot_bar(mean_shap_importance, std_shap_importance, ax, X_ticks, X_tick_labels, retain_round_sum):\n",
    "    shapshape = mean_shap_importance.shape\n",
    "    x_ext = shapshape[0]*shapshape[1]\n",
    "    X_tick_labels = [input_var_remapping[lab] for lab in X_tick_labels]\n",
    "    plot_diff = 0.5\n",
    "    x_tick_offset = 23/2\n",
    "\n",
    "    shap_importance_mean = mean_shap_importance.flatten()\n",
    "    shap_importance_std = std_shap_importance.flatten()\n",
    "    ax.bar(range(len(shap_importance_mean)), shap_importance_mean, yerr=shap_importance_std, capsize=2)\n",
    "    # ax.bar(range(len(shap_importance_mean)), np.divide(shap_importance_std,shap_importance_mean,where=np.abs(shap_importance_mean)>0.00001))\n",
    "    # sns.boxplot(shap_importance3d.reshape(5,-1), ax=ax)\n",
    "    \n",
    "    shap_importance_fract = np.sum(mean_shap_importance, axis=-1)/np.sum(mean_shap_importance)\n",
    "    X_txt_locs = (X_ticks+x_tick_offset) / x_ext\n",
    "    print(shap_importance_fract)\n",
    "    if retain_round_sum:\n",
    "        imp_percents_rounded = round_series_retain_integer_sum(shap_importance_fract*100)\n",
    "    else:\n",
    "        imp_percents_rounded = np.round(shap_importance_fract*100, decimals)\n",
    "    print([(a,b) for a,b, in zip(imp_percents_rounded, shap_importance_fract*100)])\n",
    "    print(f'Sum: {np.sum(imp_percents_rounded)}')\n",
    "    for idx,txt_loc,imp_frac in zip(X_uniq_idx, X_txt_locs, imp_percents_rounded):\n",
    "        ax.axvline(idx-plot_diff, ls='--', color='black', lw=0.2)\n",
    "        ax.text(txt_loc, 1, f'{round(imp_frac,plot_decimals)}\\,\\%', fontsize=8,\n",
    "                 ha='center', va='bottom', transform=ax.transAxes)\n",
    "        # ax.plot(idx, 0.23, ls=None)\n",
    "\n",
    "    ax.set_xticks(X_ticks+x_tick_offset, X_tick_labels)\n",
    "    ax.tick_params(axis='x', which='major', length=0)\n",
    "    ax.set_xticks(range(x_ext), minor=True)\n",
    "    # ax.axhline(0, color='black', lw=1)\n",
    "    ax.set_ylim(0,None)\n",
    "    ax.set_xlim(0,x_ext)\n",
    "    # plt.show()\n",
    "\n",
    "plot_bar(mean_shap_importance3d, std_shap_importance3d,\n",
    "         ax1, X_uniq_idx, X_uniq_vars.copy(), True)\n",
    "plot_bar(mean_shap_importance3d_woqrqs, std_shap_importance3d_woqrqs,\n",
    "         ax2, X_uniq_idx_woqrqs, X_uniq_vars_woqrqs.copy(), True)\n",
    "\n",
    "\n",
    "for ax,letter in zip(axs, ['a)', 'b)']):\n",
    "    w, h = get_ax_size(ax, fig)\n",
    "    ax.text(0+0.02, 1-0.02*w/h, letter, transform=ax.transAxes, ha='left', va='top', fontsize=12)\n",
    "    # ax.spines[['right', 'top']].set_visible(False)\n",
    "\n",
    "fig.supylabel('SHAP Feature Importance', fontsize=9)\n",
    "# fig.supylabel('SHAP Feature Importance Relative STD', fontsize=9)\n",
    "# fig.savefig('../../Figures/Pdfplots/ShapImportanceComparison_textwidth.pdf')\n",
    "# fig.savefig('../../Figures/Pdfplots/ShapImportanceComparisonRelaiveStd_halfa4.pdf')\n",
    "plt.show()"
   ]
  },
  {
   "cell_type": "code",
   "execution_count": null,
   "id": "b5f2b143-3877-445f-baed-a3ce80ee0c34",
   "metadata": {},
   "outputs": [],
   "source": []
  }
 ],
 "metadata": {
  "kernelspec": {
   "display_name": "Py3.8 (conda)",
   "language": "python",
   "name": "py3.8"
  },
  "language_info": {
   "codemirror_mode": {
    "name": "ipython",
    "version": 3
   },
   "file_extension": ".py",
   "mimetype": "text/x-python",
   "name": "python",
   "nbconvert_exporter": "python",
   "pygments_lexer": "ipython3",
   "version": "3.8.15"
  }
 },
 "nbformat": 4,
 "nbformat_minor": 5
}
