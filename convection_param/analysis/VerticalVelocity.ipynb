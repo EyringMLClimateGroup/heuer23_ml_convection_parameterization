{
 "cells": [
  {
   "cell_type": "code",
   "execution_count": 1,
   "metadata": {},
   "outputs": [],
   "source": [
    "import numpy as np\n",
    "import matplotlib.pyplot as plt\n",
    "import xarray as xr\n",
    "from tqdm.notebook import tqdm\n",
    "\n",
    "xr.set_options(display_style=\"html\");\n",
    "%load_ext autoreload\n",
    "%autoreload 2\n",
    "\n",
    "base_path_scratch = '/scratch/b/b309215'"
   ]
  },
  {
   "cell_type": "code",
   "execution_count": 5,
   "metadata": {},
   "outputs": [],
   "source": [
    "def my_hist(vals, N_bins, hist_range):\n",
    "    '''works as hist, but values lower/higher than first/last\n",
    "    bin are added to first/last bin instead of ignoring'''\n",
    "    vals = np.clip(vals, a_min=hist_range[0], a_max=hist_range[1])\n",
    "    return np.histogram(vals, bins=N_bins, range=hist_range)"
   ]
  },
  {
   "cell_type": "code",
   "execution_count": 6,
   "metadata": {
    "scrolled": true
   },
   "outputs": [
    {
     "data": {
      "application/vnd.jupyter.widget-view+json": {
       "model_id": "b990eee50c794628b7880dd4a82f94a4",
       "version_major": 2,
       "version_minor": 0
      },
      "text/plain": [
       "  0%|          | 0/72 [00:00<?, ?it/s]"
      ]
     },
     "metadata": {},
     "output_type": "display_data"
    },
    {
     "name": "stdout",
     "output_type": "stream",
     "text": [
      "Checking file /scratch/b/b309215/HErZ-NARVALII/DATA/2016083000/dei4_NARVALII_2016083000_fg_DOM02_ML_0007.nc\n"
     ]
    },
    {
     "name": "stderr",
     "output_type": "stream",
     "text": [
      "\n",
      "KeyboardInterrupt\n",
      "\n"
     ]
    }
   ],
   "source": [
    "root_path = os.path.join(base_path_scratch + f'HErZ-NARVALII/DATA/{date}/')\n",
    "max_w = 0\n",
    "min_w = 0\n",
    "\n",
    "hist_range = (-0.5, 0.5)\n",
    "N_bins = 100\n",
    "hist_cummulative = np.zeros(N_bins)\n",
    "\n",
    "fg_files = [os.path.join(root_path, f) for f in os.listdir(root_path) if 'fg' in f]\n",
    "for file_path in tqdm(fg_files):\n",
    "    print(f'Checking file {file_path}')\n",
    "    with xr.open_dataset(file_path) as ds:\n",
    "        w_hl_vals = ds.w.values\n",
    "        non_nan_cells = ~np.isnan(ds.z_ifc.values[0,:])\n",
    "        w_hl_non_na = w_hl_vals[:,:,non_nan_cells]\n",
    "        \n",
    "        new_max = np.max(w_hl_non_na)\n",
    "        new_min = np.min(w_hl_non_na)\n",
    "        max_w = np.maximum(max_w, new_max)\n",
    "        min_w = np.minimum(min_w, new_min)\n",
    "        \n",
    "        hist_vals, hist_edges = my_hist(w_hl_non_na, N_bins=N_bins, hist_range=hist_range)\n",
    "        hist_cummulative += hist_vals\n",
    "\n",
    "print(f'max observed w: {max_w} m/s')\n",
    "print(f'min observed w: {min_w} m/s')\n",
    "np.savez(f'Processed/{date}/w_hist0.5.npz',\n",
    "         hist_cummulative=hist_cummulative,\n",
    "         hist_edges=hist_edges,\n",
    "         max_w=max_w,\n",
    "         min_w=min_w)"
   ]
  },
  {
   "cell_type": "code",
   "execution_count": 20,
   "metadata": {},
   "outputs": [],
   "source": [
    "dates = ['2016080100', '2016080900', '2016081200', '2016081800', '2016082400', '2016082500', '2016083000']\n",
    "max_w = 0\n",
    "min_w = 0\n",
    "hist_cummulative = np.zeros(100)\n",
    "for date in dates:\n",
    "    hist_data = np.load(f'Processed/{date}/w_hist0.5.npz')\n",
    "    hist_cummulative += hist_data['hist_cummulative']\n",
    "    hist_edges = hist_data['hist_edges']\n",
    "    max_w = hist_data['max_w'] if hist_data['max_w'] > max_w else max_w\n",
    "    min_w = hist_data['min_w'] if hist_data['min_w'] < min_w else min_w"
   ]
  },
  {
   "cell_type": "code",
   "execution_count": 28,
   "metadata": {},
   "outputs": [
    {
     "data": {
      "image/png": "[encoded data removed]",
      "text/plain": [
       "<Figure size 432x288 with 1 Axes>"
      ]
     },
     "metadata": {
      "needs_background": "light"
     },
     "output_type": "display_data"
    }
   ],
   "source": [
    "%matplotlib inline\n",
    "edges_centered = (hist_edges[:-1] + hist_edges[1:])/2\n",
    "# hist_cummulative[0], hist_cummulative[-1] = 0,0\n",
    "fig, ax = plt.subplots(constrained_layout=True)\n",
    "ax.bar(edges_centered, hist_cummulative, width=np.diff(hist_edges))\n",
    "# ax.axvline(0.05, c='green', ls='--')\n",
    "# ax.axvline(0.1, c='#f7dc0f', ls='--')\n",
    "ax.set_title(f'Vertical Velocity Histogram')\n",
    "ax.set_xlabel('w (m/s)')\n",
    "ax.set_ylabel('Frequency')\n",
    "\n",
    "# fig.savefig(f'Processed/Figures/w_distribution_7days.png', dpi=600)\n",
    "plt.show()"
   ]
  },
  {
   "cell_type": "code",
   "execution_count": null,
   "metadata": {},
   "outputs": [],
   "source": []
  }
 ],
 "metadata": {
  "kernelspec": {
   "display_name": "Python 3.9",
   "language": "python",
   "name": "py3.9"
  },
  "language_info": {
   "codemirror_mode": {
    "name": "ipython",
    "version": 3
   },
   "file_extension": ".py",
   "mimetype": "text/x-python",
   "name": "python",
   "nbconvert_exporter": "python",
   "pygments_lexer": "ipython3",
   "version": "3.9.12"
  }
 },
 "nbformat": 4,
 "nbformat_minor": 4
}
