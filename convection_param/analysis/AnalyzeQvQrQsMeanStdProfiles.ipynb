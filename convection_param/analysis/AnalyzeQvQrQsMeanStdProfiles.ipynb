{
 "cells": [
  {
   "cell_type": "code",
   "execution_count": 1,
   "id": "0415f3b7-dbd7-4348-857f-dd1a5fb4aed2",
   "metadata": {
    "tags": []
   },
   "outputs": [],
   "source": [
    "import numpy as np\n",
    "import numpy.random as npr\n",
    "import pandas as pd\n",
    "import matplotlib.pyplot as plt\n",
    "from tqdm.notebook import tqdm\n",
    "import xarray as xr\n",
    "import seaborn as sns\n",
    "import os\n",
    "from convection_param.Constants import label_remapping\n",
    "import pickle\n",
    "from convection_param.setup_mpl_tex import setup_mpl_tex, set_size\n",
    "\n",
    "%load_ext autoreload\n",
    "%autoreload 2"
   ]
  },
  {
   "cell_type": "code",
   "execution_count": 2,
   "id": "16b8a8a2-e56c-41a3-9beb-d59c9a7f5cd8",
   "metadata": {
    "tags": []
   },
   "outputs": [
    {
     "name": "stdout",
     "output_type": "stream",
     "text": [
      "['Y_test', 'Y_pred', 'X_expl', 'Y_expl']\n"
     ]
    }
   ],
   "source": [
    "data_path = '../../Models/NewFormat/Torch/20230415-021732R2B5_vlr_unet_adam_lr0.0003_y13y16full_fluxes_prescaledeps1_wqrqstend_worhoprestemp_torch_rhofluct_alldays_hpoed/TestPredictions.npz'\n",
    "data = np.load(data_path)\n",
    "model_name = os.path.basename(os.path.dirname(data_path))\n",
    "print(data.files)\n",
    "Y_test, Y_pred, X_expl, Y_expl = data['Y_test'], data['Y_pred'], data['X_expl'], data['Y_expl']"
   ]
  },
  {
   "cell_type": "code",
   "execution_count": 3,
   "id": "f7c12f18-08fd-4bfd-beaa-01e566dd2a7a",
   "metadata": {
    "tags": []
   },
   "outputs": [
    {
     "name": "stdout",
     "output_type": "stream",
     "text": [
      "['X_train', 'X_val', 'X_test', 'Y_train', 'Y_val', 'Y_test', 'X_expl', 'Y_expl', 'train_coords', 'val_coords', 'test_coords']\n"
     ]
    }
   ],
   "source": [
    "train_data_path = '../../local_data/TrainData/20230131-171851-R2B5_y13y16_vcg-fluxes_rho_fluct.npz'\n",
    "train_data = np.load(train_data_path)\n",
    "print(train_data.files)\n",
    "test_coords = train_data['test_coords']"
   ]
  },
  {
   "cell_type": "code",
   "execution_count": 4,
   "id": "9eb96bcd-1c61-48c3-9245-feaba91608ad",
   "metadata": {
    "tags": []
   },
   "outputs": [
    {
     "name": "stdout",
     "output_type": "stream",
     "text": [
      "(201702, 189)\n",
      "(201702, 189)\n"
     ]
    }
   ],
   "source": [
    "Y_pred_gbt = np.load('../Models/from080622/20230421-1613616samples/HistGradientBoostingRegressor/test_preds.npz')['Y_test_pred']\n",
    "# Y_pred_gbt = Y_test.copy() + npr.normal(size=Y_test.shape)\n",
    "print(Y_pred_gbt.shape)\n",
    "print(Y_pred.shape)"
   ]
  },
  {
   "cell_type": "code",
   "execution_count": 6,
   "id": "8a968018-3b04-40df-8fee-a8beb82e826f",
   "metadata": {
    "tags": []
   },
   "outputs": [],
   "source": [
    "import pickle\n",
    "from convection_param.HelperFuncs import StandardScalerOneVar\n",
    "\n",
    "# with open('scalerdict_X.pickle', 'rb') as handle:\n",
    "with open('../../local_data/TrainData/20230131-171851-R2B5_y13y16_vcg-fluxes_rho_fluct_scalerdict_X.pickle', 'rb') as handle:\n",
    "    scalerdict_X = pickle.load(handle)\n",
    "\n",
    "# with open('scalerdict_Y.pickle', 'rb') as handle:\n",
    "with open('../../local_data/TrainData/20230131-171851-R2B5_y13y16_vcg-fluxes_rho_fluct_scalerdict_Y.pickle', 'rb') as handle:\n",
    "    scalerdict_Y = pickle.load(handle)\n",
    "    \n",
    "with open('../../local_data/TrainData/20230111-165428-R2B5_y13y16_vcg-fluxes_rho_fluct_Ymask.pickle', 'rb') as handle:\n",
    "    Y_mask = pickle.load(handle)\n",
    "\n",
    "# mean_rel_err = (Y_pred - Y_test) / Y_test\n",
    "# mean_rel_err_gbt = (Y_pred_gbt - Y_test) / Y_test\n",
    "# plt.hist(np.clip(mean_rel_err.ravel(), -1000, 1000), bins=100, log=True, alpha=0.5, label='unet')\n",
    "# plt.hist(np.clip(mean_rel_err_gbt.ravel(), -1000, 1000), bins=100, log=True, alpha=0.5, label='rf')\n",
    "# plt.legend()\n",
    "# plt.show()"
   ]
  },
  {
   "cell_type": "code",
   "execution_count": 7,
   "id": "79038603-92d9-44d5-8807-217b726b538c",
   "metadata": {
    "tags": []
   },
   "outputs": [
    {
     "name": "stdout",
     "output_type": "stream",
     "text": [
      "0.898280172996608\n",
      "0.12560661\n",
      "0.9399669547729596\n",
      "0.8352374742857839\n"
     ]
    }
   ],
   "source": [
    "from sklearn.metrics import r2_score, mean_squared_error, d2_pinball_score\n",
    "from convection_param.HelperFuncs import calc_correlation, compute_correlation_per_var\n",
    "import datetime\n",
    "\n",
    "R2_all = r2_score(Y_test, Y_pred, multioutput='raw_values')\n",
    "R2_varw = r2_score(Y_test[:,Y_mask], Y_pred[:,Y_mask], multioutput='variance_weighted')\n",
    "MSE = mean_squared_error(Y_test[:,Y_mask], Y_pred[:,Y_mask])\n",
    "Corr_varw = compute_correlation_per_var(Y_test[:,Y_mask], Y_pred[:,Y_mask], multioutput='variance_weighted')\n",
    "print(R2_varw)\n",
    "print(MSE)\n",
    "print(Corr_varw)\n",
    "\n",
    "R2_all_gbt = r2_score(Y_test, Y_pred_gbt, multioutput='raw_values')\n",
    "print(r2_score(Y_test[:,Y_mask], Y_pred_gbt[:,Y_mask], multioutput='variance_weighted'))"
   ]
  },
  {
   "cell_type": "code",
   "execution_count": 8,
   "id": "7f645185-992d-4eb1-9788-a7457ba143d1",
   "metadata": {
    "tags": []
   },
   "outputs": [
    {
     "name": "stdout",
     "output_type": "stream",
     "text": [
      "[0.77765778 0.79819328 0.85025293 0.85311284 0.89790093]\n",
      "[0.72719473 0.75088062 0.76951096 0.81261082 0.86004958]\n"
     ]
    }
   ],
   "source": [
    "# Comparison of R2 for 2d fields\n",
    "print(R2_all[-5:])\n",
    "print(R2_all_gbt[-5:])"
   ]
  },
  {
   "cell_type": "markdown",
   "id": "9431bdbf-4393-4180-8d3d-5242335b04a8",
   "metadata": {
    "tags": []
   },
   "source": [
    "# Plot Pred/Target Distribution/Scatter"
   ]
  },
  {
   "cell_type": "code",
   "execution_count": 9,
   "id": "fea499bc-2409-4e63-a123-02eba9fb3da2",
   "metadata": {
    "tags": []
   },
   "outputs": [
    {
     "name": "stdout",
     "output_type": "stream",
     "text": [
      "subg_flux_qv 0 23\n",
      "subg_flux_qc 23 46\n",
      "subg_flux_qi 46 69\n",
      "subg_flux_qr 69 92\n",
      "subg_flux_qs 92 115\n",
      "subg_flux_h 115 138\n",
      "subg_flux_u 138 161\n",
      "subg_flux_v 161 184\n",
      "clt 184 185\n",
      "cltp 185 186\n",
      "liq_detri 186 187\n",
      "ice_detri 187 188\n",
      "tot_prec 188 189\n"
     ]
    }
   ],
   "source": [
    "from convection_param.HelperFuncs import unique_unsorted\n",
    "\n",
    "Y_test_unnorm = Y_test.copy()\n",
    "Y_pred_unnorm = Y_pred.copy()\n",
    "Y_pred_gbt_unnorm = Y_pred_gbt.copy()\n",
    "idx0 = 0\n",
    "for var, idx_range in zip(*unique_unsorted([e[0] for e in Y_expl], return_counts=True)):\n",
    "    print(var,idx0,idx0+idx_range)\n",
    "    scaler = scalerdict_Y[var]\n",
    "    Y_test_unnorm[...,idx0:idx0+idx_range] = scaler.inverse_transform(Y_test_unnorm[...,idx0:idx0+idx_range])\n",
    "    Y_pred_unnorm[...,idx0:idx0+idx_range] = scaler.inverse_transform(Y_pred_unnorm[...,idx0:idx0+idx_range])\n",
    "    Y_pred_gbt_unnorm[...,idx0:idx0+idx_range] = scaler.inverse_transform(Y_pred_gbt_unnorm[...,idx0:idx0+idx_range])\n",
    "    idx0 += idx_range"
   ]
  },
  {
   "cell_type": "markdown",
   "id": "92af082c-a603-4e82-9b29-95163fd1f0f5",
   "metadata": {},
   "source": [
    "### Test"
   ]
  },
  {
   "cell_type": "code",
   "execution_count": 23,
   "id": "263c9341-fe0c-4bba-8c46-614f8d0cdb07",
   "metadata": {
    "tags": []
   },
   "outputs": [
    {
     "data": {
      "text/plain": [
       "(1613616, 23, 9)"
      ]
     },
     "execution_count": 23,
     "metadata": {},
     "output_type": "execute_result"
    }
   ],
   "source": [
    "X_train = train_data['X_train']\n",
    "X_train.shape"
   ]
  },
  {
   "cell_type": "code",
   "execution_count": 25,
   "id": "1d719bec-b6e8-44c1-b3ce-b2200fa4d252",
   "metadata": {
    "tags": []
   },
   "outputs": [
    {
     "name": "stdout",
     "output_type": "stream",
     "text": [
      "['w_fl' '9']\n",
      "w_fl\n",
      "['qv' '9']\n",
      "qv\n",
      "['qc' '9']\n",
      "qc\n",
      "['qi' '9']\n",
      "qi\n",
      "['qr' '9']\n",
      "qr\n",
      "['qs' '9']\n",
      "qs\n",
      "['u' '9']\n",
      "u\n",
      "['v' '9']\n",
      "v\n",
      "['h' '9']\n",
      "h\n"
     ]
    }
   ],
   "source": [
    "X_train_unnorm = X_train.copy()\n",
    "idx0 = 0\n",
    "for i,(key,scaler) in enumerate(scalerdict_X.items()):\n",
    "    print(X_expl[i*23])\n",
    "    print(key)\n",
    "    X_train_unnorm[:,:,i] = scaler.inverse_transform(X_train_unnorm[:,:,i])\n",
    "    # idx0 += idx_range"
   ]
  },
  {
   "cell_type": "code",
   "execution_count": 68,
   "id": "6148a00b-cb70-4232-a2d2-9444a5cdc108",
   "metadata": {
    "tags": []
   },
   "outputs": [
    {
     "name": "stdout",
     "output_type": "stream",
     "text": [
      "Minimal scale btw. qv and qr:  283.83034456435985\n",
      "Minimal scale btw. qv and qs:  6.495877367217855\n",
      "-59.01910596920261\n"
     ]
    },
    {
     "data": {
      "image/png": "[encoded data removed]",
      "text/plain": [
       "<Figure size 549.921x512.441 with 2 Axes>"
      ]
     },
     "metadata": {},
     "output_type": "display_data"
    }
   ],
   "source": [
    "from convection_param.setup_mpl_tex import setup_mpl_tex, set_size, get_ax_size\n",
    "\n",
    "setup_mpl_tex()\n",
    "figsize = list(set_size('textwidth'))\n",
    "figsize[1] += 1\n",
    "fig, axes = plt.subplots(2, 1, figsize=figsize, constrained_layout=True)\n",
    "\n",
    "ax = axes[0]\n",
    "\n",
    "mean_unnorm_qv = np.mean(X_train_unnorm[:,:,1], axis=0)\n",
    "std_unnorm_qv = np.std(X_train_unnorm[:,:,1], axis=0)\n",
    "mean_unnorm_qr = np.mean(X_train_unnorm[:,:,4], axis=0)\n",
    "std_unnorm_qr = np.std(X_train_unnorm[:,:,4], axis=0)\n",
    "mean_unnorm_qs = np.mean(X_train_unnorm[:,:,5], axis=0)\n",
    "std_unnorm_qs = np.std(X_train_unnorm[:,:,5], axis=0)\n",
    "x = range(1,len(mean_unnorm_qv)+1)\n",
    "\n",
    "ax.plot(x, mean_unnorm_qv, label='qv')\n",
    "ax.fill_between(x, mean_unnorm_qv-std_unnorm_qv, mean_unnorm_qv+std_unnorm_qv, alpha=0.5)\n",
    "ax.plot(x, mean_unnorm_qr, label='qr')\n",
    "ax.fill_between(x, mean_unnorm_qr-std_unnorm_qr, mean_unnorm_qr+std_unnorm_qr, alpha=0.5)\n",
    "ax.plot(x, mean_unnorm_qs, label='qs')\n",
    "ax.fill_between(x, mean_unnorm_qs-std_unnorm_qs, mean_unnorm_qs+std_unnorm_qs, alpha=0.5)\n",
    "print('Minimal scale btw. qv and qr: ', np.min(mean_unnorm_qv/mean_unnorm_qr))\n",
    "print('Minimal scale btw. qv and qs: ', np.min(mean_unnorm_qv/mean_unnorm_qs))\n",
    "\n",
    "ax.set_yscale('log')\n",
    "ax.set_ylim(1e-8, 1e-1)\n",
    "\n",
    "# ax.set_xlabel('Model level')\n",
    "ax.set_ylabel('Specific Tracer\\nConcentration / kg kg-1')\n",
    "\n",
    "ax.legend()\n",
    "\n",
    "ax = axes[1]\n",
    "\n",
    "mean_qv = np.mean(X_train[:,:,1], axis=0)\n",
    "std_qv = np.std(X_train[:,:,1], axis=0)\n",
    "mean_qr = np.mean(X_train[:,:,4], axis=0)\n",
    "std_qr = np.std(X_train[:,:,4], axis=0)\n",
    "mean_qs = np.mean(X_train[:,:,5], axis=0)\n",
    "std_qs = np.std(X_train[:,:,5], axis=0)\n",
    "x = range(1,len(mean_qv)+1)\n",
    "\n",
    "ax.plot(x, mean_qv, label='qv')\n",
    "ax.fill_between(x, mean_qv-std_qv, mean_qv+std_qv, alpha=0.5)\n",
    "ax.plot(x, mean_qr, label='qr')\n",
    "ax.fill_between(x, mean_qr-std_qr, mean_qr+std_qr, alpha=0.5)\n",
    "ax.plot(x, mean_qs, label='qs')\n",
    "ax.fill_between(x, mean_qs-std_qs, mean_qs+std_qs, alpha=0.5)\n",
    "print(np.min(mean_qv/mean_qs))\n",
    "# ax.yscale('log')\n",
    "# ax.ylim(1e-8, 1e-1)\n",
    "ax.set_xlabel('Model level')\n",
    "ax.set_ylabel('Normalized Specific\\nTracer Concentration')\n",
    "\n",
    "ax.legend()\n",
    "\n",
    "# fig.savefig('../../Figures/Pdfplots/Revision2_qvqrqs_mean-std_profiles.pdf')\n",
    "\n",
    "plt.show()"
   ]
  },
  {
   "cell_type": "code",
   "execution_count": null,
   "id": "faab2b29-ba5e-4e32-8019-e429e74c1cdd",
   "metadata": {},
   "outputs": [],
   "source": []
  }
 ],
 "metadata": {
  "kernelspec": {
   "display_name": "Py3.8 (conda)",
   "language": "python",
   "name": "py3.8"
  },
  "language_info": {
   "codemirror_mode": {
    "name": "ipython",
    "version": 3
   },
   "file_extension": ".py",
   "mimetype": "text/x-python",
   "name": "python",
   "nbconvert_exporter": "python",
   "pygments_lexer": "ipython3",
   "version": "3.8.15"
  }
 },
 "nbformat": 4,
 "nbformat_minor": 5
}
