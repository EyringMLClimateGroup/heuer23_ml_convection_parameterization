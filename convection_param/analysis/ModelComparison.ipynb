{
 "cells": [
  {
   "cell_type": "code",
   "execution_count": 1,
   "id": "17c42626",
   "metadata": {
    "tags": []
   },
   "outputs": [],
   "source": [
    "import numpy as np\n",
    "import numpy.random as npr\n",
    "import matplotlib.pyplot as plt\n",
    "import pandas as pd\n",
    "import xarray as xr\n",
    "import os\n",
    "from convection_param.HelperFuncs import *\n",
    "from convection_param.ConvParamFuncs import *\n",
    "from convection_param.GetTrainingData import *\n",
    "\n",
    "xr.set_options(display_style=\"html\");\n",
    "%load_ext autoreload\n",
    "%autoreload 2"
   ]
  },
  {
   "cell_type": "code",
   "execution_count": 2,
   "id": "38a4100d-1c7f-415b-ba8f-04fcdca230ba",
   "metadata": {
    "tags": []
   },
   "outputs": [
    {
     "name": "stdout",
     "output_type": "stream",
     "text": [
      "[ True  True  True  True  True  True  True  True  True]\n",
      "['X_train', 'X_val', 'X_test', 'Y_train', 'Y_val', 'Y_test', 'X_expl', 'Y_expl', 'train_coords', 'val_coords', 'test_coords']\n"
     ]
    }
   ],
   "source": [
    "data = np.load('../../local_data/TrainData/20230131-171851-R2B5_y13y16_vcg-fluxes_rho_fluct.npz')\n",
    "\n",
    "X_train, X_val, X_test, Y_train, Y_val, Y_test, X_expl, Y_expl = \\\n",
    "data['X_train'], data['X_val'], data['X_test'], data['Y_train'], data['Y_val'], data['Y_test'], data['X_expl'], data['Y_expl']\n",
    "\n",
    "# vars_to_neglect = ['qr','qi','qs']\n",
    "# vars_to_neglect = ['qr','qs']\n",
    "vars_to_neglect = []\n",
    "\n",
    "files = [f for f in os.scandir('../Models/Optimized/20230421-1613616samples/')]\n",
    "# files = [f for f in os.scandir('../Models/Optimized/20230504-1613616samples_woqrqs/')]\n",
    "\n",
    "vars_to_neglect_mask = ~np.isin(unique_unsorted([e[0] for e in X_expl]), vars_to_neglect)\n",
    "print(vars_to_neglect_mask)\n",
    "X_train = X_train[:,:,vars_to_neglect_mask]\n",
    "X_val = X_val[:,:,vars_to_neglect_mask]\n",
    "X_test = X_test[:,:,vars_to_neglect_mask]\n",
    "X_expl = np.array([e for e in X_expl if e[0] not in vars_to_neglect])\n",
    "\n",
    "print(data.files)"
   ]
  },
  {
   "cell_type": "code",
   "execution_count": 3,
   "id": "10cbf7c9-7621-48b6-802e-403e601b1a5f",
   "metadata": {
    "tags": []
   },
   "outputs": [],
   "source": [
    "to_drop = ['LassoLars']#[]#\n",
    "df_R2 = pd.concat([pd.read_csv(f.path, index_col=0) for f in files if 'df_R2_test' in f.name], axis=1)\n",
    "df_RMSE = pd.concat([pd.read_csv(f.path, index_col=0) for f in files if 'df_RMSE_test' in f.name], axis=1)\n",
    "sample_sizes = pd.DataFrame([1 for _ in range(len(df_R2.columns))], index=df_R2.columns)"
   ]
  },
  {
   "cell_type": "code",
   "execution_count": 4,
   "id": "89c48b6f-e709-471f-bc58-aa98fb15c654",
   "metadata": {
    "tags": []
   },
   "outputs": [],
   "source": [
    "models = list(df_R2.columns)"
   ]
  },
  {
   "cell_type": "code",
   "execution_count": 5,
   "id": "a83cd522-2727-49bd-b214-a0450973ced8",
   "metadata": {
    "tags": []
   },
   "outputs": [],
   "source": [
    "def repeat_list_until_length(orig_list, n):\n",
    "    n_reps = int(np.ceil(n/len(color_cycle)))\n",
    "    return (color_cycle*n_reps)[:n]\n",
    "    \n",
    "color_cycle = plt.rcParams['axes.prop_cycle'].by_key()['color']\n",
    "model_colors = np.array(repeat_list_until_length(color_cycle, len(models)))"
   ]
  },
  {
   "cell_type": "code",
   "execution_count": 6,
   "id": "4e6c6711-de31-4eb0-bc5b-d1cfeffa6427",
   "metadata": {
    "tags": []
   },
   "outputs": [
    {
     "data": {
      "text/plain": [
       "Unet      0.898259\n",
       "Resnet    0.894392\n",
       "Mlp       0.887575\n",
       "Conv      0.877186\n",
       "LinMlp    0.632055\n",
       "Name: R2, dtype: float64"
      ]
     },
     "execution_count": 6,
     "metadata": {},
     "output_type": "execute_result"
    }
   ],
   "source": [
    "json_file = '../DL_test_results.json'\n",
    "DL_R2_varw = pd.read_json(json_file, orient='index')['R2']\n",
    "DL_RMSE_varw = pd.read_json(json_file, orient='index')['RMSE']\n",
    "DL_R2_varw"
   ]
  },
  {
   "cell_type": "code",
   "execution_count": 12,
   "id": "fc1fe402-e074-4e6d-9cb5-3b680e576470",
   "metadata": {
    "tags": []
   },
   "outputs": [
    {
     "data": {
      "image/png": "[encoded data removed]",
      "text/plain": [
       "<Figure size 374.016x280.512 with 1 Axes>"
      ]
     },
     "metadata": {},
     "output_type": "display_data"
    }
   ],
   "source": [
    "%matplotlib inline\n",
    "from convection_param.setup_mpl_tex import setup_mpl_tex, set_size \n",
    "from mpl_toolkits.axes_grid1.inset_locator import mark_inset\n",
    "\n",
    "plt.style.use('default')\n",
    "setup_mpl_tex()\n",
    "\n",
    "def get_sample_size(idx):\n",
    "    if idx in sample_sizes.keys():\n",
    "        return sample_sizes[idx].item()\n",
    "    return 0.1#X_train.shape[0]\n",
    "        \n",
    "\n",
    "fig, ax = plt.subplots(constrained_layout=True, figsize=set_size('halfa4'))\n",
    "# av_R2 = df_R2.mean()\n",
    "var_Y_test = np.var(Y_test, axis=0)\n",
    "av_R2_varw = df_R2.apply(lambda x: np.average(x, weights=var_Y_test))\n",
    "# av_R2_varw = av_R2_varw.drop('LinearRegression')\n",
    "\n",
    "av_R2_varw = pd.concat([av_R2_varw, DL_R2_varw])\n",
    "av_R2_varw = av_R2_varw.drop(to_drop, axis=0).sort_values(ascending=False)\n",
    "\n",
    "# model_colors = np.array([plt.get_cmap('viridis')(score/(av_R2_varw.max()+0.1)) for score in av_R2_varw])\n",
    "def scale_to_0_1(x,x_min,x_max):\n",
    "    return (x-x_min)/(x_max-x_min)*0.9\n",
    "\n",
    "# model_colors = np.array([plt.get_cmap('viridis')(scale_to_0_1(score, av_R2_varw.min(), av_R2_varw.max())) for score in av_R2_varw])\n",
    "model_colors = np.array([plt.get_cmap('viridis')(i/len(av_R2_varw)) for i,score in enumerate(av_R2_varw)])[::-1]\n",
    "\n",
    "idx_sorted = np.argsort(av_R2_varw)[::-1]\n",
    "av_R2_varw.plot(kind='bar', ylabel=r'Average $R^2$', ax=ax, color=model_colors[idx_sorted])\n",
    "# df_R2.mean().sort_values(ascending=False).plot(kind='bar', ylabel=r'Average $R^2$', ax=ax)\n",
    "ax.axvline(3.5, ls='--', color='green')\n",
    "plt.xticks(rotation=45, ha='right')\n",
    "\n",
    "# inset axes....\n",
    "x1, x2, y1, y2 = -0.4, 3.4, 0.85, 0.91  # subregion of the original image\n",
    "axins = ax.inset_axes([5.3, 0.7, 4, 0.28], xlim=(x1, x2), ylim=(y1, y2), xticklabels=[], yticklabels=[], transform=ax.transData)\n",
    "av_R2_varw.iloc[:4].plot(kind='bar', yticks=[0.85,0.9], xticks=[], ax=axins, color=model_colors[idx_sorted])\n",
    "axins.set_xlim(-0.4,3.4)\n",
    "axins.set_yticklabels([0.85,0.9])\n",
    "\n",
    "xticklabels = ax.get_xticklabels()\n",
    "def map_if_in_keys(key, dictionary):\n",
    "    if key in dictionary.keys():\n",
    "        return dictionary[key]\n",
    "    else:\n",
    "        return key\n",
    "\n",
    "model_name_display_map = {'HistGradientBoostingRegressor': 'Grad. Boost',\n",
    "                          'MultiTaskElasticNet': 'Elastic Net',\n",
    "                          'MultiTaskLasso': 'Lasso',\n",
    "                          'ExtraTreesRegressor': 'Extra Trees',\n",
    "                          'RandomForestRegressor': 'Random Forest',\n",
    "                          'LinearRegression': 'Linear Regr.',\n",
    "                          'LinMlp': 'LinMLP',\n",
    "                          'Conv': 'CNN',\n",
    "                          'Unet': 'U-Net',\n",
    "                          'Resnet': 'ResNet',\n",
    "                          'Mlp': 'MLP'}\n",
    "\n",
    "for label in xticklabels:\n",
    "    label.set_text(map_if_in_keys(label.get_text(), model_name_display_map))\n",
    "ax.set_xticklabels(xticklabels)\n",
    "plt.ylim(0, 1)\n",
    "\n",
    "plt.show()"
   ]
  },
  {
   "cell_type": "code",
   "execution_count": 8,
   "id": "923cf871-19af-450a-9f8f-4ec1e498084b",
   "metadata": {
    "tags": []
   },
   "outputs": [
    {
     "data": {
      "text/plain": [
       "Unet                             0.898259\n",
       "Resnet                           0.894392\n",
       "Mlp                              0.887575\n",
       "Conv                             0.877186\n",
       "HistGradientBoostingRegressor    0.835200\n",
       "Ridge                            0.676826\n",
       "LinMlp                           0.632055\n",
       "MultiTaskLasso                   0.618083\n",
       "ExtraTreesRegressor              0.560225\n",
       "RandomForestRegressor            0.544887\n",
       "dtype: float64"
      ]
     },
     "execution_count": 8,
     "metadata": {},
     "output_type": "execute_result"
    }
   ],
   "source": [
    "av_R2_varw"
   ]
  },
  {
   "cell_type": "code",
   "execution_count": null,
   "id": "1956b019-6149-4d2b-bf8f-01427fd5edeb",
   "metadata": {},
   "outputs": [],
   "source": []
  }
 ],
 "metadata": {
  "kernelspec": {
   "display_name": "Py3.8 (conda)",
   "language": "python",
   "name": "py3.8"
  },
  "language_info": {
   "codemirror_mode": {
    "name": "ipython",
    "version": 3
   },
   "file_extension": ".py",
   "mimetype": "text/x-python",
   "name": "python",
   "nbconvert_exporter": "python",
   "pygments_lexer": "ipython3",
   "version": "3.8.15"
  }
 },
 "nbformat": 4,
 "nbformat_minor": 5
}
