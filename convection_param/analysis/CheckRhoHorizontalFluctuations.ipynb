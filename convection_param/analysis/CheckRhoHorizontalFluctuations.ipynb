{
 "cells": [
  {
   "cell_type": "code",
   "execution_count": 1,
   "id": "dd80fa63-1705-4666-900d-d77f26bcf301",
   "metadata": {},
   "outputs": [],
   "source": [
    "import numpy as np\n",
    "import matplotlib.pyplot as plt\n",
    "import xarray as xr\n",
    "import cartopy\n",
    "from convection_param.HelperFuncs import plot_icon_tricolor\n",
    "import os\n",
    "import re\n",
    "from matplotlib import colors\n",
    "\n",
    "%load_ext autoreload\n",
    "%autoreload 2\n",
    "\n",
    "base_path_project = '/work/bd1179/b309215'\n",
    "base_path_scratch = '/scratch/b/b309215'"
   ]
  },
  {
   "cell_type": "code",
   "execution_count": 2,
   "id": "d4f8624f-9f96-4761-af79-36a8ee8df91e",
   "metadata": {},
   "outputs": [],
   "source": [
    "orig_file = \"f'{base_path_scratch}/HErZ-NARVALII/DATA/2016082400/dei4_NARVALII_2016082400_fg_DOM01_ML_0001.nc\"\n",
    "orig_ds = xr.open_dataset(orig_file)\n",
    "z_ifc_approx_km = np.mean(orig_ds['z_ifc'].values, axis=1)/1e3\n",
    "z_fl_approx_km = (z_ifc_approx_km[1:] + z_ifc_approx_km[:-1]) /2"
   ]
  },
  {
   "cell_type": "code",
   "execution_count": 3,
   "id": "c2167950-a374-46a2-91d9-0cf29b26d874",
   "metadata": {},
   "outputs": [
    {
     "name": "stdout",
     "output_type": "stream",
     "text": [
      "8 8\n"
     ]
    }
   ],
   "source": [
    "files_lr = sorted([f.path for f in os.scandir('../../PreprocessPipeline/RhoFluctTest/') if not f.is_dir()])\n",
    "files_hr = sorted([f.path for f in os.scandir('../../PreprocessPipeline/RhoFluctTestHr/') if not f.is_dir()])\n",
    "print(len(files_lr), len(files_hr))"
   ]
  },
  {
   "cell_type": "code",
   "execution_count": null,
   "id": "2898fc80-8914-457e-95e3-fdc68594aa4d",
   "metadata": {},
   "outputs": [
    {
     "name": "stdout",
     "output_type": "stream",
     "text": [
      "(76, 4887488)\n",
      "0 :  30000.0 0.0\n",
      "1 :  28795.037 0.0\n",
      "2 :  27645.252 0.0\n",
      "3 :  26548.064 0.0\n",
      "4 :  25500.943 0.0\n",
      "5 :  24500.998 0.0\n",
      "6 :  23546.775 0.0\n",
      "7 :  22636.08 0.0\n",
      "8 :  21767.98 0.0\n",
      "9 :  20940.08 0.0\n",
      "10 :  20151.916 0.0\n",
      "11 :  19401.344 0.0\n",
      "12 :  18687.98 0.0\n",
      "13 :  18010.094 0.0\n",
      "14 :  17367.324 0.0\n",
      "15 :  16758.322 0.0\n",
      "16 :  16182.348 0.0\n",
      "17 :  15639.202 13.616211\n",
      "18 :  15126.996 16.658203\n",
      "19 :  14645.633 20.110352\n",
      "20 :  14194.305 23.969727\n",
      "21 :  13794.493 27.979492\n",
      "22 :  13394.732 32.631836\n",
      "23 :  12994.987 38.02832\n",
      "24 :  12595.291 44.28125\n",
      "25 :  12195.635 51.5166\n",
      "26 :  11796.028 59.881836\n",
      "27 :  11396.494 69.543945\n",
      "28 :  10997.019 80.68945\n",
      "29 :  10597.633 93.53418\n",
      "30 :  10198.334 108.32031\n",
      "31 :  9799.141 125.322266\n",
      "32 :  9400.066 144.84668\n",
      "33 :  9003.462 167.10156\n",
      "34 :  8616.745 191.90918\n",
      "35 :  8239.684 219.43457\n",
      "36 :  7872.1523 249.83496\n",
      "37 :  7514.0034 283.2583\n",
      "38 :  7165.05 319.8423\n",
      "39 :  6825.207 360.3667\n",
      "40 :  6494.3315 406.60986\n",
      "41 :  6172.283 457.26758\n",
      "42 :  5858.96 512.8779\n",
      "43 :  5554.268 573.2456\n",
      "44 :  5258.0703 638.5054\n",
      "45 :  4970.2744 708.7583\n",
      "46 :  4690.809 784.063\n",
      "47 :  4419.59 864.43164\n",
      "48 :  4156.5166 960.97754\n",
      "49 :  3901.538 1073.8425\n",
      "50 :  3654.5586 1199.605\n",
      "51 :  3415.5405 1337.5652\n",
      "52 :  3184.4167 1472.0759\n",
      "53 :  2961.139 1603.1143\n",
      "54 :  2745.66 1730.6528\n",
      "55 :  2537.9358 1854.6575\n",
      "56 :  2337.943 1975.0867\n",
      "57 :  2145.6714 2091.893\n",
      "58 :  1961.1136 2205.0195\n",
      "59 :  1784.2582 2314.4014\n",
      "60 :  1615.13 2419.9634\n",
      "61 :  1453.7491 2521.6206\n",
      "62 :  1300.1658 2619.2744\n",
      "63 :  1154.4452 2712.811\n",
      "64 :  1016.6742 2802.101\n",
      "65 :  886.9639 2886.9927\n",
      "66 :  765.4638 2967.3088\n",
      "67 :  652.37274 3042.8403\n",
      "68 :  547.9254 3113.3364\n",
      "69 :  452.4426 3178.2803\n",
      "70 :  366.3386 3236.8025\n",
      "71 :  290.1755 3288.52\n",
      "72 :  224.73972 3332.8984\n",
      "73 :  171.22908 3367.2473\n",
      "74 :  131.92563 3387.274\n",
      "75 :  111.925514 3387.274\n"
     ]
    }
   ],
   "source": [
    "z_ifc = test_ds.z_ifc.values\n",
    "print(z_ifc.shape)\n",
    "for i,layer in enumerate(z_ifc):\n",
    "    print(i, ': ', layer.mean(), layer.max() - layer.min())"
   ]
  },
  {
   "cell_type": "code",
   "execution_count": null,
   "id": "1e9ae13a-74b8-4291-be2c-6f0049257e5f",
   "metadata": {},
   "outputs": [],
   "source": [
    "test_ds = xr.open_dataset(f'{base_path_scratch}/HErZ-NARVALII_WGrid/DATA/2013123000/dei4_NARVALI_2013123000_fg_DOM01_ML_0000.nc')\n",
    "\n",
    "fig, ax = plt.subplots(subplot_kw=dict(projection=cartopy.crs.PlateCarree()), figsize=(16,8))\n",
    "\n",
    "mapplot = plot_icon_tricolor(ax, test_ds.clon_bnds.values, test_ds.clat_bnds.values, test_ds.z_ifc.values[0], cmap='bwr')#, norm=colors.TwoSlopeNorm(0))\n",
    "\n",
    "ax.coastlines()\n",
    "ax.gridlines(draw_labels=True)\n",
    "fig.colorbar(mapplot, orientation='horizontal', aspect=30, pad=0.1)\n",
    "\n",
    "plt.show()"
   ]
  },
  {
   "cell_type": "code",
   "execution_count": 10,
   "id": "b2949312-e337-4e8b-9350-e12e14be2f75",
   "metadata": {},
   "outputs": [
    {
     "name": "stdout",
     "output_type": "stream",
     "text": [
      "Date: 2013122300, hour: 0016\n",
      "Vertical lvl: 0\n",
      "Vertical lvl: 40\n",
      "Vertical lvl: 70\n",
      "Vertical lvl: 74\n",
      "Date: 2013122300, hour: 0034\n",
      "Vertical lvl: 0\n",
      "Vertical lvl: 40\n",
      "Vertical lvl: 70\n",
      "Vertical lvl: 74\n",
      "Date: 2013122500, hour: 0012\n",
      "Vertical lvl: 0\n",
      "Vertical lvl: 40\n",
      "Vertical lvl: 70\n"
     ]
    },
    {
     "name": "stderr",
     "output_type": "stream",
     "text": [
      "/tmp/ipykernel_2545867/4104515226.py:26: RuntimeWarning: More than 20 figures have been opened. Figures created through the pyplot interface (`matplotlib.pyplot.figure`) are retained until explicitly closed and may consume too much memory. (To control this warning, see the rcParam `figure.max_open_warning`). Consider using `matplotlib.pyplot.close()`.\n",
      "  fig, ax = plt.subplots(subplot_kw=dict(projection=cartopy.crs.PlateCarree()), figsize=(16,8))\n"
     ]
    },
    {
     "name": "stdout",
     "output_type": "stream",
     "text": [
      "Vertical lvl: 74\n",
      "Date: 2013122500, hour: 0028\n",
      "Vertical lvl: 0\n",
      "Vertical lvl: 40\n",
      "Vertical lvl: 70\n",
      "Vertical lvl: 74\n",
      "Date: 2013122600, hour: 0016\n",
      "Vertical lvl: 0\n",
      "Vertical lvl: 40\n",
      "Vertical lvl: 70\n",
      "Vertical lvl: 74\n",
      "Date: 2013122600, hour: 0019\n",
      "Vertical lvl: 0\n",
      "Vertical lvl: 40\n",
      "Vertical lvl: 70\n",
      "Vertical lvl: 74\n",
      "Date: 2013122700, hour: 0014\n",
      "Vertical lvl: 0\n",
      "Vertical lvl: 40\n",
      "Vertical lvl: 70\n",
      "Vertical lvl: 74\n",
      "Date: 2013123000, hour: 0002\n",
      "Vertical lvl: 0\n",
      "Vertical lvl: 40\n",
      "Vertical lvl: 70\n",
      "Vertical lvl: 74\n"
     ]
    },
    {
     "data": {
      "text/plain": [
       "<Figure size 1600x800 with 0 Axes>"
      ]
     },
     "metadata": {},
     "output_type": "display_data"
    },
    {
     "data": {
      "text/plain": [
       "<Figure size 1600x800 with 0 Axes>"
      ]
     },
     "metadata": {},
     "output_type": "display_data"
    },
    {
     "data": {
      "text/plain": [
       "<Figure size 1600x800 with 0 Axes>"
      ]
     },
     "metadata": {},
     "output_type": "display_data"
    },
    {
     "data": {
      "text/plain": [
       "<Figure size 1600x800 with 0 Axes>"
      ]
     },
     "metadata": {},
     "output_type": "display_data"
    },
    {
     "data": {
      "text/plain": [
       "<Figure size 1600x800 with 0 Axes>"
      ]
     },
     "metadata": {},
     "output_type": "display_data"
    },
    {
     "data": {
      "text/plain": [
       "<Figure size 1600x800 with 0 Axes>"
      ]
     },
     "metadata": {},
     "output_type": "display_data"
    },
    {
     "data": {
      "text/plain": [
       "<Figure size 1600x800 with 0 Axes>"
      ]
     },
     "metadata": {},
     "output_type": "display_data"
    },
    {
     "data": {
      "text/plain": [
       "<Figure size 1600x800 with 0 Axes>"
      ]
     },
     "metadata": {},
     "output_type": "display_data"
    },
    {
     "data": {
      "text/plain": [
       "<Figure size 1600x800 with 0 Axes>"
      ]
     },
     "metadata": {},
     "output_type": "display_data"
    },
    {
     "data": {
      "text/plain": [
       "<Figure size 1600x800 with 0 Axes>"
      ]
     },
     "metadata": {},
     "output_type": "display_data"
    },
    {
     "data": {
      "text/plain": [
       "<Figure size 1600x800 with 0 Axes>"
      ]
     },
     "metadata": {},
     "output_type": "display_data"
    },
    {
     "data": {
      "text/plain": [
       "<Figure size 1600x800 with 0 Axes>"
      ]
     },
     "metadata": {},
     "output_type": "display_data"
    },
    {
     "data": {
      "text/plain": [
       "<Figure size 1600x800 with 0 Axes>"
      ]
     },
     "metadata": {},
     "output_type": "display_data"
    },
    {
     "data": {
      "text/plain": [
       "<Figure size 1600x800 with 0 Axes>"
      ]
     },
     "metadata": {},
     "output_type": "display_data"
    },
    {
     "data": {
      "text/plain": [
       "<Figure size 1600x800 with 0 Axes>"
      ]
     },
     "metadata": {},
     "output_type": "display_data"
    },
    {
     "data": {
      "text/plain": [
       "<Figure size 1600x800 with 0 Axes>"
      ]
     },
     "metadata": {},
     "output_type": "display_data"
    },
    {
     "data": {
      "text/plain": [
       "<Figure size 1600x800 with 0 Axes>"
      ]
     },
     "metadata": {},
     "output_type": "display_data"
    },
    {
     "data": {
      "text/plain": [
       "<Figure size 1600x800 with 0 Axes>"
      ]
     },
     "metadata": {},
     "output_type": "display_data"
    },
    {
     "data": {
      "text/plain": [
       "<Figure size 1600x800 with 0 Axes>"
      ]
     },
     "metadata": {},
     "output_type": "display_data"
    },
    {
     "data": {
      "text/plain": [
       "<Figure size 1600x800 with 0 Axes>"
      ]
     },
     "metadata": {},
     "output_type": "display_data"
    },
    {
     "data": {
      "text/plain": [
       "<Figure size 1600x800 with 0 Axes>"
      ]
     },
     "metadata": {},
     "output_type": "display_data"
    },
    {
     "data": {
      "text/plain": [
       "<Figure size 1600x800 with 0 Axes>"
      ]
     },
     "metadata": {},
     "output_type": "display_data"
    },
    {
     "data": {
      "text/plain": [
       "<Figure size 1600x800 with 0 Axes>"
      ]
     },
     "metadata": {},
     "output_type": "display_data"
    },
    {
     "data": {
      "text/plain": [
       "<Figure size 1600x800 with 0 Axes>"
      ]
     },
     "metadata": {},
     "output_type": "display_data"
    },
    {
     "data": {
      "text/plain": [
       "<Figure size 1600x800 with 0 Axes>"
      ]
     },
     "metadata": {},
     "output_type": "display_data"
    },
    {
     "data": {
      "text/plain": [
       "<Figure size 1600x800 with 0 Axes>"
      ]
     },
     "metadata": {},
     "output_type": "display_data"
    },
    {
     "data": {
      "text/plain": [
       "<Figure size 1600x800 with 0 Axes>"
      ]
     },
     "metadata": {},
     "output_type": "display_data"
    },
    {
     "data": {
      "text/plain": [
       "<Figure size 1600x800 with 0 Axes>"
      ]
     },
     "metadata": {},
     "output_type": "display_data"
    },
    {
     "data": {
      "text/plain": [
       "<Figure size 1600x800 with 0 Axes>"
      ]
     },
     "metadata": {},
     "output_type": "display_data"
    },
    {
     "data": {
      "text/plain": [
       "<Figure size 1600x800 with 0 Axes>"
      ]
     },
     "metadata": {},
     "output_type": "display_data"
    },
    {
     "data": {
      "text/plain": [
       "<Figure size 1600x800 with 0 Axes>"
      ]
     },
     "metadata": {},
     "output_type": "display_data"
    },
    {
     "data": {
      "text/plain": [
       "<Figure size 1600x800 with 0 Axes>"
      ]
     },
     "metadata": {},
     "output_type": "display_data"
    },
    {
     "data": {
      "text/plain": [
       "<Figure size 1600x800 with 0 Axes>"
      ]
     },
     "metadata": {},
     "output_type": "display_data"
    },
    {
     "data": {
      "text/plain": [
       "<Figure size 1600x800 with 0 Axes>"
      ]
     },
     "metadata": {},
     "output_type": "display_data"
    },
    {
     "data": {
      "text/plain": [
       "<Figure size 1600x800 with 0 Axes>"
      ]
     },
     "metadata": {},
     "output_type": "display_data"
    },
    {
     "data": {
      "text/plain": [
       "<Figure size 1600x800 with 0 Axes>"
      ]
     },
     "metadata": {},
     "output_type": "display_data"
    },
    {
     "data": {
      "text/plain": [
       "<Figure size 1600x800 with 0 Axes>"
      ]
     },
     "metadata": {},
     "output_type": "display_data"
    },
    {
     "data": {
      "text/plain": [
       "<Figure size 1600x800 with 0 Axes>"
      ]
     },
     "metadata": {},
     "output_type": "display_data"
    },
    {
     "data": {
      "text/plain": [
       "<Figure size 1600x800 with 0 Axes>"
      ]
     },
     "metadata": {},
     "output_type": "display_data"
    },
    {
     "data": {
      "text/plain": [
       "<Figure size 1600x800 with 0 Axes>"
      ]
     },
     "metadata": {},
     "output_type": "display_data"
    },
    {
     "data": {
      "text/plain": [
       "<Figure size 1600x800 with 0 Axes>"
      ]
     },
     "metadata": {},
     "output_type": "display_data"
    },
    {
     "data": {
      "text/plain": [
       "<Figure size 1600x800 with 0 Axes>"
      ]
     },
     "metadata": {},
     "output_type": "display_data"
    },
    {
     "data": {
      "text/plain": [
       "<Figure size 1600x800 with 0 Axes>"
      ]
     },
     "metadata": {},
     "output_type": "display_data"
    },
    {
     "data": {
      "text/plain": [
       "<Figure size 1600x800 with 0 Axes>"
      ]
     },
     "metadata": {},
     "output_type": "display_data"
    },
    {
     "data": {
      "text/plain": [
       "<Figure size 1600x800 with 0 Axes>"
      ]
     },
     "metadata": {},
     "output_type": "display_data"
    },
    {
     "data": {
      "text/plain": [
       "<Figure size 1600x800 with 0 Axes>"
      ]
     },
     "metadata": {},
     "output_type": "display_data"
    },
    {
     "data": {
      "text/plain": [
       "<Figure size 1600x800 with 0 Axes>"
      ]
     },
     "metadata": {},
     "output_type": "display_data"
    },
    {
     "data": {
      "text/plain": [
       "<Figure size 1600x800 with 0 Axes>"
      ]
     },
     "metadata": {},
     "output_type": "display_data"
    },
    {
     "data": {
      "text/plain": [
       "<Figure size 1600x800 with 0 Axes>"
      ]
     },
     "metadata": {},
     "output_type": "display_data"
    },
    {
     "data": {
      "text/plain": [
       "<Figure size 1600x800 with 0 Axes>"
      ]
     },
     "metadata": {},
     "output_type": "display_data"
    },
    {
     "data": {
      "text/plain": [
       "<Figure size 1600x800 with 0 Axes>"
      ]
     },
     "metadata": {},
     "output_type": "display_data"
    },
    {
     "data": {
      "text/plain": [
       "<Figure size 1600x800 with 0 Axes>"
      ]
     },
     "metadata": {},
     "output_type": "display_data"
    },
    {
     "data": {
      "text/plain": [
       "<Figure size 1600x800 with 0 Axes>"
      ]
     },
     "metadata": {},
     "output_type": "display_data"
    },
    {
     "data": {
      "text/plain": [
       "<Figure size 1600x800 with 0 Axes>"
      ]
     },
     "metadata": {},
     "output_type": "display_data"
    },
    {
     "data": {
      "text/plain": [
       "<Figure size 1600x800 with 0 Axes>"
      ]
     },
     "metadata": {},
     "output_type": "display_data"
    },
    {
     "data": {
      "text/plain": [
       "<Figure size 1600x800 with 0 Axes>"
      ]
     },
     "metadata": {},
     "output_type": "display_data"
    },
    {
     "data": {
      "text/plain": [
       "<Figure size 1600x800 with 0 Axes>"
      ]
     },
     "metadata": {},
     "output_type": "display_data"
    },
    {
     "data": {
      "text/plain": [
       "<Figure size 1600x800 with 0 Axes>"
      ]
     },
     "metadata": {},
     "output_type": "display_data"
    },
    {
     "data": {
      "text/plain": [
       "<Figure size 1600x800 with 0 Axes>"
      ]
     },
     "metadata": {},
     "output_type": "display_data"
    },
    {
     "data": {
      "text/plain": [
       "<Figure size 1600x800 with 0 Axes>"
      ]
     },
     "metadata": {},
     "output_type": "display_data"
    },
    {
     "data": {
      "text/plain": [
       "<Figure size 1600x800 with 0 Axes>"
      ]
     },
     "metadata": {},
     "output_type": "display_data"
    },
    {
     "data": {
      "text/plain": [
       "<Figure size 1600x800 with 0 Axes>"
      ]
     },
     "metadata": {},
     "output_type": "display_data"
    },
    {
     "data": {
      "text/plain": [
       "<Figure size 1600x800 with 0 Axes>"
      ]
     },
     "metadata": {},
     "output_type": "display_data"
    },
    {
     "data": {
      "text/plain": [
       "<Figure size 1600x800 with 0 Axes>"
      ]
     },
     "metadata": {},
     "output_type": "display_data"
    }
   ],
   "source": [
    "base_fig_path = 'Figures/rho_fluctuations'\n",
    "vertical_layers = [0,40, 70, 74]\n",
    "\n",
    "for file_lr, file_hr in list(zip(files_lr, files_hr))[:]:\n",
    "    date = re.search('_(201\\d\\d\\d\\d\\d00)_', file_hr).group(1)\n",
    "    hr = re.search('_(00\\d\\d)_', file_hr).group(1)\n",
    "    print(f'Date: {date}, hour: {hr}')\n",
    "    fig_path = os.path.join(base_fig_path, date, hr)\n",
    "    os.makedirs(fig_path, exist_ok=True)\n",
    "\n",
    "    lr_ds = xr.open_dataset(file_lr)\n",
    "    lr_ds = lr_ds.rename({'rho_e': 'rho'})\n",
    "    hr_ds = xr.open_dataset(file_hr)\n",
    "    \n",
    "    for vlvl in vertical_layers:\n",
    "        print(f'Vertical lvl: {vlvl}')\n",
    "        rho_lr_lvl_vals = lr_ds.rho.values.squeeze()[vlvl]\n",
    "        rho_hr_lvl_vals = hr_ds.rho.values.squeeze()[vlvl]\n",
    "        \n",
    "        current_cmap = plt.get_cmap(name='seismic').copy()\n",
    "        current_cmap.set_bad(color='#bcb5bb')\n",
    "\n",
    "        # Plot absolute deviations\n",
    "        rho_fluct = (rho_hr_lvl_vals - rho_lr_lvl_vals)\n",
    "\n",
    "        fig, ax = plt.subplots(subplot_kw=dict(projection=cartopy.crs.PlateCarree()), figsize=(16,8))\n",
    "        mapplot = plot_icon_tricolor(ax, lr_ds.clon_bnds.values, lr_ds.clat_bnds.values, rho_fluct, cmap=current_cmap, norm=colors.TwoSlopeNorm(0))\n",
    "\n",
    "        ax.coastlines()\n",
    "        ax.gridlines(draw_labels=True)\n",
    "        fig.colorbar(mapplot, orientation='horizontal', aspect=30, pad=0.1, label=r'$\\rho - \\bar\\rho$ / kg m-3')\n",
    "        fig.suptitle(fr'$\\rho^\\prime$ on vertical level {vlvl} ({z_fl_approx_km[vlvl]} km)')\n",
    "        fig.savefig(os.path.join(fig_path, f'rho_fluct_abs_lvl{vlvl}.jpg'), dpi=150)\n",
    "        plt.clf()\n",
    "\n",
    "        # Plot relative deviations\n",
    "        rho_fluct = rho_fluct / rho_lr_lvl_vals\n",
    "        fig, ax = plt.subplots(subplot_kw=dict(projection=cartopy.crs.PlateCarree()), figsize=(16,8))\n",
    "        mapplot = plot_icon_tricolor(ax, lr_ds.clon_bnds.values, lr_ds.clat_bnds.values, rho_fluct, cmap=current_cmap, norm=colors.TwoSlopeNorm(0))\n",
    "\n",
    "        ax.coastlines()\n",
    "        ax.gridlines(draw_labels=True)\n",
    "        fig.colorbar(mapplot, orientation='horizontal', aspect=30, pad=0.1, label=r'$(\\rho - \\bar\\rho)/\\bar\\rho$')\n",
    "        fig.suptitle(fr'$\\rho^\\prime / \\bar\\rho$ on vertical level {vlvl} ({z_fl_approx_km[vlvl]} km)')\n",
    "        fig.savefig(os.path.join(fig_path, f'rho_fluct_rel_lvl{vlvl}.jpg'), dpi=150)\n",
    "        plt.clf()\n",
    "        del rho_fluct\n",
    "\n",
    "        for rho_vals, resolution in zip([rho_lr_lvl_vals, rho_hr_lvl_vals], ['lowres', 'highres']):\n",
    "            fig, ax = plt.subplots(subplot_kw=dict(projection=cartopy.crs.PlateCarree()), figsize=(16,8))\n",
    "\n",
    "            current_cmap = plt.get_cmap(name='hot_r').copy()\n",
    "            current_cmap.set_bad(color='#bcb5bb')\n",
    "            mapplot = plot_icon_tricolor(ax, lr_ds.clon_bnds.values, lr_ds.clat_bnds.values, rho_vals, cmap=current_cmap)\n",
    "\n",
    "            ax.coastlines()\n",
    "            ax.gridlines(draw_labels=True)\n",
    "            fig.colorbar(mapplot, orientation='horizontal', aspect=30, pad=0.1, label=r'$\\rho$ / kg m-3')\n",
    "            fig.suptitle(f'{resolution} on vertical level {vlvl} ({z_fl_approx_km[vlvl]} km)')\n",
    "            fig.savefig(os.path.join(fig_path, f'{resolution}_lvl{vlvl}.jpg'), dpi=150)\n",
    "            plt.clf()\n",
    "        \n",
    "        del rho_lr_lvl_vals\n",
    "        del rho_hr_lvl_vals\n",
    "    del lr_ds\n",
    "    del hr_ds\n",
    "\n",
    "    # plt.show()\n",
    "    # break"
   ]
  },
  {
   "cell_type": "markdown",
   "id": "8f5401f4-5f8a-4633-ab03-5c3f58418690",
   "metadata": {},
   "source": [
    "# Comparison with/without neglection of horizontal fluctuations of rho"
   ]
  },
  {
   "cell_type": "code",
   "execution_count": 3,
   "id": "2925cd0f-4aaa-4d07-956d-63496116b323",
   "metadata": {},
   "outputs": [],
   "source": [
    "from glob import glob\n",
    "import numpy.random as npr\n",
    "\n",
    "files_old = np.array(sorted(glob(f'{base_path_project}/heuer23_ml_convection_parameterization/ProcessedRhoFluctNeglect/2013120[1-9]00/ParamPrep/LowRes/R02B05/*.nc')))\n",
    "files_new = np.array(sorted(glob(f'{base_path_project}/heuer23_ml_convection_parameterization/Processed/2013120[1-9]00/ParamPrep/LowRes/R02B05/*.nc')))"
   ]
  },
  {
   "cell_type": "code",
   "execution_count": 4,
   "id": "0bb41740-f1b2-47ca-adec-050ea03904c0",
   "metadata": {},
   "outputs": [
    {
     "name": "stdout",
     "output_type": "stream",
     "text": [
      "333\n",
      "333\n"
     ]
    }
   ],
   "source": [
    "print(len(files_old))\n",
    "print(len(files_new))"
   ]
  },
  {
   "cell_type": "code",
   "execution_count": 32,
   "id": "aa491823-b113-4cea-ac18-2cbfbb0194a9",
   "metadata": {},
   "outputs": [],
   "source": [
    "rnd_idx = npr.choice(len(files_old), 2)\n",
    "files_old_sample = files_old[rnd_idx]\n",
    "files_new_sample = files_new[rnd_idx]"
   ]
  },
  {
   "cell_type": "code",
   "execution_count": 34,
   "id": "c43cc508-2be5-4739-bf01-1629adf358e3",
   "metadata": {},
   "outputs": [
    {
     "name": "stdout",
     "output_type": "stream",
     "text": [
      "['/work/bd1179/b309215/heuer23_ml_convection_parameterization/ProcessedRhoFluctNeglect/2013120600/ParamPrep/LowRes/R02B05/dei4_NARVALI_2013120600_fg_DOM01_ML_0003_conv_out_R02B05_m2degr.nc', '/work/bd1179/b309215/heuer23_ml_convection_parameterization/ProcessedRhoFluctNeglect/2013120400/ParamPrep/LowRes/R02B05/dei4_NARVALI_2013120400_fg_DOM01_ML_0013_conv_out_R02B05_m2degr.nc']\n",
      "['/work/bd1179/b309215/heuer23_ml_convection_parameterization/Processed/2013120600/ParamPrep/LowRes/R02B05/dei4_NARVALI_2013120600_fg_DOM01_ML_0003_conv_out_R02B05_m2degr.nc', '/work/bd1179/b309215/heuer23_ml_convection_parameterization/Processed/2013120400/ParamPrep/LowRes/R02B05/dei4_NARVALI_2013120400_fg_DOM01_ML_0013_conv_out_R02B05_m2degr.nc']\n"
     ]
    }
   ],
   "source": [
    "files_old_sample = [f'{base_path_project}heuer23_ml_convection_parameterization/ProcessedRhoFluctNeglect/2013120600/ParamPrep/LowRes/R02B05/dei4_NARVALI_2013120600_fg_DOM01_ML_0003_conv_out_R02B05_m2degr.nc', f'{base_path_project}heuer23_ml_convection_parameterization/ProcessedRhoFluctNeglect/2013120400/ParamPrep/LowRes/R02B05/dei4_NARVALI_2013120400_fg_DOM01_ML_0013_conv_out_R02B05_m2degr.nc']\n",
    "files_new_sample = [f'{base_path_project}/heuer23_ml_convection_parameterization/Processed/2013120600/ParamPrep/LowRes/R02B05/dei4_NARVALI_2013120600_fg_DOM01_ML_0003_conv_out_R02B05_m2degr.nc', f'{base_path_project}/heuer23_ml_convection_parameterization/Processed/2013120400/ParamPrep/LowRes/R02B05/dei4_NARVALI_2013120400_fg_DOM01_ML_0013_conv_out_R02B05_m2degr.nc']\n",
    "print(files_old_sample)\n",
    "print(files_new_sample)"
   ]
  },
  {
   "cell_type": "code",
   "execution_count": 39,
   "id": "440b09a5-be1e-407a-a235-cd70e5ab6ce9",
   "metadata": {},
   "outputs": [],
   "source": [
    "# xr.open_dataset(files_new_sample[0])"
   ]
  },
  {
   "cell_type": "code",
   "execution_count": 40,
   "id": "67850ff7-a969-4eee-8e47-f48b96e7ebf3",
   "metadata": {},
   "outputs": [
    {
     "data": {
      "text/plain": [
       "<Figure size 1600x1600 with 0 Axes>"
      ]
     },
     "metadata": {},
     "output_type": "display_data"
    },
    {
     "data": {
      "text/plain": [
       "<Figure size 1600x1600 with 0 Axes>"
      ]
     },
     "metadata": {},
     "output_type": "display_data"
    },
    {
     "data": {
      "text/plain": [
       "<Figure size 1600x1600 with 0 Axes>"
      ]
     },
     "metadata": {},
     "output_type": "display_data"
    },
    {
     "data": {
      "text/plain": [
       "<Figure size 1600x1600 with 0 Axes>"
      ]
     },
     "metadata": {},
     "output_type": "display_data"
    },
    {
     "data": {
      "text/plain": [
       "<Figure size 1600x1600 with 0 Axes>"
      ]
     },
     "metadata": {},
     "output_type": "display_data"
    },
    {
     "data": {
      "text/plain": [
       "<Figure size 1600x1600 with 0 Axes>"
      ]
     },
     "metadata": {},
     "output_type": "display_data"
    },
    {
     "data": {
      "text/plain": [
       "<Figure size 1600x1600 with 0 Axes>"
      ]
     },
     "metadata": {},
     "output_type": "display_data"
    },
    {
     "data": {
      "text/plain": [
       "<Figure size 1600x1600 with 0 Axes>"
      ]
     },
     "metadata": {},
     "output_type": "display_data"
    },
    {
     "data": {
      "text/plain": [
       "<Figure size 1600x1600 with 0 Axes>"
      ]
     },
     "metadata": {},
     "output_type": "display_data"
    },
    {
     "data": {
      "text/plain": [
       "<Figure size 1600x1600 with 0 Axes>"
      ]
     },
     "metadata": {},
     "output_type": "display_data"
    }
   ],
   "source": [
    "vertical_layers = [0, 10, 40, 70, 74]\n",
    "variables = ['wu','wv']\n",
    "# variables = ['wh']\n",
    "\n",
    "for f_old, f_new in zip(files_old_sample, files_new_sample):\n",
    "    date = re.search('_(201\\d\\d\\d\\d\\d00)_', f_new).group(1)\n",
    "    hr = re.search('_(00\\d\\d)_', f_new).group(1)\n",
    "    ds_old = xr.open_dataset(f_old).dropna('cell')\n",
    "    ds_new = xr.open_dataset(f_new).dropna('cell')\n",
    "    for var in variables:\n",
    "        # var_old = ds_old[var].values\n",
    "        var_old = ds_new[var].values\n",
    "        rhovar_new = ds_new['rho'+var].values\n",
    "        rho_new = ds_new.rho.values\n",
    "        var_new = rhovar_new/rho_new\n",
    "\n",
    "        var_diff = var_new - var_old\n",
    "        for vlvl in vertical_layers:\n",
    "            fig, (ax2, ax) = plt.subplots(2,1,subplot_kw=dict(projection=cartopy.crs.PlateCarree()), figsize=(16,16))\n",
    "            mapplot = plot_icon_tricolor(ax, ds_new.clon_bnds.values, ds_new.clat_bnds.values, var_diff.squeeze()[vlvl], cmap='bwr', norm = colors.TwoSlopeNorm(0))\n",
    "            mapplot2 = plot_icon_tricolor(ax2, ds_new.clon_bnds.values, ds_new.clat_bnds.values, var_old.squeeze()[vlvl], cmap='bwr', norm = colors.TwoSlopeNorm(0))\n",
    "            ax.coastlines()\n",
    "            ax2.coastlines()\n",
    "            ax.gridlines(draw_labels=True)\n",
    "            ax2.gridlines(draw_labels=True)\n",
    "            fig.colorbar(mapplot, ax=ax, orientation='horizontal', aspect=30, pad=0.1, label=rf'$\\frac{{\\overline{{{\"rho\"+var}}}}}{{\\overline{{rho}}}} - \\overline{{{var}}}$ / m2 s-2')\n",
    "            # fig.colorbar(mapplot, ax=ax, orientation='horizontal', aspect=30, pad=0.1, label=rf'$\\frac{{\\overline{{{\"rho\"+var}}}}}{{\\overline{{rho}}}} - \\overline{{{var}}}$ / m s-1 J kg-1')\n",
    "            fig.colorbar(mapplot2, ax=ax2, orientation='horizontal', aspect=30, pad=0.1, label=rf'$\\overline{{{var}}}$ / m2 s-2')\n",
    "            # fig.colorbar(mapplot2, ax=ax2, orientation='horizontal', aspect=30, pad=0.1, label=rf'$\\overline{{{var}}}$ / m s-1 J kg-1')\n",
    "            # fig.colorbar(mapplot, orientation='horizontal', aspect=30, pad=0.1, label=r'$(\\frac{\\overline{rhovar}}{\\overline{rho}} - \\overline{var}) / \\overline{var}$')\n",
    "            fig.suptitle(f'{date[:-2]} - {hr}h - lvl: {vlvl+1} - var: {var}')\n",
    "            abs_values_lvl = np.abs(var_diff.squeeze()[vlvl] / var_old.squeeze()[vlvl])\n",
    "            ax.set_title(f'Average absolute percentual difference: {np.mean(abs_values_lvl)*100:.2f}%, Median absolute percentual difference: {np.median(abs_values_lvl)*100:.2f}%')\n",
    "            fig.savefig(f'Figures/rho_fluct_Y_influence/{date[:-2]}_{hr}h_lvl-{vlvl+1}_var{var}.jpg', dpi=150)\n",
    "            plt.clf()\n",
    "            # plt.show()\n",
    "\n",
    "    # plt.show()"
   ]
  },
  {
   "cell_type": "code",
   "execution_count": null,
   "id": "5e8f75a4-e04d-401f-896e-14cc0a25edb0",
   "metadata": {},
   "outputs": [],
   "source": []
  }
 ],
 "metadata": {
  "kernelspec": {
   "display_name": "Py3.8 (conda)",
   "language": "python",
   "name": "py3.8"
  },
  "language_info": {
   "codemirror_mode": {
    "name": "ipython",
    "version": 3
   },
   "file_extension": ".py",
   "mimetype": "text/x-python",
   "name": "python",
   "nbconvert_exporter": "python",
   "pygments_lexer": "ipython3",
   "version": "3.8.15"
  }
 },
 "nbformat": 4,
 "nbformat_minor": 5
}
